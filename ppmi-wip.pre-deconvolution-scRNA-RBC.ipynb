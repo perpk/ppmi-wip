{
 "cells": [
  {
   "metadata": {},
   "cell_type": "markdown",
   "source": [
    "# GSE184916\n",
    "### Create a file for CIBERSORTx to deconvolute RBC proportions from the PPMI-Bulk RNASeq Dataset"
   ],
   "id": "66c7afa5c3dc6701"
  },
  {
   "metadata": {
    "ExecuteTime": {
     "end_time": "2025-04-03T18:14:54.289890Z",
     "start_time": "2025-04-03T18:14:50.644911Z"
    }
   },
   "cell_type": "code",
   "source": "!pip install scipy",
   "id": "3b691df667590a1d",
   "outputs": [
    {
     "name": "stdout",
     "output_type": "stream",
     "text": [
      "Requirement already satisfied: scipy in /opt/anaconda3/lib/python3.12/site-packages (1.13.1)\r\n",
      "Requirement already satisfied: numpy<2.3,>=1.22.4 in /opt/anaconda3/lib/python3.12/site-packages (from scipy) (1.26.4)\r\n"
     ]
    }
   ],
   "execution_count": 20
  },
  {
   "metadata": {
    "ExecuteTime": {
     "end_time": "2025-04-03T18:07:40.513431Z",
     "start_time": "2025-04-03T18:07:35.649200Z"
    }
   },
   "cell_type": "code",
   "source": "import scanpy as sc",
   "id": "dee1e81e0a2522e9",
   "outputs": [],
   "execution_count": 8
  },
  {
   "metadata": {
    "ExecuteTime": {
     "end_time": "2025-04-03T18:11:50.992541Z",
     "start_time": "2025-04-03T18:11:50.843070Z"
    }
   },
   "cell_type": "code",
   "source": "adata = sc.read_10x_mtx(\"/Users/kpax/Documents/aep/study/MSC/lab/PPMI_Project_133_RNASeq/GSE184916\")",
   "id": "7c8319bfbf537499",
   "outputs": [],
   "execution_count": 11
  },
  {
   "metadata": {
    "ExecuteTime": {
     "end_time": "2025-04-03T18:15:04.407020Z",
     "start_time": "2025-04-03T18:15:04.372960Z"
    }
   },
   "cell_type": "code",
   "source": [
    "import scipy\n",
    "import pandas as pd\n",
    "df = pd.DataFrame(\n",
    "    adata.X.T.toarray() if scipy.sparse.issparse(adata.X) else adata.X.T,\n",
    "    index=adata.var_names,\n",
    "    columns=adata.obs_names\n",
    ")"
   ],
   "id": "f67d649a87e550b2",
   "outputs": [],
   "execution_count": 22
  },
  {
   "metadata": {
    "ExecuteTime": {
     "end_time": "2025-04-03T18:15:11.967094Z",
     "start_time": "2025-04-03T18:15:11.895833Z"
    }
   },
   "cell_type": "code",
   "source": "df.head()",
   "id": "b8ab9ffc860de9fe",
   "outputs": [
    {
     "data": {
      "text/plain": [
       "             AAACCTGAGAGTACCG-1  AAACCTGCAGGTGCCT-1  AAACCTGCATCTCCCA-1  \\\n",
       "MIR1302-2HG                 0.0                 0.0                 0.0   \n",
       "FAM138A                     0.0                 0.0                 0.0   \n",
       "OR4F5                       0.0                 0.0                 0.0   \n",
       "AL627309.1                  0.0                 0.0                 0.0   \n",
       "AL627309.3                  0.0                 0.0                 0.0   \n",
       "\n",
       "             AAACCTGGTCTCAACA-1  AAACCTGGTTACGACT-1  AAACGGGAGATACACA-1  \\\n",
       "MIR1302-2HG                 0.0                 0.0                 0.0   \n",
       "FAM138A                     0.0                 0.0                 0.0   \n",
       "OR4F5                       0.0                 0.0                 0.0   \n",
       "AL627309.1                  0.0                 0.0                 0.0   \n",
       "AL627309.3                  0.0                 0.0                 0.0   \n",
       "\n",
       "             AAACGGGAGTACATGA-1  AAACGGGAGTTGAGAT-1  AAACGGGCATGCCACG-1  \\\n",
       "MIR1302-2HG                 0.0                 0.0                 0.0   \n",
       "FAM138A                     0.0                 0.0                 0.0   \n",
       "OR4F5                       0.0                 0.0                 0.0   \n",
       "AL627309.1                  0.0                 0.0                 0.0   \n",
       "AL627309.3                  0.0                 0.0                 0.0   \n",
       "\n",
       "             AAACGGGCATTCCTGC-1  ...  TTTGGTTCATGGGACA-1  TTTGGTTTCGGCTTGG-1  \\\n",
       "MIR1302-2HG                 0.0  ...                 0.0                 0.0   \n",
       "FAM138A                     0.0  ...                 0.0                 0.0   \n",
       "OR4F5                       0.0  ...                 0.0                 0.0   \n",
       "AL627309.1                  0.0  ...                 0.0                 0.0   \n",
       "AL627309.3                  0.0  ...                 0.0                 0.0   \n",
       "\n",
       "             TTTGTCACAAGCTGAG-1  TTTGTCACACACAGAG-1  TTTGTCACACACGCTG-1  \\\n",
       "MIR1302-2HG                 0.0                 0.0                 0.0   \n",
       "FAM138A                     0.0                 0.0                 0.0   \n",
       "OR4F5                       0.0                 0.0                 0.0   \n",
       "AL627309.1                  0.0                 0.0                 0.0   \n",
       "AL627309.3                  0.0                 0.0                 0.0   \n",
       "\n",
       "             TTTGTCACACAGAGGT-1  TTTGTCACACCTTGTC-1  TTTGTCACATACTCTT-1  \\\n",
       "MIR1302-2HG                 0.0                 0.0                 0.0   \n",
       "FAM138A                     0.0                 0.0                 0.0   \n",
       "OR4F5                       0.0                 0.0                 0.0   \n",
       "AL627309.1                  0.0                 0.0                 0.0   \n",
       "AL627309.3                  0.0                 0.0                 0.0   \n",
       "\n",
       "             TTTGTCATCTGGTATG-1  TTTGTCATCTGTTGAG-1  \n",
       "MIR1302-2HG                 0.0                 0.0  \n",
       "FAM138A                     0.0                 0.0  \n",
       "OR4F5                       0.0                 0.0  \n",
       "AL627309.1                  0.0                 0.0  \n",
       "AL627309.3                  0.0                 0.0  \n",
       "\n",
       "[5 rows x 5000 columns]"
      ],
      "text/html": [
       "<div>\n",
       "<style scoped>\n",
       "    .dataframe tbody tr th:only-of-type {\n",
       "        vertical-align: middle;\n",
       "    }\n",
       "\n",
       "    .dataframe tbody tr th {\n",
       "        vertical-align: top;\n",
       "    }\n",
       "\n",
       "    .dataframe thead th {\n",
       "        text-align: right;\n",
       "    }\n",
       "</style>\n",
       "<table border=\"1\" class=\"dataframe\">\n",
       "  <thead>\n",
       "    <tr style=\"text-align: right;\">\n",
       "      <th></th>\n",
       "      <th>AAACCTGAGAGTACCG-1</th>\n",
       "      <th>AAACCTGCAGGTGCCT-1</th>\n",
       "      <th>AAACCTGCATCTCCCA-1</th>\n",
       "      <th>AAACCTGGTCTCAACA-1</th>\n",
       "      <th>AAACCTGGTTACGACT-1</th>\n",
       "      <th>AAACGGGAGATACACA-1</th>\n",
       "      <th>AAACGGGAGTACATGA-1</th>\n",
       "      <th>AAACGGGAGTTGAGAT-1</th>\n",
       "      <th>AAACGGGCATGCCACG-1</th>\n",
       "      <th>AAACGGGCATTCCTGC-1</th>\n",
       "      <th>...</th>\n",
       "      <th>TTTGGTTCATGGGACA-1</th>\n",
       "      <th>TTTGGTTTCGGCTTGG-1</th>\n",
       "      <th>TTTGTCACAAGCTGAG-1</th>\n",
       "      <th>TTTGTCACACACAGAG-1</th>\n",
       "      <th>TTTGTCACACACGCTG-1</th>\n",
       "      <th>TTTGTCACACAGAGGT-1</th>\n",
       "      <th>TTTGTCACACCTTGTC-1</th>\n",
       "      <th>TTTGTCACATACTCTT-1</th>\n",
       "      <th>TTTGTCATCTGGTATG-1</th>\n",
       "      <th>TTTGTCATCTGTTGAG-1</th>\n",
       "    </tr>\n",
       "  </thead>\n",
       "  <tbody>\n",
       "    <tr>\n",
       "      <th>MIR1302-2HG</th>\n",
       "      <td>0.0</td>\n",
       "      <td>0.0</td>\n",
       "      <td>0.0</td>\n",
       "      <td>0.0</td>\n",
       "      <td>0.0</td>\n",
       "      <td>0.0</td>\n",
       "      <td>0.0</td>\n",
       "      <td>0.0</td>\n",
       "      <td>0.0</td>\n",
       "      <td>0.0</td>\n",
       "      <td>...</td>\n",
       "      <td>0.0</td>\n",
       "      <td>0.0</td>\n",
       "      <td>0.0</td>\n",
       "      <td>0.0</td>\n",
       "      <td>0.0</td>\n",
       "      <td>0.0</td>\n",
       "      <td>0.0</td>\n",
       "      <td>0.0</td>\n",
       "      <td>0.0</td>\n",
       "      <td>0.0</td>\n",
       "    </tr>\n",
       "    <tr>\n",
       "      <th>FAM138A</th>\n",
       "      <td>0.0</td>\n",
       "      <td>0.0</td>\n",
       "      <td>0.0</td>\n",
       "      <td>0.0</td>\n",
       "      <td>0.0</td>\n",
       "      <td>0.0</td>\n",
       "      <td>0.0</td>\n",
       "      <td>0.0</td>\n",
       "      <td>0.0</td>\n",
       "      <td>0.0</td>\n",
       "      <td>...</td>\n",
       "      <td>0.0</td>\n",
       "      <td>0.0</td>\n",
       "      <td>0.0</td>\n",
       "      <td>0.0</td>\n",
       "      <td>0.0</td>\n",
       "      <td>0.0</td>\n",
       "      <td>0.0</td>\n",
       "      <td>0.0</td>\n",
       "      <td>0.0</td>\n",
       "      <td>0.0</td>\n",
       "    </tr>\n",
       "    <tr>\n",
       "      <th>OR4F5</th>\n",
       "      <td>0.0</td>\n",
       "      <td>0.0</td>\n",
       "      <td>0.0</td>\n",
       "      <td>0.0</td>\n",
       "      <td>0.0</td>\n",
       "      <td>0.0</td>\n",
       "      <td>0.0</td>\n",
       "      <td>0.0</td>\n",
       "      <td>0.0</td>\n",
       "      <td>0.0</td>\n",
       "      <td>...</td>\n",
       "      <td>0.0</td>\n",
       "      <td>0.0</td>\n",
       "      <td>0.0</td>\n",
       "      <td>0.0</td>\n",
       "      <td>0.0</td>\n",
       "      <td>0.0</td>\n",
       "      <td>0.0</td>\n",
       "      <td>0.0</td>\n",
       "      <td>0.0</td>\n",
       "      <td>0.0</td>\n",
       "    </tr>\n",
       "    <tr>\n",
       "      <th>AL627309.1</th>\n",
       "      <td>0.0</td>\n",
       "      <td>0.0</td>\n",
       "      <td>0.0</td>\n",
       "      <td>0.0</td>\n",
       "      <td>0.0</td>\n",
       "      <td>0.0</td>\n",
       "      <td>0.0</td>\n",
       "      <td>0.0</td>\n",
       "      <td>0.0</td>\n",
       "      <td>0.0</td>\n",
       "      <td>...</td>\n",
       "      <td>0.0</td>\n",
       "      <td>0.0</td>\n",
       "      <td>0.0</td>\n",
       "      <td>0.0</td>\n",
       "      <td>0.0</td>\n",
       "      <td>0.0</td>\n",
       "      <td>0.0</td>\n",
       "      <td>0.0</td>\n",
       "      <td>0.0</td>\n",
       "      <td>0.0</td>\n",
       "    </tr>\n",
       "    <tr>\n",
       "      <th>AL627309.3</th>\n",
       "      <td>0.0</td>\n",
       "      <td>0.0</td>\n",
       "      <td>0.0</td>\n",
       "      <td>0.0</td>\n",
       "      <td>0.0</td>\n",
       "      <td>0.0</td>\n",
       "      <td>0.0</td>\n",
       "      <td>0.0</td>\n",
       "      <td>0.0</td>\n",
       "      <td>0.0</td>\n",
       "      <td>...</td>\n",
       "      <td>0.0</td>\n",
       "      <td>0.0</td>\n",
       "      <td>0.0</td>\n",
       "      <td>0.0</td>\n",
       "      <td>0.0</td>\n",
       "      <td>0.0</td>\n",
       "      <td>0.0</td>\n",
       "      <td>0.0</td>\n",
       "      <td>0.0</td>\n",
       "      <td>0.0</td>\n",
       "    </tr>\n",
       "  </tbody>\n",
       "</table>\n",
       "<p>5 rows × 5000 columns</p>\n",
       "</div>"
      ]
     },
     "execution_count": 23,
     "metadata": {},
     "output_type": "execute_result"
    }
   ],
   "execution_count": 23
  },
  {
   "metadata": {
    "ExecuteTime": {
     "end_time": "2025-04-03T18:20:02.198590Z",
     "start_time": "2025-04-03T18:18:03.380389Z"
    }
   },
   "cell_type": "code",
   "source": "df.to_csv(\"/Users/kpax/Documents/aep/study/MSC/lab/PPMI_Project_133_RNASeq/scRNA_GSE184916.tsv\", sep=\"\\t\", index_label=\"Gene\")",
   "id": "646647f27f181578",
   "outputs": [],
   "execution_count": 27
  },
  {
   "metadata": {
    "ExecuteTime": {
     "end_time": "2025-04-03T18:31:50.906828Z",
     "start_time": "2025-04-03T18:31:50.749928Z"
    }
   },
   "cell_type": "code",
   "source": "",
   "id": "7097408e64ae88f8",
   "outputs": [],
   "execution_count": 28
  },
  {
   "metadata": {
    "ExecuteTime": {
     "end_time": "2025-04-03T19:26:04.266485Z",
     "start_time": "2025-04-03T19:26:04.227651Z"
    }
   },
   "cell_type": "code",
   "source": "",
   "id": "161edeb42a16cedd",
   "outputs": [],
   "execution_count": null
  },
  {
   "metadata": {
    "ExecuteTime": {
     "end_time": "2025-04-03T19:28:37.938544Z",
     "start_time": "2025-04-03T19:26:34.078517Z"
    }
   },
   "cell_type": "code",
   "source": "ppmi_counts_df = pd.read_csv(\"/Users/kpax/Documents/aep/study/MSC/lab/PPMI_Project_133_RNASeq/ppmi_133_rna_counts_for_deconv.tsv\", sep=\"\\t\")",
   "id": "30a256ee77d3dea8",
   "outputs": [],
   "execution_count": 29
  },
  {
   "metadata": {
    "ExecuteTime": {
     "end_time": "2025-04-03T19:28:54.256657Z",
     "start_time": "2025-04-03T19:28:54.153804Z"
    }
   },
   "cell_type": "code",
   "source": "ppmi_counts_df.shape",
   "id": "c7842a8158f19018",
   "outputs": [
    {
     "data": {
      "text/plain": [
       "(58780, 4757)"
      ]
     },
     "execution_count": 30,
     "metadata": {},
     "output_type": "execute_result"
    }
   ],
   "execution_count": 30
  },
  {
   "metadata": {
    "ExecuteTime": {
     "end_time": "2025-04-03T19:30:25.428321Z",
     "start_time": "2025-04-03T19:29:50.410385Z"
    }
   },
   "cell_type": "code",
   "source": "ppmi_counts_df.iloc[:, :1000].to_csv(\"/Users/kpax/Documents/aep/study/MSC/lab/PPMI_Project_133_RNASeq/ppmi_counts_first_1000_columns.tsv\", sep=\"\\t\", index=False)",
   "id": "f73799e35de1a70b",
   "outputs": [],
   "execution_count": 31
  }
 ],
 "metadata": {
  "kernelspec": {
   "display_name": "Python 3",
   "language": "python",
   "name": "python3"
  },
  "language_info": {
   "codemirror_mode": {
    "name": "ipython",
    "version": 2
   },
   "file_extension": ".py",
   "mimetype": "text/x-python",
   "name": "python",
   "nbconvert_exporter": "python",
   "pygments_lexer": "ipython2",
   "version": "2.7.6"
  }
 },
 "nbformat": 4,
 "nbformat_minor": 5
}
