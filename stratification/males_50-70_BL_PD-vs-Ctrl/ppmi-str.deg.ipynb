{
 "cells": [
  {
   "cell_type": "code",
   "id": "initial_id",
   "metadata": {
    "collapsed": true,
    "ExecuteTime": {
     "end_time": "2025-04-05T07:37:36.398510Z",
     "start_time": "2025-04-05T07:37:30.418065Z"
    }
   },
   "source": [
    "from pydeseq2.ds import DeseqStats\n",
    "!pip install anndata"
   ],
   "outputs": [
    {
     "name": "stdout",
     "output_type": "stream",
     "text": [
      "Requirement already satisfied: anndata in /opt/anaconda3/lib/python3.12/site-packages (0.11.3)\r\n",
      "Requirement already satisfied: array-api-compat!=1.5,>1.4 in /opt/anaconda3/lib/python3.12/site-packages (from anndata) (1.10.0)\r\n",
      "Requirement already satisfied: h5py>=3.7 in /opt/anaconda3/lib/python3.12/site-packages (from anndata) (3.11.0)\r\n",
      "Requirement already satisfied: natsort in /opt/anaconda3/lib/python3.12/site-packages (from anndata) (8.4.0)\r\n",
      "Requirement already satisfied: numpy>=1.23 in /opt/anaconda3/lib/python3.12/site-packages (from anndata) (1.26.4)\r\n",
      "Requirement already satisfied: packaging>=20.0 in /opt/anaconda3/lib/python3.12/site-packages (from anndata) (23.2)\r\n",
      "Requirement already satisfied: pandas!=2.1.0rc0,!=2.1.2,>=1.4 in /opt/anaconda3/lib/python3.12/site-packages (from anndata) (2.2.2)\r\n",
      "Requirement already satisfied: scipy>1.8 in /opt/anaconda3/lib/python3.12/site-packages (from anndata) (1.13.1)\r\n",
      "Requirement already satisfied: python-dateutil>=2.8.2 in /opt/anaconda3/lib/python3.12/site-packages (from pandas!=2.1.0rc0,!=2.1.2,>=1.4->anndata) (2.9.0.post0)\r\n",
      "Requirement already satisfied: pytz>=2020.1 in /opt/anaconda3/lib/python3.12/site-packages (from pandas!=2.1.0rc0,!=2.1.2,>=1.4->anndata) (2024.1)\r\n",
      "Requirement already satisfied: tzdata>=2022.7 in /opt/anaconda3/lib/python3.12/site-packages (from pandas!=2.1.0rc0,!=2.1.2,>=1.4->anndata) (2023.3)\r\n",
      "Requirement already satisfied: six>=1.5 in /opt/anaconda3/lib/python3.12/site-packages (from python-dateutil>=2.8.2->pandas!=2.1.0rc0,!=2.1.2,>=1.4->anndata) (1.16.0)\r\n"
     ]
    }
   ],
   "execution_count": 1
  },
  {
   "metadata": {
    "ExecuteTime": {
     "end_time": "2025-04-05T07:40:27.551586Z",
     "start_time": "2025-04-05T07:40:27.544901Z"
    }
   },
   "cell_type": "code",
   "source": [
    "import anndata as ad\n",
    "import pandas as pd"
   ],
   "id": "f99038a9501e099e",
   "outputs": [],
   "execution_count": 4
  },
  {
   "metadata": {
    "ExecuteTime": {
     "end_time": "2025-04-05T07:40:44.785970Z",
     "start_time": "2025-04-05T07:40:28.850698Z"
    }
   },
   "cell_type": "code",
   "source": "ppmi_ad = ad.read_h5ad(\"/Users/kpax/Documents/aep/study/MSC/lab/PPMI_Project_133_RNASeq/ppmi_adata.h5ad\")\n",
   "id": "691fe13b56bc7d04",
   "outputs": [],
   "execution_count": 5
  },
  {
   "metadata": {
    "ExecuteTime": {
     "end_time": "2025-04-05T07:40:57.696522Z",
     "start_time": "2025-04-05T07:40:53.715550Z"
    }
   },
   "cell_type": "code",
   "source": "!pip install pydeseq2\n",
   "id": "bf571d52d6beec35",
   "outputs": [
    {
     "name": "stdout",
     "output_type": "stream",
     "text": [
      "Requirement already satisfied: pydeseq2 in /opt/anaconda3/lib/python3.12/site-packages (0.5.0)\r\n",
      "Requirement already satisfied: anndata>=0.8.0 in /opt/anaconda3/lib/python3.12/site-packages (from pydeseq2) (0.11.3)\r\n",
      "Requirement already satisfied: formulaic>=1.0.2 in /opt/anaconda3/lib/python3.12/site-packages (from pydeseq2) (1.1.1)\r\n",
      "Requirement already satisfied: numpy>=1.23.0 in /opt/anaconda3/lib/python3.12/site-packages (from pydeseq2) (1.26.4)\r\n",
      "Requirement already satisfied: pandas>=1.4.0 in /opt/anaconda3/lib/python3.12/site-packages (from pydeseq2) (2.2.2)\r\n",
      "Requirement already satisfied: scikit-learn>=1.1.0 in /opt/anaconda3/lib/python3.12/site-packages (from pydeseq2) (1.4.2)\r\n",
      "Requirement already satisfied: scipy>=1.11.0 in /opt/anaconda3/lib/python3.12/site-packages (from pydeseq2) (1.13.1)\r\n",
      "Requirement already satisfied: formulaic-contrasts>=0.2.0 in /opt/anaconda3/lib/python3.12/site-packages (from pydeseq2) (1.0.0)\r\n",
      "Requirement already satisfied: matplotlib>=3.6.2 in /opt/anaconda3/lib/python3.12/site-packages (from pydeseq2) (3.8.4)\r\n",
      "Requirement already satisfied: array-api-compat!=1.5,>1.4 in /opt/anaconda3/lib/python3.12/site-packages (from anndata>=0.8.0->pydeseq2) (1.10.0)\r\n",
      "Requirement already satisfied: h5py>=3.7 in /opt/anaconda3/lib/python3.12/site-packages (from anndata>=0.8.0->pydeseq2) (3.11.0)\r\n",
      "Requirement already satisfied: natsort in /opt/anaconda3/lib/python3.12/site-packages (from anndata>=0.8.0->pydeseq2) (8.4.0)\r\n",
      "Requirement already satisfied: packaging>=20.0 in /opt/anaconda3/lib/python3.12/site-packages (from anndata>=0.8.0->pydeseq2) (23.2)\r\n",
      "Requirement already satisfied: interface-meta>=1.2.0 in /opt/anaconda3/lib/python3.12/site-packages (from formulaic>=1.0.2->pydeseq2) (1.3.0)\r\n",
      "Requirement already satisfied: typing-extensions>=4.2.0 in /opt/anaconda3/lib/python3.12/site-packages (from formulaic>=1.0.2->pydeseq2) (4.11.0)\r\n",
      "Requirement already satisfied: wrapt>=1.0 in /opt/anaconda3/lib/python3.12/site-packages (from formulaic>=1.0.2->pydeseq2) (1.14.1)\r\n",
      "Requirement already satisfied: session-info in /opt/anaconda3/lib/python3.12/site-packages (from formulaic-contrasts>=0.2.0->pydeseq2) (1.0.0)\r\n",
      "Requirement already satisfied: contourpy>=1.0.1 in /opt/anaconda3/lib/python3.12/site-packages (from matplotlib>=3.6.2->pydeseq2) (1.2.0)\r\n",
      "Requirement already satisfied: cycler>=0.10 in /opt/anaconda3/lib/python3.12/site-packages (from matplotlib>=3.6.2->pydeseq2) (0.11.0)\r\n",
      "Requirement already satisfied: fonttools>=4.22.0 in /opt/anaconda3/lib/python3.12/site-packages (from matplotlib>=3.6.2->pydeseq2) (4.51.0)\r\n",
      "Requirement already satisfied: kiwisolver>=1.3.1 in /opt/anaconda3/lib/python3.12/site-packages (from matplotlib>=3.6.2->pydeseq2) (1.4.4)\r\n",
      "Requirement already satisfied: pillow>=8 in /opt/anaconda3/lib/python3.12/site-packages (from matplotlib>=3.6.2->pydeseq2) (10.3.0)\r\n",
      "Requirement already satisfied: pyparsing>=2.3.1 in /opt/anaconda3/lib/python3.12/site-packages (from matplotlib>=3.6.2->pydeseq2) (3.0.9)\r\n",
      "Requirement already satisfied: python-dateutil>=2.7 in /opt/anaconda3/lib/python3.12/site-packages (from matplotlib>=3.6.2->pydeseq2) (2.9.0.post0)\r\n",
      "Requirement already satisfied: pytz>=2020.1 in /opt/anaconda3/lib/python3.12/site-packages (from pandas>=1.4.0->pydeseq2) (2024.1)\r\n",
      "Requirement already satisfied: tzdata>=2022.7 in /opt/anaconda3/lib/python3.12/site-packages (from pandas>=1.4.0->pydeseq2) (2023.3)\r\n",
      "Requirement already satisfied: joblib>=1.2.0 in /opt/anaconda3/lib/python3.12/site-packages (from scikit-learn>=1.1.0->pydeseq2) (1.4.2)\r\n",
      "Requirement already satisfied: threadpoolctl>=2.0.0 in /opt/anaconda3/lib/python3.12/site-packages (from scikit-learn>=1.1.0->pydeseq2) (2.2.0)\r\n",
      "Requirement already satisfied: six>=1.5 in /opt/anaconda3/lib/python3.12/site-packages (from python-dateutil>=2.7->matplotlib>=3.6.2->pydeseq2) (1.16.0)\r\n",
      "Requirement already satisfied: stdlib-list in /opt/anaconda3/lib/python3.12/site-packages (from session-info->formulaic-contrasts>=0.2.0->pydeseq2) (0.11.1)\r\n"
     ]
    }
   ],
   "execution_count": 7
  },
  {
   "metadata": {
    "ExecuteTime": {
     "end_time": "2025-04-05T07:40:59.954724Z",
     "start_time": "2025-04-05T07:40:59.932115Z"
    }
   },
   "cell_type": "code",
   "source": [
    "adata = ppmi_ad[(ppmi_ad.obs[\"Gender\"] == \"Male\") &\n",
    "                (ppmi_ad.obs[\"Visit\"] == \"BL\") &\n",
    "                (ppmi_ad.obs[\"Diagnosis\"].isin([\"PD\", \"Control\"])) &\n",
    "                (ppmi_ad.obs[\"Age_Group\"] == \"50-70\")]"
   ],
   "id": "fc3e55b8b2913c6f",
   "outputs": [],
   "execution_count": 8
  },
  {
   "metadata": {
    "ExecuteTime": {
     "end_time": "2025-04-05T07:41:01.616340Z",
     "start_time": "2025-04-05T07:41:01.588122Z"
    }
   },
   "cell_type": "code",
   "source": "adata[adata.obs[\"Age_Group\"] == \"50-70\"].obs[\"Diagnosis\"].value_counts()\n",
   "id": "a2b44daf63d25676",
   "outputs": [
    {
     "data": {
      "text/plain": [
       "Diagnosis\n",
       "PD         166\n",
       "Control     80\n",
       "Name: count, dtype: int64"
      ]
     },
     "execution_count": 9,
     "metadata": {},
     "output_type": "execute_result"
    }
   ],
   "execution_count": 9
  },
  {
   "metadata": {
    "ExecuteTime": {
     "end_time": "2025-04-05T07:41:06.578211Z",
     "start_time": "2025-04-05T07:41:05.115234Z"
    }
   },
   "cell_type": "code",
   "source": [
    "from sklearn.feature_selection import VarianceThreshold\n",
    "counts_log2 = pd.DataFrame(adata.layers['counts_log2'], index=adata.obs_names, columns=adata.var_names)\n",
    "selector = VarianceThreshold(threshold=0.01)\n",
    "filtered_counts = selector.fit_transform(counts_log2)\n",
    "filtered_genes = counts_log2.columns[selector.get_support()]\n",
    "filtered_genes"
   ],
   "id": "f0f4d36f40c5a939",
   "outputs": [
    {
     "data": {
      "text/plain": [
       "Index(['ENSG00000223972.5', 'ENSG00000227232.5', 'ENSG00000278267.1',\n",
       "       'ENSG00000243485.5', 'ENSG00000237613.2', 'ENSG00000268020.3',\n",
       "       'ENSG00000240361.2', 'ENSG00000186092.6', 'ENSG00000238009.6',\n",
       "       'ENSG00000233750.3',\n",
       "       ...\n",
       "       'ENSG00000273739.1', 'ENSG00000276700.1', 'ENSG00000276312.1',\n",
       "       'ENSG00000275757.1', 'ENSG00000278573.1', 'ENSG00000276017.1',\n",
       "       'ENSG00000278817.1', 'ENSG00000277196.4', 'ENSG00000278625.1',\n",
       "       'ENSG00000277374.1'],\n",
       "      dtype='object', length=57261)"
      ]
     },
     "execution_count": 10,
     "metadata": {},
     "output_type": "execute_result"
    }
   ],
   "execution_count": 10
  },
  {
   "metadata": {
    "ExecuteTime": {
     "end_time": "2025-04-05T09:13:10.050122Z",
     "start_time": "2025-04-05T09:13:09.977127Z"
    }
   },
   "cell_type": "code",
   "source": [
    "cell_props = pd.read_csv(\"/Users/kpax/Documents/aep/study/MSC/lab/PPMI_Project_133_RNASeq/cibersortx_metadata_df.csv\", index_col=0)\n",
    "filtered_cell_meta = cell_props.loc[adata.obs[\"Sample\"],:]\n",
    "filtered_cell_meta = filtered_cell_meta.loc[:, filtered_cell_meta.columns.isin([\"Diagnosis\", \"Neutrophils\", \"Monocytes\", \"T cells CD4 naive\", \"NK cells activated\", \"NK cells resting\", \"T cells CD4 memory resting\"])]\n",
    "filtered_cell_meta = filtered_cell_meta.loc[:, filtered_cell_meta.sum(axis=0) != 0]\n",
    "filtered_cell_meta.columns = (filtered_cell_meta.columns\n",
    "                              .str.replace(\" \", \"_\")\n",
    "                              .str.replace(\"-\", \"_\")\n",
    "                              .str.replace(r\"\\(|\\)\", \"\", regex=True))\n",
    "design_factors = filtered_cell_meta.columns.values.tolist()\n",
    "design_factors"
   ],
   "id": "5d1298060b2d1d6c",
   "outputs": [
    {
     "data": {
      "text/plain": [
       "['T_cells_CD4_naive',\n",
       " 'T_cells_CD4_memory_resting',\n",
       " 'NK_cells_resting',\n",
       " 'NK_cells_activated',\n",
       " 'Monocytes',\n",
       " 'Neutrophils',\n",
       " 'Diagnosis']"
      ]
     },
     "execution_count": 35,
     "metadata": {},
     "output_type": "execute_result"
    }
   ],
   "execution_count": 35
  },
  {
   "metadata": {
    "ExecuteTime": {
     "end_time": "2025-04-05T07:41:09.459075Z",
     "start_time": "2025-04-05T07:41:09.436526Z"
    }
   },
   "cell_type": "code",
   "source": "adata.obs.head()",
   "id": "4d913eb72d61ef3a",
   "outputs": [
    {
     "data": {
      "text/plain": [
       "                                                            Sample Diagnosis  \\\n",
       "3435.BL.PP0015.8880.5104.SL.0011  3435.BL.PP0015.8880.5104.SL.0011        PD   \n",
       "3479.BL.PP0021.2283.5104.SL.0021  3479.BL.PP0021.2283.5104.SL.0021   Control   \n",
       "3174.BL.PP0015.7985.5104.SL.0027  3174.BL.PP0015.7985.5104.SL.0027        PD   \n",
       "3415.BL.PP0016.0856.5104.SL.0039  3415.BL.PP0016.0856.5104.SL.0039        PD   \n",
       "3087.BL.0003160140.5104.SL.0046    3087.BL.0003160140.5104.SL.0046   Control   \n",
       "\n",
       "                                 Visit Gender  Patient Genetic_Group Age_Group  \n",
       "3435.BL.PP0015.8880.5104.SL.0011    BL   Male     3435          SRDC     50-70  \n",
       "3479.BL.PP0021.2283.5104.SL.0021    BL   Male     3479          None     50-70  \n",
       "3174.BL.PP0015.7985.5104.SL.0027    BL   Male     3174          SRDC     50-70  \n",
       "3415.BL.PP0016.0856.5104.SL.0039    BL   Male     3415          SRDC     50-70  \n",
       "3087.BL.0003160140.5104.SL.0046     BL   Male     3087          None     50-70  "
      ],
      "text/html": [
       "<div>\n",
       "<style scoped>\n",
       "    .dataframe tbody tr th:only-of-type {\n",
       "        vertical-align: middle;\n",
       "    }\n",
       "\n",
       "    .dataframe tbody tr th {\n",
       "        vertical-align: top;\n",
       "    }\n",
       "\n",
       "    .dataframe thead th {\n",
       "        text-align: right;\n",
       "    }\n",
       "</style>\n",
       "<table border=\"1\" class=\"dataframe\">\n",
       "  <thead>\n",
       "    <tr style=\"text-align: right;\">\n",
       "      <th></th>\n",
       "      <th>Sample</th>\n",
       "      <th>Diagnosis</th>\n",
       "      <th>Visit</th>\n",
       "      <th>Gender</th>\n",
       "      <th>Patient</th>\n",
       "      <th>Genetic_Group</th>\n",
       "      <th>Age_Group</th>\n",
       "    </tr>\n",
       "  </thead>\n",
       "  <tbody>\n",
       "    <tr>\n",
       "      <th>3435.BL.PP0015.8880.5104.SL.0011</th>\n",
       "      <td>3435.BL.PP0015.8880.5104.SL.0011</td>\n",
       "      <td>PD</td>\n",
       "      <td>BL</td>\n",
       "      <td>Male</td>\n",
       "      <td>3435</td>\n",
       "      <td>SRDC</td>\n",
       "      <td>50-70</td>\n",
       "    </tr>\n",
       "    <tr>\n",
       "      <th>3479.BL.PP0021.2283.5104.SL.0021</th>\n",
       "      <td>3479.BL.PP0021.2283.5104.SL.0021</td>\n",
       "      <td>Control</td>\n",
       "      <td>BL</td>\n",
       "      <td>Male</td>\n",
       "      <td>3479</td>\n",
       "      <td>None</td>\n",
       "      <td>50-70</td>\n",
       "    </tr>\n",
       "    <tr>\n",
       "      <th>3174.BL.PP0015.7985.5104.SL.0027</th>\n",
       "      <td>3174.BL.PP0015.7985.5104.SL.0027</td>\n",
       "      <td>PD</td>\n",
       "      <td>BL</td>\n",
       "      <td>Male</td>\n",
       "      <td>3174</td>\n",
       "      <td>SRDC</td>\n",
       "      <td>50-70</td>\n",
       "    </tr>\n",
       "    <tr>\n",
       "      <th>3415.BL.PP0016.0856.5104.SL.0039</th>\n",
       "      <td>3415.BL.PP0016.0856.5104.SL.0039</td>\n",
       "      <td>PD</td>\n",
       "      <td>BL</td>\n",
       "      <td>Male</td>\n",
       "      <td>3415</td>\n",
       "      <td>SRDC</td>\n",
       "      <td>50-70</td>\n",
       "    </tr>\n",
       "    <tr>\n",
       "      <th>3087.BL.0003160140.5104.SL.0046</th>\n",
       "      <td>3087.BL.0003160140.5104.SL.0046</td>\n",
       "      <td>Control</td>\n",
       "      <td>BL</td>\n",
       "      <td>Male</td>\n",
       "      <td>3087</td>\n",
       "      <td>None</td>\n",
       "      <td>50-70</td>\n",
       "    </tr>\n",
       "  </tbody>\n",
       "</table>\n",
       "</div>"
      ]
     },
     "execution_count": 11,
     "metadata": {},
     "output_type": "execute_result"
    }
   ],
   "execution_count": 11
  },
  {
   "metadata": {
    "ExecuteTime": {
     "end_time": "2025-04-05T07:45:49.470033Z",
     "start_time": "2025-04-05T07:45:49.465791Z"
    }
   },
   "cell_type": "code",
   "source": "metadata = adata.obs.copy()",
   "id": "b0a02e95e42b76c2",
   "outputs": [],
   "execution_count": 18
  },
  {
   "metadata": {
    "ExecuteTime": {
     "end_time": "2025-04-05T07:42:58.073615Z",
     "start_time": "2025-04-05T07:42:56.692746Z"
    }
   },
   "cell_type": "code",
   "source": [
    "df = adata.to_df()\n",
    "df = df.loc[:, filtered_genes]\n",
    "df.head()"
   ],
   "id": "a5ac610df548aa26",
   "outputs": [
    {
     "data": {
      "text/plain": [
       "                                  ENSG00000223972.5  ENSG00000227232.5  \\\n",
       "3435.BL.PP0015.8880.5104.SL.0011                 15                209   \n",
       "3479.BL.PP0021.2283.5104.SL.0021                  3                107   \n",
       "3174.BL.PP0015.7985.5104.SL.0027                  7                239   \n",
       "3415.BL.PP0016.0856.5104.SL.0039                  6                161   \n",
       "3087.BL.0003160140.5104.SL.0046                   5                139   \n",
       "\n",
       "                                  ENSG00000278267.1  ENSG00000243485.5  \\\n",
       "3435.BL.PP0015.8880.5104.SL.0011                  6                  8   \n",
       "3479.BL.PP0021.2283.5104.SL.0021                  3                  0   \n",
       "3174.BL.PP0015.7985.5104.SL.0027                  5                  0   \n",
       "3415.BL.PP0016.0856.5104.SL.0039                  6                  4   \n",
       "3087.BL.0003160140.5104.SL.0046                   6                  5   \n",
       "\n",
       "                                  ENSG00000237613.2  ENSG00000268020.3  \\\n",
       "3435.BL.PP0015.8880.5104.SL.0011                  6                  6   \n",
       "3479.BL.PP0021.2283.5104.SL.0021                  0                  0   \n",
       "3174.BL.PP0015.7985.5104.SL.0027                  0                  0   \n",
       "3415.BL.PP0016.0856.5104.SL.0039                  1                  1   \n",
       "3087.BL.0003160140.5104.SL.0046                   0                  0   \n",
       "\n",
       "                                  ENSG00000240361.2  ENSG00000186092.6  \\\n",
       "3435.BL.PP0015.8880.5104.SL.0011                 19                  7   \n",
       "3479.BL.PP0021.2283.5104.SL.0021                  0                  0   \n",
       "3174.BL.PP0015.7985.5104.SL.0027                  0                  0   \n",
       "3415.BL.PP0016.0856.5104.SL.0039                  7                  0   \n",
       "3087.BL.0003160140.5104.SL.0046                   0                  0   \n",
       "\n",
       "                                  ENSG00000238009.6  ENSG00000233750.3  ...  \\\n",
       "3435.BL.PP0015.8880.5104.SL.0011                176                 29  ...   \n",
       "3479.BL.PP0021.2283.5104.SL.0021                 35                  0  ...   \n",
       "3174.BL.PP0015.7985.5104.SL.0027                110                  1  ...   \n",
       "3415.BL.PP0016.0856.5104.SL.0039                109                  6  ...   \n",
       "3087.BL.0003160140.5104.SL.0046                  80                  0  ...   \n",
       "\n",
       "                                  ENSG00000273739.1  ENSG00000276700.1  \\\n",
       "3435.BL.PP0015.8880.5104.SL.0011                  2                 12   \n",
       "3479.BL.PP0021.2283.5104.SL.0021                  1                  0   \n",
       "3174.BL.PP0015.7985.5104.SL.0027                  0                  0   \n",
       "3415.BL.PP0016.0856.5104.SL.0039                  1                  5   \n",
       "3087.BL.0003160140.5104.SL.0046                   0                  9   \n",
       "\n",
       "                                  ENSG00000276312.1  ENSG00000275757.1  \\\n",
       "3435.BL.PP0015.8880.5104.SL.0011                  7                  0   \n",
       "3479.BL.PP0021.2283.5104.SL.0021                  6                  0   \n",
       "3174.BL.PP0015.7985.5104.SL.0027                  0                  0   \n",
       "3415.BL.PP0016.0856.5104.SL.0039                  3                  0   \n",
       "3087.BL.0003160140.5104.SL.0046                  11                  1   \n",
       "\n",
       "                                  ENSG00000278573.1  ENSG00000276017.1  \\\n",
       "3435.BL.PP0015.8880.5104.SL.0011                  6                  2   \n",
       "3479.BL.PP0021.2283.5104.SL.0021                  0                  0   \n",
       "3174.BL.PP0015.7985.5104.SL.0027                  0                  2   \n",
       "3415.BL.PP0016.0856.5104.SL.0039                  0                  3   \n",
       "3087.BL.0003160140.5104.SL.0046                   0                  0   \n",
       "\n",
       "                                  ENSG00000278817.1  ENSG00000277196.4  \\\n",
       "3435.BL.PP0015.8880.5104.SL.0011                 32                 17   \n",
       "3479.BL.PP0021.2283.5104.SL.0021                 28                  0   \n",
       "3174.BL.PP0015.7985.5104.SL.0027                  9                  0   \n",
       "3415.BL.PP0016.0856.5104.SL.0039                 13                  5   \n",
       "3087.BL.0003160140.5104.SL.0046                  19                  3   \n",
       "\n",
       "                                  ENSG00000278625.1  ENSG00000277374.1  \n",
       "3435.BL.PP0015.8880.5104.SL.0011                  0                  0  \n",
       "3479.BL.PP0021.2283.5104.SL.0021                  0                  0  \n",
       "3174.BL.PP0015.7985.5104.SL.0027                  0                  0  \n",
       "3415.BL.PP0016.0856.5104.SL.0039                  0                  0  \n",
       "3087.BL.0003160140.5104.SL.0046                   0                  0  \n",
       "\n",
       "[5 rows x 57261 columns]"
      ],
      "text/html": [
       "<div>\n",
       "<style scoped>\n",
       "    .dataframe tbody tr th:only-of-type {\n",
       "        vertical-align: middle;\n",
       "    }\n",
       "\n",
       "    .dataframe tbody tr th {\n",
       "        vertical-align: top;\n",
       "    }\n",
       "\n",
       "    .dataframe thead th {\n",
       "        text-align: right;\n",
       "    }\n",
       "</style>\n",
       "<table border=\"1\" class=\"dataframe\">\n",
       "  <thead>\n",
       "    <tr style=\"text-align: right;\">\n",
       "      <th></th>\n",
       "      <th>ENSG00000223972.5</th>\n",
       "      <th>ENSG00000227232.5</th>\n",
       "      <th>ENSG00000278267.1</th>\n",
       "      <th>ENSG00000243485.5</th>\n",
       "      <th>ENSG00000237613.2</th>\n",
       "      <th>ENSG00000268020.3</th>\n",
       "      <th>ENSG00000240361.2</th>\n",
       "      <th>ENSG00000186092.6</th>\n",
       "      <th>ENSG00000238009.6</th>\n",
       "      <th>ENSG00000233750.3</th>\n",
       "      <th>...</th>\n",
       "      <th>ENSG00000273739.1</th>\n",
       "      <th>ENSG00000276700.1</th>\n",
       "      <th>ENSG00000276312.1</th>\n",
       "      <th>ENSG00000275757.1</th>\n",
       "      <th>ENSG00000278573.1</th>\n",
       "      <th>ENSG00000276017.1</th>\n",
       "      <th>ENSG00000278817.1</th>\n",
       "      <th>ENSG00000277196.4</th>\n",
       "      <th>ENSG00000278625.1</th>\n",
       "      <th>ENSG00000277374.1</th>\n",
       "    </tr>\n",
       "  </thead>\n",
       "  <tbody>\n",
       "    <tr>\n",
       "      <th>3435.BL.PP0015.8880.5104.SL.0011</th>\n",
       "      <td>15</td>\n",
       "      <td>209</td>\n",
       "      <td>6</td>\n",
       "      <td>8</td>\n",
       "      <td>6</td>\n",
       "      <td>6</td>\n",
       "      <td>19</td>\n",
       "      <td>7</td>\n",
       "      <td>176</td>\n",
       "      <td>29</td>\n",
       "      <td>...</td>\n",
       "      <td>2</td>\n",
       "      <td>12</td>\n",
       "      <td>7</td>\n",
       "      <td>0</td>\n",
       "      <td>6</td>\n",
       "      <td>2</td>\n",
       "      <td>32</td>\n",
       "      <td>17</td>\n",
       "      <td>0</td>\n",
       "      <td>0</td>\n",
       "    </tr>\n",
       "    <tr>\n",
       "      <th>3479.BL.PP0021.2283.5104.SL.0021</th>\n",
       "      <td>3</td>\n",
       "      <td>107</td>\n",
       "      <td>3</td>\n",
       "      <td>0</td>\n",
       "      <td>0</td>\n",
       "      <td>0</td>\n",
       "      <td>0</td>\n",
       "      <td>0</td>\n",
       "      <td>35</td>\n",
       "      <td>0</td>\n",
       "      <td>...</td>\n",
       "      <td>1</td>\n",
       "      <td>0</td>\n",
       "      <td>6</td>\n",
       "      <td>0</td>\n",
       "      <td>0</td>\n",
       "      <td>0</td>\n",
       "      <td>28</td>\n",
       "      <td>0</td>\n",
       "      <td>0</td>\n",
       "      <td>0</td>\n",
       "    </tr>\n",
       "    <tr>\n",
       "      <th>3174.BL.PP0015.7985.5104.SL.0027</th>\n",
       "      <td>7</td>\n",
       "      <td>239</td>\n",
       "      <td>5</td>\n",
       "      <td>0</td>\n",
       "      <td>0</td>\n",
       "      <td>0</td>\n",
       "      <td>0</td>\n",
       "      <td>0</td>\n",
       "      <td>110</td>\n",
       "      <td>1</td>\n",
       "      <td>...</td>\n",
       "      <td>0</td>\n",
       "      <td>0</td>\n",
       "      <td>0</td>\n",
       "      <td>0</td>\n",
       "      <td>0</td>\n",
       "      <td>2</td>\n",
       "      <td>9</td>\n",
       "      <td>0</td>\n",
       "      <td>0</td>\n",
       "      <td>0</td>\n",
       "    </tr>\n",
       "    <tr>\n",
       "      <th>3415.BL.PP0016.0856.5104.SL.0039</th>\n",
       "      <td>6</td>\n",
       "      <td>161</td>\n",
       "      <td>6</td>\n",
       "      <td>4</td>\n",
       "      <td>1</td>\n",
       "      <td>1</td>\n",
       "      <td>7</td>\n",
       "      <td>0</td>\n",
       "      <td>109</td>\n",
       "      <td>6</td>\n",
       "      <td>...</td>\n",
       "      <td>1</td>\n",
       "      <td>5</td>\n",
       "      <td>3</td>\n",
       "      <td>0</td>\n",
       "      <td>0</td>\n",
       "      <td>3</td>\n",
       "      <td>13</td>\n",
       "      <td>5</td>\n",
       "      <td>0</td>\n",
       "      <td>0</td>\n",
       "    </tr>\n",
       "    <tr>\n",
       "      <th>3087.BL.0003160140.5104.SL.0046</th>\n",
       "      <td>5</td>\n",
       "      <td>139</td>\n",
       "      <td>6</td>\n",
       "      <td>5</td>\n",
       "      <td>0</td>\n",
       "      <td>0</td>\n",
       "      <td>0</td>\n",
       "      <td>0</td>\n",
       "      <td>80</td>\n",
       "      <td>0</td>\n",
       "      <td>...</td>\n",
       "      <td>0</td>\n",
       "      <td>9</td>\n",
       "      <td>11</td>\n",
       "      <td>1</td>\n",
       "      <td>0</td>\n",
       "      <td>0</td>\n",
       "      <td>19</td>\n",
       "      <td>3</td>\n",
       "      <td>0</td>\n",
       "      <td>0</td>\n",
       "    </tr>\n",
       "  </tbody>\n",
       "</table>\n",
       "<p>5 rows × 57261 columns</p>\n",
       "</div>"
      ]
     },
     "execution_count": 13,
     "metadata": {},
     "output_type": "execute_result"
    }
   ],
   "execution_count": 13
  },
  {
   "metadata": {
    "ExecuteTime": {
     "end_time": "2025-04-06T07:39:22.610025Z",
     "start_time": "2025-04-06T07:29:15.819801Z"
    }
   },
   "cell_type": "code",
   "source": [
    "ppmi_ad.to_df().to_csv(\"/Users/kpax/Documents/aep/study/MSC/lab/PPMI_Project_133_RNASeq/counts.csv\")\n",
    "ppmi_ad.obs.to_csv(\"/Users/kpax/Documents/aep/study/MSC/lab/PPMI_Project_133_RNASeq/metadata.csv\")\n"
   ],
   "id": "d0780f27d0a0cd57",
   "outputs": [],
   "execution_count": 50
  },
  {
   "metadata": {
    "ExecuteTime": {
     "end_time": "2025-04-05T09:14:03.110366Z",
     "start_time": "2025-04-05T09:13:54.255Z"
    }
   },
   "cell_type": "code",
   "source": [
    "from pydeseq2.ds import DeseqDataSet\n",
    "# dds = DeseqDataSet(counts=df, metadata=metadata[['Diagnosis']], design=\"~Diagnosis\")\n",
    "dds = DeseqDataSet(counts=df, metadata=filtered_cell_meta, design_factors=design_factors)"
   ],
   "id": "407f8a695c9e588b",
   "outputs": [
    {
     "name": "stderr",
     "output_type": "stream",
     "text": [
      "/var/folders/qb/t7qv2b9n33n2xzbjvg_dk_4c0000gn/T/ipykernel_47620/3715242941.py:3: DeprecationWarning: design_factors is deprecated and will soon be removed.Please consider providing a formulaic formula using the design argumentinstead.\n",
      "  dds = DeseqDataSet(counts=df, metadata=filtered_cell_meta, design_factors=design_factors)\n"
     ]
    }
   ],
   "execution_count": 36
  },
  {
   "metadata": {
    "ExecuteTime": {
     "end_time": "2025-04-05T09:22:24.764799Z",
     "start_time": "2025-04-05T09:14:06.731552Z"
    }
   },
   "cell_type": "code",
   "source": "dds.deseq2()",
   "id": "90e490f4047cc7f9",
   "outputs": [
    {
     "name": "stderr",
     "output_type": "stream",
     "text": [
      "Fitting size factors...\n"
     ]
    },
    {
     "name": "stdout",
     "output_type": "stream",
     "text": [
      "Using None as control genes, passed at DeseqDataSet initialization\n"
     ]
    },
    {
     "name": "stderr",
     "output_type": "stream",
     "text": [
      "... done in 0.67 seconds.\n",
      "\n",
      "Fitting dispersions...\n",
      "... done in 58.36 seconds.\n",
      "\n",
      "Fitting dispersion trend curve...\n",
      "... done in 1.82 seconds.\n",
      "\n",
      "Fitting MAP dispersions...\n",
      "... done in 64.53 seconds.\n",
      "\n",
      "Fitting LFCs...\n",
      "... done in 193.93 seconds.\n",
      "\n",
      "Calculating cook's distance...\n",
      "... done in 1.75 seconds.\n",
      "\n",
      "Replacing 0 outlier genes.\n",
      "\n"
     ]
    }
   ],
   "execution_count": 37
  },
  {
   "metadata": {
    "ExecuteTime": {
     "end_time": "2025-04-05T09:23:51.332596Z",
     "start_time": "2025-04-05T09:23:44.216919Z"
    }
   },
   "cell_type": "code",
   "source": [
    "contrast = (\"Diagnosis\", \"PD\", \"Control\")\n",
    "deseq_stats = DeseqStats(dds, contrast=contrast)\n",
    "deseq_stats.summary()\n",
    "deg_results = deseq_stats.results_df\n",
    "deg_results.head()"
   ],
   "id": "9506dcdd69b8e0e4",
   "outputs": [
    {
     "name": "stderr",
     "output_type": "stream",
     "text": [
      "Running Wald tests...\n",
      "... done in 6.22 seconds.\n",
      "\n"
     ]
    },
    {
     "name": "stdout",
     "output_type": "stream",
     "text": [
      "Log2 fold change & Wald test p-value: Diagnosis PD vs Control\n",
      "                     baseMean  log2FoldChange     lfcSE      stat    pvalue  \\\n",
      "ENSG00000223972.5    7.864582       -0.356643  0.186336 -1.913979  0.055623   \n",
      "ENSG00000227232.5  105.204727       -0.184736  0.084349 -2.190148  0.028514   \n",
      "ENSG00000278267.1   13.164982       -0.180613  0.129696 -1.392585  0.163745   \n",
      "ENSG00000243485.5    1.696794       -0.716315  0.478724 -1.496300  0.134576   \n",
      "ENSG00000237613.2    1.349785       -1.032066  0.623383 -1.655589  0.097805   \n",
      "...                       ...             ...       ...       ...       ...   \n",
      "ENSG00000276017.1    1.136266        0.036301  0.881074  0.041201  0.967136   \n",
      "ENSG00000278817.1    8.372740       -0.086644  0.122842 -0.705335  0.480602   \n",
      "ENSG00000277196.4    2.276256       -0.529988  0.472972 -1.120547  0.262481   \n",
      "ENSG00000278625.1    0.111752       -0.098932  1.045623 -0.094616  0.924620   \n",
      "ENSG00000277374.1    0.012882       -0.083953  3.179836 -0.026402  0.978937   \n",
      "\n",
      "                       padj  \n",
      "ENSG00000223972.5  0.267199  \n",
      "ENSG00000227232.5  0.235717  \n",
      "ENSG00000278267.1  0.408052  \n",
      "ENSG00000243485.5  0.370317  \n",
      "ENSG00000237613.2  0.322530  \n",
      "...                     ...  \n",
      "ENSG00000276017.1  0.996753  \n",
      "ENSG00000278817.1  0.762559  \n",
      "ENSG00000277196.4  0.530661  \n",
      "ENSG00000278625.1  0.994758  \n",
      "ENSG00000277374.1  0.997749  \n",
      "\n",
      "[57261 rows x 6 columns]\n"
     ]
    },
    {
     "data": {
      "text/plain": [
       "                     baseMean  log2FoldChange     lfcSE      stat    pvalue  \\\n",
       "ENSG00000223972.5    7.864582       -0.356643  0.186336 -1.913979  0.055623   \n",
       "ENSG00000227232.5  105.204727       -0.184736  0.084349 -2.190148  0.028514   \n",
       "ENSG00000278267.1   13.164982       -0.180613  0.129696 -1.392585  0.163745   \n",
       "ENSG00000243485.5    1.696794       -0.716315  0.478724 -1.496300  0.134576   \n",
       "ENSG00000237613.2    1.349785       -1.032066  0.623383 -1.655589  0.097805   \n",
       "\n",
       "                       padj  \n",
       "ENSG00000223972.5  0.267199  \n",
       "ENSG00000227232.5  0.235717  \n",
       "ENSG00000278267.1  0.408052  \n",
       "ENSG00000243485.5  0.370317  \n",
       "ENSG00000237613.2  0.322530  "
      ],
      "text/html": [
       "<div>\n",
       "<style scoped>\n",
       "    .dataframe tbody tr th:only-of-type {\n",
       "        vertical-align: middle;\n",
       "    }\n",
       "\n",
       "    .dataframe tbody tr th {\n",
       "        vertical-align: top;\n",
       "    }\n",
       "\n",
       "    .dataframe thead th {\n",
       "        text-align: right;\n",
       "    }\n",
       "</style>\n",
       "<table border=\"1\" class=\"dataframe\">\n",
       "  <thead>\n",
       "    <tr style=\"text-align: right;\">\n",
       "      <th></th>\n",
       "      <th>baseMean</th>\n",
       "      <th>log2FoldChange</th>\n",
       "      <th>lfcSE</th>\n",
       "      <th>stat</th>\n",
       "      <th>pvalue</th>\n",
       "      <th>padj</th>\n",
       "    </tr>\n",
       "  </thead>\n",
       "  <tbody>\n",
       "    <tr>\n",
       "      <th>ENSG00000223972.5</th>\n",
       "      <td>7.864582</td>\n",
       "      <td>-0.356643</td>\n",
       "      <td>0.186336</td>\n",
       "      <td>-1.913979</td>\n",
       "      <td>0.055623</td>\n",
       "      <td>0.267199</td>\n",
       "    </tr>\n",
       "    <tr>\n",
       "      <th>ENSG00000227232.5</th>\n",
       "      <td>105.204727</td>\n",
       "      <td>-0.184736</td>\n",
       "      <td>0.084349</td>\n",
       "      <td>-2.190148</td>\n",
       "      <td>0.028514</td>\n",
       "      <td>0.235717</td>\n",
       "    </tr>\n",
       "    <tr>\n",
       "      <th>ENSG00000278267.1</th>\n",
       "      <td>13.164982</td>\n",
       "      <td>-0.180613</td>\n",
       "      <td>0.129696</td>\n",
       "      <td>-1.392585</td>\n",
       "      <td>0.163745</td>\n",
       "      <td>0.408052</td>\n",
       "    </tr>\n",
       "    <tr>\n",
       "      <th>ENSG00000243485.5</th>\n",
       "      <td>1.696794</td>\n",
       "      <td>-0.716315</td>\n",
       "      <td>0.478724</td>\n",
       "      <td>-1.496300</td>\n",
       "      <td>0.134576</td>\n",
       "      <td>0.370317</td>\n",
       "    </tr>\n",
       "    <tr>\n",
       "      <th>ENSG00000237613.2</th>\n",
       "      <td>1.349785</td>\n",
       "      <td>-1.032066</td>\n",
       "      <td>0.623383</td>\n",
       "      <td>-1.655589</td>\n",
       "      <td>0.097805</td>\n",
       "      <td>0.322530</td>\n",
       "    </tr>\n",
       "  </tbody>\n",
       "</table>\n",
       "</div>"
      ]
     },
     "execution_count": 38,
     "metadata": {},
     "output_type": "execute_result"
    }
   ],
   "execution_count": 38
  },
  {
   "metadata": {
    "ExecuteTime": {
     "end_time": "2025-04-05T09:28:35.369268Z",
     "start_time": "2025-04-05T09:28:35.301304Z"
    }
   },
   "cell_type": "code",
   "source": [
    "deg_results['abs_log2FoldChange'] = deg_results['log2FoldChange'].abs()\n",
    "deg_results['padj'] = deg_results['padj'].fillna(1)\n",
    "deg_results.sort_values(by=[\"abs_log2FoldChange\", \"padj\"], ascending=[False, True])"
   ],
   "id": "4c318b1f90da99d8",
   "outputs": [
    {
     "data": {
      "text/plain": [
       "                       baseMean  log2FoldChange     lfcSE          stat  \\\n",
       "ENSG00000235226.1      0.706459   -9.935837e+00  4.951459 -2.006648e+00   \n",
       "ENSG00000217272.1      0.731186   -9.732976e+00  4.151937 -2.344201e+00   \n",
       "ENSG00000270654.1      0.668464   -9.719333e+00  4.923692 -1.973993e+00   \n",
       "ENSG00000202034.1      0.601568   -9.710986e+00  5.490118 -1.768812e+00   \n",
       "ENSG00000284356.1      0.427614    9.665530e+00  6.656516  1.452040e+00   \n",
       "...                         ...             ...       ...           ...   \n",
       "ENSG00000101150.17  3188.492065    9.552136e-06  0.033075  2.888025e-04   \n",
       "ENSG00000236232.1      0.645880    6.559272e-06  0.762917  8.597626e-06   \n",
       "ENSG00000160688.18   634.555129    6.298037e-06  0.023670  2.660776e-04   \n",
       "ENSG00000113303.11   733.840685    5.513657e-06  0.051323  1.074300e-04   \n",
       "ENSG00000229969.1      1.022792   -2.656092e-07  0.601312 -4.417160e-07   \n",
       "\n",
       "                      pvalue      padj  abs_log2FoldChange  \n",
       "ENSG00000235226.1   0.044787  0.253729        9.935837e+00  \n",
       "ENSG00000217272.1   0.019068  0.222244        9.732976e+00  \n",
       "ENSG00000270654.1   0.048383  0.257571        9.719333e+00  \n",
       "ENSG00000202034.1   0.076925  0.294213        9.710986e+00  \n",
       "ENSG00000284356.1   0.146490  0.385784        9.665530e+00  \n",
       "...                      ...       ...                 ...  \n",
       "ENSG00000101150.17  0.999770  0.999965        9.552136e-06  \n",
       "ENSG00000236232.1   0.999993  1.000000        6.559272e-06  \n",
       "ENSG00000160688.18  0.999788  0.999965        6.298037e-06  \n",
       "ENSG00000113303.11  0.999914  0.999984        5.513657e-06  \n",
       "ENSG00000229969.1   1.000000  1.000000        2.656092e-07  \n",
       "\n",
       "[57210 rows x 7 columns]"
      ],
      "text/html": [
       "<div>\n",
       "<style scoped>\n",
       "    .dataframe tbody tr th:only-of-type {\n",
       "        vertical-align: middle;\n",
       "    }\n",
       "\n",
       "    .dataframe tbody tr th {\n",
       "        vertical-align: top;\n",
       "    }\n",
       "\n",
       "    .dataframe thead th {\n",
       "        text-align: right;\n",
       "    }\n",
       "</style>\n",
       "<table border=\"1\" class=\"dataframe\">\n",
       "  <thead>\n",
       "    <tr style=\"text-align: right;\">\n",
       "      <th></th>\n",
       "      <th>baseMean</th>\n",
       "      <th>log2FoldChange</th>\n",
       "      <th>lfcSE</th>\n",
       "      <th>stat</th>\n",
       "      <th>pvalue</th>\n",
       "      <th>padj</th>\n",
       "      <th>abs_log2FoldChange</th>\n",
       "    </tr>\n",
       "  </thead>\n",
       "  <tbody>\n",
       "    <tr>\n",
       "      <th>ENSG00000235226.1</th>\n",
       "      <td>0.706459</td>\n",
       "      <td>-9.935837e+00</td>\n",
       "      <td>4.951459</td>\n",
       "      <td>-2.006648e+00</td>\n",
       "      <td>0.044787</td>\n",
       "      <td>0.253729</td>\n",
       "      <td>9.935837e+00</td>\n",
       "    </tr>\n",
       "    <tr>\n",
       "      <th>ENSG00000217272.1</th>\n",
       "      <td>0.731186</td>\n",
       "      <td>-9.732976e+00</td>\n",
       "      <td>4.151937</td>\n",
       "      <td>-2.344201e+00</td>\n",
       "      <td>0.019068</td>\n",
       "      <td>0.222244</td>\n",
       "      <td>9.732976e+00</td>\n",
       "    </tr>\n",
       "    <tr>\n",
       "      <th>ENSG00000270654.1</th>\n",
       "      <td>0.668464</td>\n",
       "      <td>-9.719333e+00</td>\n",
       "      <td>4.923692</td>\n",
       "      <td>-1.973993e+00</td>\n",
       "      <td>0.048383</td>\n",
       "      <td>0.257571</td>\n",
       "      <td>9.719333e+00</td>\n",
       "    </tr>\n",
       "    <tr>\n",
       "      <th>ENSG00000202034.1</th>\n",
       "      <td>0.601568</td>\n",
       "      <td>-9.710986e+00</td>\n",
       "      <td>5.490118</td>\n",
       "      <td>-1.768812e+00</td>\n",
       "      <td>0.076925</td>\n",
       "      <td>0.294213</td>\n",
       "      <td>9.710986e+00</td>\n",
       "    </tr>\n",
       "    <tr>\n",
       "      <th>ENSG00000284356.1</th>\n",
       "      <td>0.427614</td>\n",
       "      <td>9.665530e+00</td>\n",
       "      <td>6.656516</td>\n",
       "      <td>1.452040e+00</td>\n",
       "      <td>0.146490</td>\n",
       "      <td>0.385784</td>\n",
       "      <td>9.665530e+00</td>\n",
       "    </tr>\n",
       "    <tr>\n",
       "      <th>...</th>\n",
       "      <td>...</td>\n",
       "      <td>...</td>\n",
       "      <td>...</td>\n",
       "      <td>...</td>\n",
       "      <td>...</td>\n",
       "      <td>...</td>\n",
       "      <td>...</td>\n",
       "    </tr>\n",
       "    <tr>\n",
       "      <th>ENSG00000101150.17</th>\n",
       "      <td>3188.492065</td>\n",
       "      <td>9.552136e-06</td>\n",
       "      <td>0.033075</td>\n",
       "      <td>2.888025e-04</td>\n",
       "      <td>0.999770</td>\n",
       "      <td>0.999965</td>\n",
       "      <td>9.552136e-06</td>\n",
       "    </tr>\n",
       "    <tr>\n",
       "      <th>ENSG00000236232.1</th>\n",
       "      <td>0.645880</td>\n",
       "      <td>6.559272e-06</td>\n",
       "      <td>0.762917</td>\n",
       "      <td>8.597626e-06</td>\n",
       "      <td>0.999993</td>\n",
       "      <td>1.000000</td>\n",
       "      <td>6.559272e-06</td>\n",
       "    </tr>\n",
       "    <tr>\n",
       "      <th>ENSG00000160688.18</th>\n",
       "      <td>634.555129</td>\n",
       "      <td>6.298037e-06</td>\n",
       "      <td>0.023670</td>\n",
       "      <td>2.660776e-04</td>\n",
       "      <td>0.999788</td>\n",
       "      <td>0.999965</td>\n",
       "      <td>6.298037e-06</td>\n",
       "    </tr>\n",
       "    <tr>\n",
       "      <th>ENSG00000113303.11</th>\n",
       "      <td>733.840685</td>\n",
       "      <td>5.513657e-06</td>\n",
       "      <td>0.051323</td>\n",
       "      <td>1.074300e-04</td>\n",
       "      <td>0.999914</td>\n",
       "      <td>0.999984</td>\n",
       "      <td>5.513657e-06</td>\n",
       "    </tr>\n",
       "    <tr>\n",
       "      <th>ENSG00000229969.1</th>\n",
       "      <td>1.022792</td>\n",
       "      <td>-2.656092e-07</td>\n",
       "      <td>0.601312</td>\n",
       "      <td>-4.417160e-07</td>\n",
       "      <td>1.000000</td>\n",
       "      <td>1.000000</td>\n",
       "      <td>2.656092e-07</td>\n",
       "    </tr>\n",
       "  </tbody>\n",
       "</table>\n",
       "<p>57210 rows × 7 columns</p>\n",
       "</div>"
      ]
     },
     "execution_count": 49,
     "metadata": {},
     "output_type": "execute_result"
    }
   ],
   "execution_count": 49
  },
  {
   "metadata": {
    "ExecuteTime": {
     "end_time": "2025-04-05T09:28:22.853036Z",
     "start_time": "2025-04-05T09:28:22.832671Z"
    }
   },
   "cell_type": "code",
   "source": "deg_results = deg_results.drop(index=deg_results[deg_results[\"abs_log2FoldChange\"] >= 10].index)",
   "id": "ab09a67421f96b3",
   "outputs": [],
   "execution_count": 47
  },
  {
   "metadata": {
    "ExecuteTime": {
     "end_time": "2025-04-05T09:28:26.304084Z",
     "start_time": "2025-04-05T09:28:24.290944Z"
    }
   },
   "cell_type": "code",
   "source": [
    "import matplotlib.pyplot as plt\n",
    "import seaborn as sns\n",
    "import numpy as np\n",
    "\n",
    "plt.figure(figsize=(10,6))\n",
    "sns.scatterplot(x=deg_results['log2FoldChange'],\n",
    "                y=-np.log10(deg_results['pvalue']),\n",
    "                hue=((deg_results['padj'] < 0.05) & (deg_results['abs_log2FoldChange'] > 1)))\n",
    "plt.axvline(-1, color='k', linestyle='--')\n",
    "plt.axvline(1, color='k', linestyle='--')\n",
    "plt.title(\"PD vs Control\")\n",
    "plt.show()"
   ],
   "id": "32b2ddcc41c22418",
   "outputs": [
    {
     "data": {
      "text/plain": [
       "<Figure size 1000x600 with 1 Axes>"
      ],
      "image/png": "[encoded data removed]"
     },
     "metadata": {},
     "output_type": "display_data"
    }
   ],
   "execution_count": 48
  },
  {
   "metadata": {},
   "cell_type": "code",
   "outputs": [],
   "execution_count": null,
   "source": "",
   "id": "5b110fcb68c4a573"
  }
 ],
 "metadata": {
  "kernelspec": {
   "display_name": "Python 3",
   "language": "python",
   "name": "python3"
  },
  "language_info": {
   "codemirror_mode": {
    "name": "ipython",
    "version": 2
   },
   "file_extension": ".py",
   "mimetype": "text/x-python",
   "name": "python",
   "nbconvert_exporter": "python",
   "pygments_lexer": "ipython2",
   "version": "2.7.6"
  }
 },
 "nbformat": 4,
 "nbformat_minor": 5
}
