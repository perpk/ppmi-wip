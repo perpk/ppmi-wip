{
 "cells": [
  {
   "cell_type": "code",
   "id": "initial_id",
   "metadata": {
    "collapsed": true,
    "ExecuteTime": {
     "end_time": "2025-05-14T19:24:54.213333Z",
     "start_time": "2025-05-14T19:24:54.206926Z"
    }
   },
   "source": [
    "ppmi_data_path = \"/Users/kpax/Documents/aep/study/MSC/lab/PPMI_Project_133_RNASeq\"\n",
    "ppmi_meta_original = f\"{ppmi_data_path}/metaDataIR3.csv\""
   ],
   "outputs": [],
   "execution_count": 41
  },
  {
   "metadata": {
    "ExecuteTime": {
     "end_time": "2025-05-14T19:24:54.874868Z",
     "start_time": "2025-05-14T19:24:54.871100Z"
    }
   },
   "cell_type": "code",
   "source": "import pandas as pd",
   "id": "a3347ed76ac0b3b1",
   "outputs": [],
   "execution_count": 42
  },
  {
   "metadata": {
    "ExecuteTime": {
     "end_time": "2025-05-14T19:27:39.267957Z",
     "start_time": "2025-05-14T19:27:39.188444Z"
    }
   },
   "cell_type": "code",
   "source": "ppmi_meta_original_data = pd.read_csv(ppmi_meta_original)",
   "id": "b9ae7bd65dd25bc0",
   "outputs": [],
   "execution_count": 52
  },
  {
   "metadata": {
    "ExecuteTime": {
     "end_time": "2025-05-14T19:24:55.791331Z",
     "start_time": "2025-05-14T19:24:55.788668Z"
    }
   },
   "cell_type": "code",
   "source": "import anndata as ad",
   "id": "dc3c5110127a7f95",
   "outputs": [],
   "execution_count": 44
  },
  {
   "metadata": {
    "ExecuteTime": {
     "end_time": "2025-05-14T19:02:26.320767Z",
     "start_time": "2025-05-14T19:02:10.068375Z"
    }
   },
   "cell_type": "code",
   "source": "ppmi_ad = ad.read_h5ad(f\"{ppmi_data_path}/ppmi_adata.h5ad\")",
   "id": "ef7532fa7a112efb",
   "outputs": [],
   "execution_count": 6
  },
  {
   "metadata": {
    "ExecuteTime": {
     "end_time": "2025-05-14T19:27:43.591718Z",
     "start_time": "2025-05-14T19:27:43.580583Z"
    }
   },
   "cell_type": "code",
   "source": "ppmi_meta_original_data = ppmi_meta_original_data[ppmi_meta_original_data[\"QCflagIR3\"] == \"pass\"]",
   "id": "33f573b6cb682220",
   "outputs": [],
   "execution_count": 53
  },
  {
   "metadata": {
    "ExecuteTime": {
     "end_time": "2025-05-14T19:27:46.625980Z",
     "start_time": "2025-05-14T19:27:46.619465Z"
    }
   },
   "cell_type": "code",
   "source": "ppmi_meta_original_data = ppmi_meta_original_data[[\"Sample\", \"GENDER\"]]",
   "id": "6f7621b913895e36",
   "outputs": [],
   "execution_count": 54
  },
  {
   "metadata": {
    "ExecuteTime": {
     "end_time": "2025-05-14T19:27:47.804359Z",
     "start_time": "2025-05-14T19:27:47.796810Z"
    }
   },
   "cell_type": "code",
   "source": "ppmi_meta_original_data.shape",
   "id": "d5f36308e4ff11a4",
   "outputs": [
    {
     "data": {
      "text/plain": [
       "(4756, 2)"
      ]
     },
     "execution_count": 55,
     "metadata": {},
     "output_type": "execute_result"
    }
   ],
   "execution_count": 55
  },
  {
   "metadata": {
    "ExecuteTime": {
     "end_time": "2025-05-14T19:27:50.235456Z",
     "start_time": "2025-05-14T19:27:50.220594Z"
    }
   },
   "cell_type": "code",
   "source": [
    "ppmi_meta_original_data['Sample'] = ppmi_meta_original_data['Sample'].str.replace(r'PPMI-Phase\\d-IR\\d\\.', '', regex=True)\n",
    "ppmi_meta_original_data.set_index('Sample', inplace=True)"
   ],
   "id": "547a539411918c6f",
   "outputs": [],
   "execution_count": 56
  },
  {
   "metadata": {
    "ExecuteTime": {
     "end_time": "2025-05-14T19:16:43.765591Z",
     "start_time": "2025-05-14T19:16:43.758570Z"
    }
   },
   "cell_type": "code",
   "source": [
    "ppmi_sample_diagnosis_data = ppmi_ad.obs[['Sample', 'Gender']].copy()\n",
    "ppmi_sample_diagnosis_data.set_index('Sample', inplace=True)"
   ],
   "id": "e802b8ce2bc5bec0",
   "outputs": [],
   "execution_count": 28
  },
  {
   "metadata": {
    "ExecuteTime": {
     "end_time": "2025-05-14T19:15:01.382064Z",
     "start_time": "2025-05-14T19:15:01.371161Z"
    }
   },
   "cell_type": "code",
   "source": "ppmi_sample_diagnosis_data.head()",
   "id": "8649c65580af95d8",
   "outputs": [
    {
     "data": {
      "text/plain": [
       "                                  Gender\n",
       "Sample                                  \n",
       "3174.V08.0000373111.5104.SL.0001    Male\n",
       "3201.BL.PP0016.0526.5104.SL.0002  Female\n",
       "3057.V06.0003125874.5104.SL.0003  Female\n",
       "4126.V04.0003179818.5104.SL.0004    Male\n",
       "4117.BL.0003164601.5104.SL.0005   Female"
      ],
      "text/html": [
       "<div>\n",
       "<style scoped>\n",
       "    .dataframe tbody tr th:only-of-type {\n",
       "        vertical-align: middle;\n",
       "    }\n",
       "\n",
       "    .dataframe tbody tr th {\n",
       "        vertical-align: top;\n",
       "    }\n",
       "\n",
       "    .dataframe thead th {\n",
       "        text-align: right;\n",
       "    }\n",
       "</style>\n",
       "<table border=\"1\" class=\"dataframe\">\n",
       "  <thead>\n",
       "    <tr style=\"text-align: right;\">\n",
       "      <th></th>\n",
       "      <th>Gender</th>\n",
       "    </tr>\n",
       "    <tr>\n",
       "      <th>Sample</th>\n",
       "      <th></th>\n",
       "    </tr>\n",
       "  </thead>\n",
       "  <tbody>\n",
       "    <tr>\n",
       "      <th>3174.V08.0000373111.5104.SL.0001</th>\n",
       "      <td>Male</td>\n",
       "    </tr>\n",
       "    <tr>\n",
       "      <th>3201.BL.PP0016.0526.5104.SL.0002</th>\n",
       "      <td>Female</td>\n",
       "    </tr>\n",
       "    <tr>\n",
       "      <th>3057.V06.0003125874.5104.SL.0003</th>\n",
       "      <td>Female</td>\n",
       "    </tr>\n",
       "    <tr>\n",
       "      <th>4126.V04.0003179818.5104.SL.0004</th>\n",
       "      <td>Male</td>\n",
       "    </tr>\n",
       "    <tr>\n",
       "      <th>4117.BL.0003164601.5104.SL.0005</th>\n",
       "      <td>Female</td>\n",
       "    </tr>\n",
       "  </tbody>\n",
       "</table>\n",
       "</div>"
      ]
     },
     "execution_count": 23,
     "metadata": {},
     "output_type": "execute_result"
    }
   ],
   "execution_count": 23
  },
  {
   "metadata": {
    "ExecuteTime": {
     "end_time": "2025-05-14T19:16:54.440441Z",
     "start_time": "2025-05-14T19:16:54.427831Z"
    }
   },
   "cell_type": "code",
   "source": "ppmi_meta_original_data",
   "id": "c0235c76e2410c7b",
   "outputs": [
    {
     "data": {
      "text/plain": [
       "                                   GENDER\n",
       "Sample                                   \n",
       "3174.V08.0000373111.5104-SL-0001     Male\n",
       "3201.BL.PP0016-0526.5104-SL-0002   Female\n",
       "3057.V06.0003125874.5104-SL-0003   Female\n",
       "4126.V04.0003179818.5104-SL-0004     Male\n",
       "4117.BL.0003164601.5104-SL-0005    Female\n",
       "...                                   ...\n",
       "41314.V02.0003314545.5104-SL-4890  Female\n",
       "42308.V02.0003376702.5104-SL-4891    Male\n",
       "42306.V02.0003376763.5104-SL-4892    Male\n",
       "1009.POOL.0003203630.5104-SL-4893     Unk\n",
       "1010.POOL.0003202476.5104-SL-4894     Unk\n",
       "\n",
       "[4756 rows x 1 columns]"
      ],
      "text/html": [
       "<div>\n",
       "<style scoped>\n",
       "    .dataframe tbody tr th:only-of-type {\n",
       "        vertical-align: middle;\n",
       "    }\n",
       "\n",
       "    .dataframe tbody tr th {\n",
       "        vertical-align: top;\n",
       "    }\n",
       "\n",
       "    .dataframe thead th {\n",
       "        text-align: right;\n",
       "    }\n",
       "</style>\n",
       "<table border=\"1\" class=\"dataframe\">\n",
       "  <thead>\n",
       "    <tr style=\"text-align: right;\">\n",
       "      <th></th>\n",
       "      <th>GENDER</th>\n",
       "    </tr>\n",
       "    <tr>\n",
       "      <th>Sample</th>\n",
       "      <th></th>\n",
       "    </tr>\n",
       "  </thead>\n",
       "  <tbody>\n",
       "    <tr>\n",
       "      <th>3174.V08.0000373111.5104-SL-0001</th>\n",
       "      <td>Male</td>\n",
       "    </tr>\n",
       "    <tr>\n",
       "      <th>3201.BL.PP0016-0526.5104-SL-0002</th>\n",
       "      <td>Female</td>\n",
       "    </tr>\n",
       "    <tr>\n",
       "      <th>3057.V06.0003125874.5104-SL-0003</th>\n",
       "      <td>Female</td>\n",
       "    </tr>\n",
       "    <tr>\n",
       "      <th>4126.V04.0003179818.5104-SL-0004</th>\n",
       "      <td>Male</td>\n",
       "    </tr>\n",
       "    <tr>\n",
       "      <th>4117.BL.0003164601.5104-SL-0005</th>\n",
       "      <td>Female</td>\n",
       "    </tr>\n",
       "    <tr>\n",
       "      <th>...</th>\n",
       "      <td>...</td>\n",
       "    </tr>\n",
       "    <tr>\n",
       "      <th>41314.V02.0003314545.5104-SL-4890</th>\n",
       "      <td>Female</td>\n",
       "    </tr>\n",
       "    <tr>\n",
       "      <th>42308.V02.0003376702.5104-SL-4891</th>\n",
       "      <td>Male</td>\n",
       "    </tr>\n",
       "    <tr>\n",
       "      <th>42306.V02.0003376763.5104-SL-4892</th>\n",
       "      <td>Male</td>\n",
       "    </tr>\n",
       "    <tr>\n",
       "      <th>1009.POOL.0003203630.5104-SL-4893</th>\n",
       "      <td>Unk</td>\n",
       "    </tr>\n",
       "    <tr>\n",
       "      <th>1010.POOL.0003202476.5104-SL-4894</th>\n",
       "      <td>Unk</td>\n",
       "    </tr>\n",
       "  </tbody>\n",
       "</table>\n",
       "<p>4756 rows × 1 columns</p>\n",
       "</div>"
      ]
     },
     "execution_count": 29,
     "metadata": {},
     "output_type": "execute_result"
    }
   ],
   "execution_count": 29
  },
  {
   "metadata": {
    "ExecuteTime": {
     "end_time": "2025-05-14T19:19:25.365826Z",
     "start_time": "2025-05-14T19:19:25.185454Z"
    }
   },
   "cell_type": "code",
   "source": [
    "ppmi_sample_diagnosis_data.index = ppmi_sample_diagnosis_data.index.str.replace(r'\\.', '-', regex=True)\n",
    "comparison = ppmi_meta_original_data.loc[ppmi_sample_diagnosis_data.index, \"GENDER\"] == ppmi_sample_diagnosis_data[\"Gender\"]\n",
    "# differences = comparison[~comparison].index\n",
    "# differences_list = ppmi_meta_original_data.loc[differences, \"GENDER\"].to_frame().join(ppmi_sample_diagnosis_data.loc[differences, \"Gender\"], lsuffix='_meta', rsuffix='_diagnosis')\n",
    "# differences_list"
   ],
   "id": "19f160f2ce42341f",
   "outputs": [
    {
     "ename": "KeyError",
     "evalue": "\"None of [Index(['3174-V08-0000373111-5104-SL-0001', '3201-BL-PP0016-0526-5104-SL-0002',\\n       '3057-V06-0003125874-5104-SL-0003', '4126-V04-0003179818-5104-SL-0004',\\n       '4117-BL-0003164601-5104-SL-0005', '3057-V04-0003119973-5104-SL-0006',\\n       '3471-BL-PP0015-6713-5104-SL-0007', '3174-V04-0003162443-5104-SL-0008',\\n       '3661-V04-0003169393-5104-SL-0009', '3551-V06-0003158673-5104-SL-0010',\\n       ...\\n       '41375-V02-0003314306-5104-SL-4885',\\n       '41292-V04-0003314317-5104-SL-4886',\\n       '41356-V02-0003314328-5104-SL-4887',\\n       '41296-V02-0003314372-5104-SL-4888',\\n       '41294-V04-0003314383-5104-SL-4889',\\n       '41314-V02-0003314545-5104-SL-4890',\\n       '42308-V02-0003376702-5104-SL-4891',\\n       '42306-V02-0003376763-5104-SL-4892',\\n       '1009-POOL-0003203630-5104-SL-4893',\\n       '1010-POOL-0003202476-5104-SL-4894'],\\n      dtype='object', name='Sample', length=4756)] are in the [index]\"",
     "output_type": "error",
     "traceback": [
      "\u001B[31m---------------------------------------------------------------------------\u001B[39m",
      "\u001B[31mKeyError\u001B[39m                                  Traceback (most recent call last)",
      "\u001B[36mCell\u001B[39m\u001B[36m \u001B[39m\u001B[32mIn[32]\u001B[39m\u001B[32m, line 2\u001B[39m\n\u001B[32m      1\u001B[39m ppmi_sample_diagnosis_data.index = ppmi_sample_diagnosis_data.index.str.replace(\u001B[33mr\u001B[39m\u001B[33m'\u001B[39m\u001B[33m\\\u001B[39m\u001B[33m.\u001B[39m\u001B[33m'\u001B[39m, \u001B[33m'\u001B[39m\u001B[33m-\u001B[39m\u001B[33m'\u001B[39m, regex=\u001B[38;5;28;01mTrue\u001B[39;00m)\n\u001B[32m----> \u001B[39m\u001B[32m2\u001B[39m comparison = \u001B[43mppmi_meta_original_data\u001B[49m\u001B[43m.\u001B[49m\u001B[43mloc\u001B[49m\u001B[43m[\u001B[49m\u001B[43mppmi_sample_diagnosis_data\u001B[49m\u001B[43m.\u001B[49m\u001B[43mindex\u001B[49m\u001B[43m,\u001B[49m\u001B[43m \u001B[49m\u001B[33;43m\"\u001B[39;49m\u001B[33;43mGENDER\u001B[39;49m\u001B[33;43m\"\u001B[39;49m\u001B[43m]\u001B[49m == ppmi_sample_diagnosis_data[\u001B[33m\"\u001B[39m\u001B[33mGender\u001B[39m\u001B[33m\"\u001B[39m]\n\u001B[32m      3\u001B[39m \u001B[38;5;66;03m# differences = comparison[~comparison].index\u001B[39;00m\n\u001B[32m      4\u001B[39m \u001B[38;5;66;03m# differences_list = ppmi_meta_original_data.loc[differences, \"GENDER\"].to_frame().join(ppmi_sample_diagnosis_data.loc[differences, \"Gender\"], lsuffix='_meta', rsuffix='_diagnosis')\u001B[39;00m\n\u001B[32m      5\u001B[39m \u001B[38;5;66;03m# differences_list\u001B[39;00m\n",
      "\u001B[36mFile \u001B[39m\u001B[32m~/Documents/aep/study/MSC/lab/ppmi-wip/ppmi-env/lib/python3.12/site-packages/pandas/core/indexing.py:1184\u001B[39m, in \u001B[36m_LocationIndexer.__getitem__\u001B[39m\u001B[34m(self, key)\u001B[39m\n\u001B[32m   1182\u001B[39m     \u001B[38;5;28;01mif\u001B[39;00m \u001B[38;5;28mself\u001B[39m._is_scalar_access(key):\n\u001B[32m   1183\u001B[39m         \u001B[38;5;28;01mreturn\u001B[39;00m \u001B[38;5;28mself\u001B[39m.obj._get_value(*key, takeable=\u001B[38;5;28mself\u001B[39m._takeable)\n\u001B[32m-> \u001B[39m\u001B[32m1184\u001B[39m     \u001B[38;5;28;01mreturn\u001B[39;00m \u001B[38;5;28;43mself\u001B[39;49m\u001B[43m.\u001B[49m\u001B[43m_getitem_tuple\u001B[49m\u001B[43m(\u001B[49m\u001B[43mkey\u001B[49m\u001B[43m)\u001B[49m\n\u001B[32m   1185\u001B[39m \u001B[38;5;28;01melse\u001B[39;00m:\n\u001B[32m   1186\u001B[39m     \u001B[38;5;66;03m# we by definition only have the 0th axis\u001B[39;00m\n\u001B[32m   1187\u001B[39m     axis = \u001B[38;5;28mself\u001B[39m.axis \u001B[38;5;129;01mor\u001B[39;00m \u001B[32m0\u001B[39m\n",
      "\u001B[36mFile \u001B[39m\u001B[32m~/Documents/aep/study/MSC/lab/ppmi-wip/ppmi-env/lib/python3.12/site-packages/pandas/core/indexing.py:1368\u001B[39m, in \u001B[36m_LocIndexer._getitem_tuple\u001B[39m\u001B[34m(self, tup)\u001B[39m\n\u001B[32m   1366\u001B[39m \u001B[38;5;28;01mwith\u001B[39;00m suppress(IndexingError):\n\u001B[32m   1367\u001B[39m     tup = \u001B[38;5;28mself\u001B[39m._expand_ellipsis(tup)\n\u001B[32m-> \u001B[39m\u001B[32m1368\u001B[39m     \u001B[38;5;28;01mreturn\u001B[39;00m \u001B[38;5;28;43mself\u001B[39;49m\u001B[43m.\u001B[49m\u001B[43m_getitem_lowerdim\u001B[49m\u001B[43m(\u001B[49m\u001B[43mtup\u001B[49m\u001B[43m)\u001B[49m\n\u001B[32m   1370\u001B[39m \u001B[38;5;66;03m# no multi-index, so validate all of the indexers\u001B[39;00m\n\u001B[32m   1371\u001B[39m tup = \u001B[38;5;28mself\u001B[39m._validate_tuple_indexer(tup)\n",
      "\u001B[36mFile \u001B[39m\u001B[32m~/Documents/aep/study/MSC/lab/ppmi-wip/ppmi-env/lib/python3.12/site-packages/pandas/core/indexing.py:1089\u001B[39m, in \u001B[36m_LocationIndexer._getitem_lowerdim\u001B[39m\u001B[34m(self, tup)\u001B[39m\n\u001B[32m   1087\u001B[39m             \u001B[38;5;28;01mreturn\u001B[39;00m section\n\u001B[32m   1088\u001B[39m         \u001B[38;5;66;03m# This is an elided recursive call to iloc/loc\u001B[39;00m\n\u001B[32m-> \u001B[39m\u001B[32m1089\u001B[39m         \u001B[38;5;28;01mreturn\u001B[39;00m \u001B[38;5;28;43mgetattr\u001B[39;49m\u001B[43m(\u001B[49m\u001B[43msection\u001B[49m\u001B[43m,\u001B[49m\u001B[43m \u001B[49m\u001B[38;5;28;43mself\u001B[39;49m\u001B[43m.\u001B[49m\u001B[43mname\u001B[49m\u001B[43m)\u001B[49m\u001B[43m[\u001B[49m\u001B[43mnew_key\u001B[49m\u001B[43m]\u001B[49m\n\u001B[32m   1091\u001B[39m \u001B[38;5;28;01mraise\u001B[39;00m IndexingError(\u001B[33m\"\u001B[39m\u001B[33mnot applicable\u001B[39m\u001B[33m\"\u001B[39m)\n",
      "\u001B[36mFile \u001B[39m\u001B[32m~/Documents/aep/study/MSC/lab/ppmi-wip/ppmi-env/lib/python3.12/site-packages/pandas/core/indexing.py:1191\u001B[39m, in \u001B[36m_LocationIndexer.__getitem__\u001B[39m\u001B[34m(self, key)\u001B[39m\n\u001B[32m   1189\u001B[39m maybe_callable = com.apply_if_callable(key, \u001B[38;5;28mself\u001B[39m.obj)\n\u001B[32m   1190\u001B[39m maybe_callable = \u001B[38;5;28mself\u001B[39m._check_deprecated_callable_usage(key, maybe_callable)\n\u001B[32m-> \u001B[39m\u001B[32m1191\u001B[39m \u001B[38;5;28;01mreturn\u001B[39;00m \u001B[38;5;28;43mself\u001B[39;49m\u001B[43m.\u001B[49m\u001B[43m_getitem_axis\u001B[49m\u001B[43m(\u001B[49m\u001B[43mmaybe_callable\u001B[49m\u001B[43m,\u001B[49m\u001B[43m \u001B[49m\u001B[43maxis\u001B[49m\u001B[43m=\u001B[49m\u001B[43maxis\u001B[49m\u001B[43m)\u001B[49m\n",
      "\u001B[36mFile \u001B[39m\u001B[32m~/Documents/aep/study/MSC/lab/ppmi-wip/ppmi-env/lib/python3.12/site-packages/pandas/core/indexing.py:1420\u001B[39m, in \u001B[36m_LocIndexer._getitem_axis\u001B[39m\u001B[34m(self, key, axis)\u001B[39m\n\u001B[32m   1417\u001B[39m     \u001B[38;5;28;01mif\u001B[39;00m \u001B[38;5;28mhasattr\u001B[39m(key, \u001B[33m\"\u001B[39m\u001B[33mndim\u001B[39m\u001B[33m\"\u001B[39m) \u001B[38;5;129;01mand\u001B[39;00m key.ndim > \u001B[32m1\u001B[39m:\n\u001B[32m   1418\u001B[39m         \u001B[38;5;28;01mraise\u001B[39;00m \u001B[38;5;167;01mValueError\u001B[39;00m(\u001B[33m\"\u001B[39m\u001B[33mCannot index with multidimensional key\u001B[39m\u001B[33m\"\u001B[39m)\n\u001B[32m-> \u001B[39m\u001B[32m1420\u001B[39m     \u001B[38;5;28;01mreturn\u001B[39;00m \u001B[38;5;28;43mself\u001B[39;49m\u001B[43m.\u001B[49m\u001B[43m_getitem_iterable\u001B[49m\u001B[43m(\u001B[49m\u001B[43mkey\u001B[49m\u001B[43m,\u001B[49m\u001B[43m \u001B[49m\u001B[43maxis\u001B[49m\u001B[43m=\u001B[49m\u001B[43maxis\u001B[49m\u001B[43m)\u001B[49m\n\u001B[32m   1422\u001B[39m \u001B[38;5;66;03m# nested tuple slicing\u001B[39;00m\n\u001B[32m   1423\u001B[39m \u001B[38;5;28;01mif\u001B[39;00m is_nested_tuple(key, labels):\n",
      "\u001B[36mFile \u001B[39m\u001B[32m~/Documents/aep/study/MSC/lab/ppmi-wip/ppmi-env/lib/python3.12/site-packages/pandas/core/indexing.py:1360\u001B[39m, in \u001B[36m_LocIndexer._getitem_iterable\u001B[39m\u001B[34m(self, key, axis)\u001B[39m\n\u001B[32m   1357\u001B[39m \u001B[38;5;28mself\u001B[39m._validate_key(key, axis)\n\u001B[32m   1359\u001B[39m \u001B[38;5;66;03m# A collection of keys\u001B[39;00m\n\u001B[32m-> \u001B[39m\u001B[32m1360\u001B[39m keyarr, indexer = \u001B[38;5;28;43mself\u001B[39;49m\u001B[43m.\u001B[49m\u001B[43m_get_listlike_indexer\u001B[49m\u001B[43m(\u001B[49m\u001B[43mkey\u001B[49m\u001B[43m,\u001B[49m\u001B[43m \u001B[49m\u001B[43maxis\u001B[49m\u001B[43m)\u001B[49m\n\u001B[32m   1361\u001B[39m \u001B[38;5;28;01mreturn\u001B[39;00m \u001B[38;5;28mself\u001B[39m.obj._reindex_with_indexers(\n\u001B[32m   1362\u001B[39m     {axis: [keyarr, indexer]}, copy=\u001B[38;5;28;01mTrue\u001B[39;00m, allow_dups=\u001B[38;5;28;01mTrue\u001B[39;00m\n\u001B[32m   1363\u001B[39m )\n",
      "\u001B[36mFile \u001B[39m\u001B[32m~/Documents/aep/study/MSC/lab/ppmi-wip/ppmi-env/lib/python3.12/site-packages/pandas/core/indexing.py:1558\u001B[39m, in \u001B[36m_LocIndexer._get_listlike_indexer\u001B[39m\u001B[34m(self, key, axis)\u001B[39m\n\u001B[32m   1555\u001B[39m ax = \u001B[38;5;28mself\u001B[39m.obj._get_axis(axis)\n\u001B[32m   1556\u001B[39m axis_name = \u001B[38;5;28mself\u001B[39m.obj._get_axis_name(axis)\n\u001B[32m-> \u001B[39m\u001B[32m1558\u001B[39m keyarr, indexer = \u001B[43max\u001B[49m\u001B[43m.\u001B[49m\u001B[43m_get_indexer_strict\u001B[49m\u001B[43m(\u001B[49m\u001B[43mkey\u001B[49m\u001B[43m,\u001B[49m\u001B[43m \u001B[49m\u001B[43maxis_name\u001B[49m\u001B[43m)\u001B[49m\n\u001B[32m   1560\u001B[39m \u001B[38;5;28;01mreturn\u001B[39;00m keyarr, indexer\n",
      "\u001B[36mFile \u001B[39m\u001B[32m~/Documents/aep/study/MSC/lab/ppmi-wip/ppmi-env/lib/python3.12/site-packages/pandas/core/indexes/base.py:6200\u001B[39m, in \u001B[36mIndex._get_indexer_strict\u001B[39m\u001B[34m(self, key, axis_name)\u001B[39m\n\u001B[32m   6197\u001B[39m \u001B[38;5;28;01melse\u001B[39;00m:\n\u001B[32m   6198\u001B[39m     keyarr, indexer, new_indexer = \u001B[38;5;28mself\u001B[39m._reindex_non_unique(keyarr)\n\u001B[32m-> \u001B[39m\u001B[32m6200\u001B[39m \u001B[38;5;28;43mself\u001B[39;49m\u001B[43m.\u001B[49m\u001B[43m_raise_if_missing\u001B[49m\u001B[43m(\u001B[49m\u001B[43mkeyarr\u001B[49m\u001B[43m,\u001B[49m\u001B[43m \u001B[49m\u001B[43mindexer\u001B[49m\u001B[43m,\u001B[49m\u001B[43m \u001B[49m\u001B[43maxis_name\u001B[49m\u001B[43m)\u001B[49m\n\u001B[32m   6202\u001B[39m keyarr = \u001B[38;5;28mself\u001B[39m.take(indexer)\n\u001B[32m   6203\u001B[39m \u001B[38;5;28;01mif\u001B[39;00m \u001B[38;5;28misinstance\u001B[39m(key, Index):\n\u001B[32m   6204\u001B[39m     \u001B[38;5;66;03m# GH 42790 - Preserve name from an Index\u001B[39;00m\n",
      "\u001B[36mFile \u001B[39m\u001B[32m~/Documents/aep/study/MSC/lab/ppmi-wip/ppmi-env/lib/python3.12/site-packages/pandas/core/indexes/base.py:6249\u001B[39m, in \u001B[36mIndex._raise_if_missing\u001B[39m\u001B[34m(self, key, indexer, axis_name)\u001B[39m\n\u001B[32m   6247\u001B[39m \u001B[38;5;28;01mif\u001B[39;00m nmissing:\n\u001B[32m   6248\u001B[39m     \u001B[38;5;28;01mif\u001B[39;00m nmissing == \u001B[38;5;28mlen\u001B[39m(indexer):\n\u001B[32m-> \u001B[39m\u001B[32m6249\u001B[39m         \u001B[38;5;28;01mraise\u001B[39;00m \u001B[38;5;167;01mKeyError\u001B[39;00m(\u001B[33mf\u001B[39m\u001B[33m\"\u001B[39m\u001B[33mNone of [\u001B[39m\u001B[38;5;132;01m{\u001B[39;00mkey\u001B[38;5;132;01m}\u001B[39;00m\u001B[33m] are in the [\u001B[39m\u001B[38;5;132;01m{\u001B[39;00maxis_name\u001B[38;5;132;01m}\u001B[39;00m\u001B[33m]\u001B[39m\u001B[33m\"\u001B[39m)\n\u001B[32m   6251\u001B[39m     not_found = \u001B[38;5;28mlist\u001B[39m(ensure_index(key)[missing_mask.nonzero()[\u001B[32m0\u001B[39m]].unique())\n\u001B[32m   6252\u001B[39m     \u001B[38;5;28;01mraise\u001B[39;00m \u001B[38;5;167;01mKeyError\u001B[39;00m(\u001B[33mf\u001B[39m\u001B[33m\"\u001B[39m\u001B[38;5;132;01m{\u001B[39;00mnot_found\u001B[38;5;132;01m}\u001B[39;00m\u001B[33m not in index\u001B[39m\u001B[33m\"\u001B[39m)\n",
      "\u001B[31mKeyError\u001B[39m: \"None of [Index(['3174-V08-0000373111-5104-SL-0001', '3201-BL-PP0016-0526-5104-SL-0002',\\n       '3057-V06-0003125874-5104-SL-0003', '4126-V04-0003179818-5104-SL-0004',\\n       '4117-BL-0003164601-5104-SL-0005', '3057-V04-0003119973-5104-SL-0006',\\n       '3471-BL-PP0015-6713-5104-SL-0007', '3174-V04-0003162443-5104-SL-0008',\\n       '3661-V04-0003169393-5104-SL-0009', '3551-V06-0003158673-5104-SL-0010',\\n       ...\\n       '41375-V02-0003314306-5104-SL-4885',\\n       '41292-V04-0003314317-5104-SL-4886',\\n       '41356-V02-0003314328-5104-SL-4887',\\n       '41296-V02-0003314372-5104-SL-4888',\\n       '41294-V04-0003314383-5104-SL-4889',\\n       '41314-V02-0003314545-5104-SL-4890',\\n       '42308-V02-0003376702-5104-SL-4891',\\n       '42306-V02-0003376763-5104-SL-4892',\\n       '1009-POOL-0003203630-5104-SL-4893',\\n       '1010-POOL-0003202476-5104-SL-4894'],\\n      dtype='object', name='Sample', length=4756)] are in the [index]\""
     ]
    }
   ],
   "execution_count": 32
  },
  {
   "metadata": {
    "ExecuteTime": {
     "end_time": "2025-05-14T19:27:58.023862Z",
     "start_time": "2025-05-14T19:27:58.012861Z"
    }
   },
   "cell_type": "code",
   "source": "ppmi_meta_original_data.index = ppmi_meta_original_data.index.str.replace(r'\\-', '.', regex=True)",
   "id": "e2b57459325e4a7f",
   "outputs": [],
   "execution_count": 57
  },
  {
   "metadata": {
    "ExecuteTime": {
     "end_time": "2025-05-14T19:23:09.073360Z",
     "start_time": "2025-05-14T19:23:09.062352Z"
    }
   },
   "cell_type": "code",
   "source": "ppmi_sample_diagnosis_data.index = ppmi_sample_diagnosis_data.index.str.replace(r'\\-', '.', regex=True)",
   "id": "44e2ebef1f228fc6",
   "outputs": [],
   "execution_count": 37
  },
  {
   "metadata": {
    "ExecuteTime": {
     "end_time": "2025-05-14T19:28:00.809947Z",
     "start_time": "2025-05-14T19:28:00.797195Z"
    }
   },
   "cell_type": "code",
   "source": "comparison = ppmi_meta_original_data.loc[ppmi_sample_diagnosis_data.index, \"GENDER\"] == ppmi_sample_diagnosis_data[\"Gender\"]",
   "id": "83c4efb011ef0bf1",
   "outputs": [],
   "execution_count": 58
  },
  {
   "metadata": {
    "ExecuteTime": {
     "end_time": "2025-05-14T19:28:16.774897Z",
     "start_time": "2025-05-14T19:28:16.747138Z"
    }
   },
   "cell_type": "code",
   "source": [
    "differences = comparison[~comparison].index\n",
    "differences_list = ppmi_meta_original_data.loc[differences, \"GENDER\"].to_frame().join(ppmi_sample_diagnosis_data.loc[differences, \"Gender\"], lsuffix='_meta', rsuffix='_diagnosis')\n",
    "differences_list"
   ],
   "id": "fcb71f250678a0f2",
   "outputs": [
    {
     "data": {
      "text/plain": [
       "Empty DataFrame\n",
       "Columns: [GENDER, Gender]\n",
       "Index: []"
      ],
      "text/html": [
       "<div>\n",
       "<style scoped>\n",
       "    .dataframe tbody tr th:only-of-type {\n",
       "        vertical-align: middle;\n",
       "    }\n",
       "\n",
       "    .dataframe tbody tr th {\n",
       "        vertical-align: top;\n",
       "    }\n",
       "\n",
       "    .dataframe thead th {\n",
       "        text-align: right;\n",
       "    }\n",
       "</style>\n",
       "<table border=\"1\" class=\"dataframe\">\n",
       "  <thead>\n",
       "    <tr style=\"text-align: right;\">\n",
       "      <th></th>\n",
       "      <th>GENDER</th>\n",
       "      <th>Gender</th>\n",
       "    </tr>\n",
       "    <tr>\n",
       "      <th>Sample</th>\n",
       "      <th></th>\n",
       "      <th></th>\n",
       "    </tr>\n",
       "  </thead>\n",
       "  <tbody>\n",
       "  </tbody>\n",
       "</table>\n",
       "</div>"
      ]
     },
     "execution_count": 59,
     "metadata": {},
     "output_type": "execute_result"
    }
   ],
   "execution_count": 59
  },
  {
   "metadata": {
    "ExecuteTime": {
     "end_time": "2025-05-14T19:24:01.827968Z",
     "start_time": "2025-05-14T19:24:01.819655Z"
    }
   },
   "cell_type": "code",
   "source": "ppmi_meta_original_data",
   "id": "34b6327cb6346f48",
   "outputs": [
    {
     "data": {
      "text/plain": [
       "                                   GENDER\n",
       "Sample                                   \n",
       "3174.V08.0000373111.5104.SL.0001     Male\n",
       "3201.BL.PP0016.0526.5104.SL.0002   Female\n",
       "3057.V06.0003125874.5104.SL.0003   Female\n",
       "4126.V04.0003179818.5104.SL.0004     Male\n",
       "4117.BL.0003164601.5104.SL.0005    Female\n",
       "...                                   ...\n",
       "41314.V02.0003314545.5104.SL.4890  Female\n",
       "42308.V02.0003376702.5104.SL.4891    Male\n",
       "42306.V02.0003376763.5104.SL.4892    Male\n",
       "1009.POOL.0003203630.5104.SL.4893     Unk\n",
       "1010.POOL.0003202476.5104.SL.4894     Unk\n",
       "\n",
       "[4756 rows x 1 columns]"
      ],
      "text/html": [
       "<div>\n",
       "<style scoped>\n",
       "    .dataframe tbody tr th:only-of-type {\n",
       "        vertical-align: middle;\n",
       "    }\n",
       "\n",
       "    .dataframe tbody tr th {\n",
       "        vertical-align: top;\n",
       "    }\n",
       "\n",
       "    .dataframe thead th {\n",
       "        text-align: right;\n",
       "    }\n",
       "</style>\n",
       "<table border=\"1\" class=\"dataframe\">\n",
       "  <thead>\n",
       "    <tr style=\"text-align: right;\">\n",
       "      <th></th>\n",
       "      <th>GENDER</th>\n",
       "    </tr>\n",
       "    <tr>\n",
       "      <th>Sample</th>\n",
       "      <th></th>\n",
       "    </tr>\n",
       "  </thead>\n",
       "  <tbody>\n",
       "    <tr>\n",
       "      <th>3174.V08.0000373111.5104.SL.0001</th>\n",
       "      <td>Male</td>\n",
       "    </tr>\n",
       "    <tr>\n",
       "      <th>3201.BL.PP0016.0526.5104.SL.0002</th>\n",
       "      <td>Female</td>\n",
       "    </tr>\n",
       "    <tr>\n",
       "      <th>3057.V06.0003125874.5104.SL.0003</th>\n",
       "      <td>Female</td>\n",
       "    </tr>\n",
       "    <tr>\n",
       "      <th>4126.V04.0003179818.5104.SL.0004</th>\n",
       "      <td>Male</td>\n",
       "    </tr>\n",
       "    <tr>\n",
       "      <th>4117.BL.0003164601.5104.SL.0005</th>\n",
       "      <td>Female</td>\n",
       "    </tr>\n",
       "    <tr>\n",
       "      <th>...</th>\n",
       "      <td>...</td>\n",
       "    </tr>\n",
       "    <tr>\n",
       "      <th>41314.V02.0003314545.5104.SL.4890</th>\n",
       "      <td>Female</td>\n",
       "    </tr>\n",
       "    <tr>\n",
       "      <th>42308.V02.0003376702.5104.SL.4891</th>\n",
       "      <td>Male</td>\n",
       "    </tr>\n",
       "    <tr>\n",
       "      <th>42306.V02.0003376763.5104.SL.4892</th>\n",
       "      <td>Male</td>\n",
       "    </tr>\n",
       "    <tr>\n",
       "      <th>1009.POOL.0003203630.5104.SL.4893</th>\n",
       "      <td>Unk</td>\n",
       "    </tr>\n",
       "    <tr>\n",
       "      <th>1010.POOL.0003202476.5104.SL.4894</th>\n",
       "      <td>Unk</td>\n",
       "    </tr>\n",
       "  </tbody>\n",
       "</table>\n",
       "<p>4756 rows × 1 columns</p>\n",
       "</div>"
      ]
     },
     "execution_count": 39,
     "metadata": {},
     "output_type": "execute_result"
    }
   ],
   "execution_count": 39
  },
  {
   "metadata": {
    "ExecuteTime": {
     "end_time": "2025-05-14T19:24:10.424405Z",
     "start_time": "2025-05-14T19:24:10.414946Z"
    }
   },
   "cell_type": "code",
   "source": "ppmi_sample_diagnosis_data",
   "id": "e31f656efe9f6d84",
   "outputs": [
    {
     "data": {
      "text/plain": [
       "                                   Gender\n",
       "Sample                                   \n",
       "3174.V08.0000373111.5104.SL.0001     Male\n",
       "3201.BL.PP0016.0526.5104.SL.0002   Female\n",
       "3057.V06.0003125874.5104.SL.0003   Female\n",
       "4126.V04.0003179818.5104.SL.0004     Male\n",
       "4117.BL.0003164601.5104.SL.0005    Female\n",
       "...                                   ...\n",
       "41314.V02.0003314545.5104.SL.4890  Female\n",
       "42308.V02.0003376702.5104.SL.4891    Male\n",
       "42306.V02.0003376763.5104.SL.4892    Male\n",
       "1009.POOL.0003203630.5104.SL.4893     Unk\n",
       "1010.POOL.0003202476.5104.SL.4894     Unk\n",
       "\n",
       "[4756 rows x 1 columns]"
      ],
      "text/html": [
       "<div>\n",
       "<style scoped>\n",
       "    .dataframe tbody tr th:only-of-type {\n",
       "        vertical-align: middle;\n",
       "    }\n",
       "\n",
       "    .dataframe tbody tr th {\n",
       "        vertical-align: top;\n",
       "    }\n",
       "\n",
       "    .dataframe thead th {\n",
       "        text-align: right;\n",
       "    }\n",
       "</style>\n",
       "<table border=\"1\" class=\"dataframe\">\n",
       "  <thead>\n",
       "    <tr style=\"text-align: right;\">\n",
       "      <th></th>\n",
       "      <th>Gender</th>\n",
       "    </tr>\n",
       "    <tr>\n",
       "      <th>Sample</th>\n",
       "      <th></th>\n",
       "    </tr>\n",
       "  </thead>\n",
       "  <tbody>\n",
       "    <tr>\n",
       "      <th>3174.V08.0000373111.5104.SL.0001</th>\n",
       "      <td>Male</td>\n",
       "    </tr>\n",
       "    <tr>\n",
       "      <th>3201.BL.PP0016.0526.5104.SL.0002</th>\n",
       "      <td>Female</td>\n",
       "    </tr>\n",
       "    <tr>\n",
       "      <th>3057.V06.0003125874.5104.SL.0003</th>\n",
       "      <td>Female</td>\n",
       "    </tr>\n",
       "    <tr>\n",
       "      <th>4126.V04.0003179818.5104.SL.0004</th>\n",
       "      <td>Male</td>\n",
       "    </tr>\n",
       "    <tr>\n",
       "      <th>4117.BL.0003164601.5104.SL.0005</th>\n",
       "      <td>Female</td>\n",
       "    </tr>\n",
       "    <tr>\n",
       "      <th>...</th>\n",
       "      <td>...</td>\n",
       "    </tr>\n",
       "    <tr>\n",
       "      <th>41314.V02.0003314545.5104.SL.4890</th>\n",
       "      <td>Female</td>\n",
       "    </tr>\n",
       "    <tr>\n",
       "      <th>42308.V02.0003376702.5104.SL.4891</th>\n",
       "      <td>Male</td>\n",
       "    </tr>\n",
       "    <tr>\n",
       "      <th>42306.V02.0003376763.5104.SL.4892</th>\n",
       "      <td>Male</td>\n",
       "    </tr>\n",
       "    <tr>\n",
       "      <th>1009.POOL.0003203630.5104.SL.4893</th>\n",
       "      <td>Unk</td>\n",
       "    </tr>\n",
       "    <tr>\n",
       "      <th>1010.POOL.0003202476.5104.SL.4894</th>\n",
       "      <td>Unk</td>\n",
       "    </tr>\n",
       "  </tbody>\n",
       "</table>\n",
       "<p>4756 rows × 1 columns</p>\n",
       "</div>"
      ]
     },
     "execution_count": 40,
     "metadata": {},
     "output_type": "execute_result"
    }
   ],
   "execution_count": 40
  },
  {
   "metadata": {},
   "cell_type": "code",
   "outputs": [],
   "execution_count": null,
   "source": "",
   "id": "21d4263025ed668a"
  }
 ],
 "metadata": {
  "kernelspec": {
   "display_name": "Python 3",
   "language": "python",
   "name": "python3"
  },
  "language_info": {
   "codemirror_mode": {
    "name": "ipython",
    "version": 2
   },
   "file_extension": ".py",
   "mimetype": "text/x-python",
   "name": "python",
   "nbconvert_exporter": "python",
   "pygments_lexer": "ipython2",
   "version": "2.7.6"
  }
 },
 "nbformat": 4,
 "nbformat_minor": 5
}
