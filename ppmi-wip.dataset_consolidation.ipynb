{
 "cells": [
  {
   "cell_type": "code",
   "id": "initial_id",
   "metadata": {
    "collapsed": true,
    "ExecuteTime": {
     "end_time": "2025-03-31T12:51:07.960530Z",
     "start_time": "2025-03-31T12:51:02.882884Z"
    }
   },
   "source": "!pip install anndata",
   "outputs": [
    {
     "name": "stdout",
     "output_type": "stream",
     "text": [
      "Requirement already satisfied: anndata in /opt/anaconda3/lib/python3.12/site-packages (0.11.3)\r\n",
      "Requirement already satisfied: array-api-compat!=1.5,>1.4 in /opt/anaconda3/lib/python3.12/site-packages (from anndata) (1.10.0)\r\n",
      "Requirement already satisfied: h5py>=3.7 in /opt/anaconda3/lib/python3.12/site-packages (from anndata) (3.11.0)\r\n",
      "Requirement already satisfied: natsort in /opt/anaconda3/lib/python3.12/site-packages (from anndata) (8.4.0)\r\n",
      "Requirement already satisfied: numpy>=1.23 in /opt/anaconda3/lib/python3.12/site-packages (from anndata) (1.26.4)\r\n",
      "Requirement already satisfied: packaging>=20.0 in /opt/anaconda3/lib/python3.12/site-packages (from anndata) (23.2)\r\n",
      "Requirement already satisfied: pandas!=2.1.0rc0,!=2.1.2,>=1.4 in /opt/anaconda3/lib/python3.12/site-packages (from anndata) (2.2.2)\r\n",
      "Requirement already satisfied: scipy>1.8 in /opt/anaconda3/lib/python3.12/site-packages (from anndata) (1.13.1)\r\n",
      "Requirement already satisfied: python-dateutil>=2.8.2 in /opt/anaconda3/lib/python3.12/site-packages (from pandas!=2.1.0rc0,!=2.1.2,>=1.4->anndata) (2.9.0.post0)\r\n",
      "Requirement already satisfied: pytz>=2020.1 in /opt/anaconda3/lib/python3.12/site-packages (from pandas!=2.1.0rc0,!=2.1.2,>=1.4->anndata) (2024.1)\r\n",
      "Requirement already satisfied: tzdata>=2022.7 in /opt/anaconda3/lib/python3.12/site-packages (from pandas!=2.1.0rc0,!=2.1.2,>=1.4->anndata) (2023.3)\r\n",
      "Requirement already satisfied: six>=1.5 in /opt/anaconda3/lib/python3.12/site-packages (from python-dateutil>=2.8.2->pandas!=2.1.0rc0,!=2.1.2,>=1.4->anndata) (1.16.0)\r\n"
     ]
    }
   ],
   "execution_count": 1
  },
  {
   "metadata": {
    "ExecuteTime": {
     "end_time": "2025-03-31T15:10:58.753424Z",
     "start_time": "2025-03-31T15:08:07.485558Z"
    }
   },
   "cell_type": "code",
   "source": [
    "import pandas as pd\n",
    "\n",
    "bulk_feature_counts = pd.read_csv(\"/Users/kpax/Documents/aep/study/MSC/lab/PPMI_Project_133_RNASeq/ppmi_counts_meta_dataset.csv\", index_col=0)"
   ],
   "id": "c390619e4ba49998",
   "outputs": [],
   "execution_count": 9
  },
  {
   "metadata": {
    "ExecuteTime": {
     "end_time": "2025-03-31T15:11:56.320701Z",
     "start_time": "2025-03-31T15:11:56.249254Z"
    }
   },
   "cell_type": "code",
   "source": "patient_status = pd.read_csv(\"/Users/kpax/Documents/aep/study/MSC/lab/PPMI_Project_133_RNASeq//Participant_Status_19Mar2025.csv\")",
   "id": "98da18314f0242bb",
   "outputs": [],
   "execution_count": 10
  },
  {
   "metadata": {
    "ExecuteTime": {
     "end_time": "2025-03-31T15:12:04.081172Z",
     "start_time": "2025-03-31T15:11:58.384476Z"
    }
   },
   "cell_type": "code",
   "source": [
    "genetic_mapping = {\n",
    "    'ENRLPINK1': 'PINK1',\n",
    "    'ENRLPRKN': 'PRKN',\n",
    "    'ENRLSRDC': 'SRDC',\n",
    "    'ENRLHPSM': 'HPSM',\n",
    "    'ENRLRBD': 'RBD',\n",
    "    'ENRLLRRK2': 'LRRK2',\n",
    "    'ENRLSNCA': 'SNCA',\n",
    "    'ENRLGBA': 'GBA'\n",
    "}\n",
    "\n",
    "def get_genetic_group(row):\n",
    "    for col, group in genetic_mapping.items():\n",
    "        if row[col] == 1:\n",
    "            return group\n",
    "    return 'None'\n",
    "\n",
    "genetic_groups = patient_status[['PATNO'] + list(genetic_mapping.keys())].copy()\n",
    "genetic_groups['Genetic_Group'] = genetic_groups.apply(get_genetic_group, axis=1)\n",
    "\n",
    "bulk_feature_counts = bulk_feature_counts.merge(\n",
    "    genetic_groups[['PATNO', 'Genetic_Group']],\n",
    "    left_on='Patient',\n",
    "    right_on='PATNO',\n",
    "    how='left'\n",
    ").drop(columns=['PATNO'])\n",
    "\n",
    "bulk_feature_counts['Genetic_Group'] = bulk_feature_counts['Genetic_Group'].fillna('Unknown')"
   ],
   "id": "37fce08603ba2cc5",
   "outputs": [],
   "execution_count": 11
  },
  {
   "metadata": {
    "ExecuteTime": {
     "end_time": "2025-03-31T15:12:10.196608Z",
     "start_time": "2025-03-31T15:12:06.554392Z"
    }
   },
   "cell_type": "code",
   "source": [
    "def map_age_group(age):\n",
    "    if 30 <= age <= 50:\n",
    "        return \"30-50\"\n",
    "    elif 50 < age <= 70:\n",
    "        return \"50-70\"\n",
    "    elif 70 < age <= 80:\n",
    "        return \"70-80\"\n",
    "    elif age > 80:\n",
    "        return \">80\"\n",
    "    return \"Unknown\"\n",
    "\n",
    "patient_status['Age_Group'] = patient_status['ENROLL_AGE'].apply(map_age_group)\n",
    "\n",
    "age_group_mapping = patient_status[['PATNO', 'Age_Group']]\n",
    "\n",
    "bulk_feature_counts = bulk_feature_counts.merge(\n",
    "    age_group_mapping,\n",
    "    left_on='Patient',\n",
    "    right_on='PATNO',\n",
    "    how='left'\n",
    ").drop(columns=['PATNO'])"
   ],
   "id": "16d8277a6f3e58a5",
   "outputs": [],
   "execution_count": 12
  },
  {
   "metadata": {
    "ExecuteTime": {
     "end_time": "2025-03-31T15:23:54.320293Z",
     "start_time": "2025-03-31T15:23:13.481045Z"
    }
   },
   "cell_type": "code",
   "source": [
    "import anndata as ad\n",
    "import numpy as np\n",
    "\n",
    "ppmi_adata = ad.AnnData(bulk_feature_counts.loc[:, bulk_feature_counts.columns.str.startswith(\"ENSG\")])\n",
    "ppmi_adata.obs['Sample'] = bulk_feature_counts['Sample'].values\n",
    "ppmi_adata.obs['Diagnosis'] = bulk_feature_counts['Diagnosis'].values\n",
    "ppmi_adata.obs['Visit'] = bulk_feature_counts['Visit'].values\n",
    "ppmi_adata.obs['Gender'] = bulk_feature_counts['Gender'].values\n",
    "ppmi_adata.obs['Patient'] = bulk_feature_counts['Patient'].values\n",
    "ppmi_adata.obs['Genetic_Group'] = bulk_feature_counts['Genetic_Group'].values\n",
    "ppmi_adata.obs['Age_Group'] = bulk_feature_counts['Age_Group'].values\n",
    "ppmi_adata.layers['counts_log2'] = np.log2(ppmi_adata.X + 1)\n",
    "\n",
    "ppmi_adata.write_h5ad(\"/Users/kpax/Documents/aep/study/MSC/lab/PPMI_Project_133_RNASeq/ppmi_adata.h5ad\")"
   ],
   "id": "3a229fe966a32168",
   "outputs": [
    {
     "name": "stderr",
     "output_type": "stream",
     "text": [
      "/opt/anaconda3/lib/python3.12/site-packages/anndata/_core/aligned_df.py:68: ImplicitModificationWarning: Transforming to str index.\n",
      "  warnings.warn(\"Transforming to str index.\", ImplicitModificationWarning)\n"
     ]
    }
   ],
   "execution_count": 22
  },
  {
   "metadata": {},
   "cell_type": "code",
   "outputs": [],
   "execution_count": null,
   "source": "",
   "id": "a3ef71e1dfc56d9b"
  }
 ],
 "metadata": {
  "kernelspec": {
   "display_name": "Python 3",
   "language": "python",
   "name": "python3"
  },
  "language_info": {
   "codemirror_mode": {
    "name": "ipython",
    "version": 2
   },
   "file_extension": ".py",
   "mimetype": "text/x-python",
   "name": "python",
   "nbconvert_exporter": "python",
   "pygments_lexer": "ipython2",
   "version": "2.7.6"
  }
 },
 "nbformat": 4,
 "nbformat_minor": 5
}
