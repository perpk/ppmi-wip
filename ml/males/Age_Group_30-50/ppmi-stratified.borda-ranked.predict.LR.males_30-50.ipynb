{
 "cells": [
  {
   "cell_type": "code",
   "id": "initial_id",
   "metadata": {
    "collapsed": true,
    "ExecuteTime": {
     "end_time": "2025-05-05T16:07:33.465421Z",
     "start_time": "2025-05-05T16:07:32.053393Z"
    }
   },
   "source": [
    "import pandas as pd\n",
    "import numpy as np\n",
    "from sklearn.linear_model import LogisticRegression\n",
    "from sklearn.model_selection import train_test_split, StratifiedKFold\n",
    "from sklearn.metrics import (roc_auc_score, average_precision_score,\n",
    "                           roc_curve, precision_recall_curve,\n",
    "                           confusion_matrix, classification_report)\n",
    "from imblearn.pipeline import Pipeline\n",
    "from imblearn.over_sampling import SMOTE\n",
    "from sklearn.preprocessing import StandardScaler\n",
    "import matplotlib.pyplot as plt\n",
    "import seaborn as sns\n"
   ],
   "outputs": [],
   "execution_count": 1
  },
  {
   "metadata": {
    "ExecuteTime": {
     "end_time": "2025-05-05T18:00:42.357497Z",
     "start_time": "2025-05-05T18:00:28.048880Z"
    }
   },
   "cell_type": "code",
   "source": [
    "import anndata as ad\n",
    "ppmi_ad = ad.read_h5ad(\"/Users/kpax/Documents/aep/study/MSC/lab/PPMI_Project_133_RNASeq/ppmi_adata.h5ad\")"
   ],
   "id": "c1129307bb8d5764",
   "outputs": [],
   "execution_count": 69
  },
  {
   "metadata": {
    "ExecuteTime": {
     "end_time": "2025-05-05T18:01:23.146265Z",
     "start_time": "2025-05-05T18:01:23.074422Z"
    }
   },
   "cell_type": "code",
   "source": "borda_features = pd.read_csv(\"/Users/kpax/Documents/aep/study/MSC/lab/PPMI_Project_133_RNASeq/feature_selection/borda_ranks_Male_30-50.csv\", index_col=0)",
   "id": "fa613a91d8d4d15e",
   "outputs": [],
   "execution_count": 70
  },
  {
   "metadata": {
    "ExecuteTime": {
     "end_time": "2025-05-05T18:01:24.188252Z",
     "start_time": "2025-05-05T18:01:24.167178Z"
    }
   },
   "cell_type": "code",
   "source": "borda_features.head()",
   "id": "f7f6fbc0eb9e5495",
   "outputs": [
    {
     "data": {
      "text/plain": [
       "                         BL      V02     V04      V06      V08\n",
       "Gene                                                          \n",
       "ENSG00000000003.14  12853.0  12469.0     NaN   4269.0      NaN\n",
       "ENSG00000000005.5       NaN      NaN     NaN      NaN    199.0\n",
       "ENSG00000000419.12      NaN      NaN  9134.0  13463.0      NaN\n",
       "ENSG00000000457.13      NaN   7924.0     NaN      NaN      NaN\n",
       "ENSG00000000938.12      NaN      NaN     NaN      NaN  11082.0"
      ],
      "text/html": [
       "<div>\n",
       "<style scoped>\n",
       "    .dataframe tbody tr th:only-of-type {\n",
       "        vertical-align: middle;\n",
       "    }\n",
       "\n",
       "    .dataframe tbody tr th {\n",
       "        vertical-align: top;\n",
       "    }\n",
       "\n",
       "    .dataframe thead th {\n",
       "        text-align: right;\n",
       "    }\n",
       "</style>\n",
       "<table border=\"1\" class=\"dataframe\">\n",
       "  <thead>\n",
       "    <tr style=\"text-align: right;\">\n",
       "      <th></th>\n",
       "      <th>BL</th>\n",
       "      <th>V02</th>\n",
       "      <th>V04</th>\n",
       "      <th>V06</th>\n",
       "      <th>V08</th>\n",
       "    </tr>\n",
       "    <tr>\n",
       "      <th>Gene</th>\n",
       "      <th></th>\n",
       "      <th></th>\n",
       "      <th></th>\n",
       "      <th></th>\n",
       "      <th></th>\n",
       "    </tr>\n",
       "  </thead>\n",
       "  <tbody>\n",
       "    <tr>\n",
       "      <th>ENSG00000000003.14</th>\n",
       "      <td>12853.0</td>\n",
       "      <td>12469.0</td>\n",
       "      <td>NaN</td>\n",
       "      <td>4269.0</td>\n",
       "      <td>NaN</td>\n",
       "    </tr>\n",
       "    <tr>\n",
       "      <th>ENSG00000000005.5</th>\n",
       "      <td>NaN</td>\n",
       "      <td>NaN</td>\n",
       "      <td>NaN</td>\n",
       "      <td>NaN</td>\n",
       "      <td>199.0</td>\n",
       "    </tr>\n",
       "    <tr>\n",
       "      <th>ENSG00000000419.12</th>\n",
       "      <td>NaN</td>\n",
       "      <td>NaN</td>\n",
       "      <td>9134.0</td>\n",
       "      <td>13463.0</td>\n",
       "      <td>NaN</td>\n",
       "    </tr>\n",
       "    <tr>\n",
       "      <th>ENSG00000000457.13</th>\n",
       "      <td>NaN</td>\n",
       "      <td>7924.0</td>\n",
       "      <td>NaN</td>\n",
       "      <td>NaN</td>\n",
       "      <td>NaN</td>\n",
       "    </tr>\n",
       "    <tr>\n",
       "      <th>ENSG00000000938.12</th>\n",
       "      <td>NaN</td>\n",
       "      <td>NaN</td>\n",
       "      <td>NaN</td>\n",
       "      <td>NaN</td>\n",
       "      <td>11082.0</td>\n",
       "    </tr>\n",
       "  </tbody>\n",
       "</table>\n",
       "</div>"
      ]
     },
     "execution_count": 71,
     "metadata": {},
     "output_type": "execute_result"
    }
   ],
   "execution_count": 71
  },
  {
   "metadata": {
    "ExecuteTime": {
     "end_time": "2025-05-05T18:01:25.252377Z",
     "start_time": "2025-05-05T18:01:25.233214Z"
    }
   },
   "cell_type": "code",
   "source": [
    "greatest_rank = borda_features[['BL', 'V02', 'V04', 'V06', 'V08']].max().max()\n",
    "lowest_rank = borda_features[['BL', 'V02', 'V04', 'V06', 'V08']].min().min()\n",
    "\n",
    "print(\"Greatest value:\", greatest_rank)\n",
    "print(\"Lowest value:\", lowest_rank)"
   ],
   "id": "d8ad603f708ade69",
   "outputs": [
    {
     "name": "stdout",
     "output_type": "stream",
     "text": [
      "Greatest value: 15838.0\n",
      "Lowest value: 1.0\n"
     ]
    }
   ],
   "execution_count": 72
  },
  {
   "metadata": {
    "ExecuteTime": {
     "end_time": "2025-05-05T18:01:27.591807Z",
     "start_time": "2025-05-05T18:01:27.553511Z"
    }
   },
   "cell_type": "code",
   "source": [
    "features_detected_in_all_visits = borda_features.dropna(how='any')\n",
    "features_detected_in_all_visits"
   ],
   "id": "dba551593a754b52",
   "outputs": [
    {
     "data": {
      "text/plain": [
       "                         BL      V02      V04      V06      V08\n",
       "Gene                                                           \n",
       "ENSG00000013293.5   13912.0  12515.0   8286.0  12316.0   9604.0\n",
       "ENSG00000049247.13    295.0  11492.0  13326.0  14311.0  11869.0\n",
       "ENSG00000089012.14  14571.0  13686.0  11710.0  12526.0   5961.0\n",
       "ENSG00000099326.8    6820.0   2541.0   7142.0   2950.0  11236.0\n",
       "ENSG00000103351.12  11249.0  10222.0   5295.0   2095.0   7289.0\n",
       "...                     ...      ...      ...      ...      ...\n",
       "ENSG00000275631.1    9841.0   5156.0   6226.0   9173.0   9751.0\n",
       "ENSG00000277704.1    2495.0   4828.0  11398.0   2155.0  10605.0\n",
       "ENSG00000283232.1    4872.0   3701.0   7452.0   4209.0   1383.0\n",
       "ENSG00000284656.1    4409.0   7478.0   2339.0  14720.0   8880.0\n",
       "ENSG00000285388.1    6268.0   2319.0   4972.0   2140.0  12343.0\n",
       "\n",
       "[71 rows x 5 columns]"
      ],
      "text/html": [
       "<div>\n",
       "<style scoped>\n",
       "    .dataframe tbody tr th:only-of-type {\n",
       "        vertical-align: middle;\n",
       "    }\n",
       "\n",
       "    .dataframe tbody tr th {\n",
       "        vertical-align: top;\n",
       "    }\n",
       "\n",
       "    .dataframe thead th {\n",
       "        text-align: right;\n",
       "    }\n",
       "</style>\n",
       "<table border=\"1\" class=\"dataframe\">\n",
       "  <thead>\n",
       "    <tr style=\"text-align: right;\">\n",
       "      <th></th>\n",
       "      <th>BL</th>\n",
       "      <th>V02</th>\n",
       "      <th>V04</th>\n",
       "      <th>V06</th>\n",
       "      <th>V08</th>\n",
       "    </tr>\n",
       "    <tr>\n",
       "      <th>Gene</th>\n",
       "      <th></th>\n",
       "      <th></th>\n",
       "      <th></th>\n",
       "      <th></th>\n",
       "      <th></th>\n",
       "    </tr>\n",
       "  </thead>\n",
       "  <tbody>\n",
       "    <tr>\n",
       "      <th>ENSG00000013293.5</th>\n",
       "      <td>13912.0</td>\n",
       "      <td>12515.0</td>\n",
       "      <td>8286.0</td>\n",
       "      <td>12316.0</td>\n",
       "      <td>9604.0</td>\n",
       "    </tr>\n",
       "    <tr>\n",
       "      <th>ENSG00000049247.13</th>\n",
       "      <td>295.0</td>\n",
       "      <td>11492.0</td>\n",
       "      <td>13326.0</td>\n",
       "      <td>14311.0</td>\n",
       "      <td>11869.0</td>\n",
       "    </tr>\n",
       "    <tr>\n",
       "      <th>ENSG00000089012.14</th>\n",
       "      <td>14571.0</td>\n",
       "      <td>13686.0</td>\n",
       "      <td>11710.0</td>\n",
       "      <td>12526.0</td>\n",
       "      <td>5961.0</td>\n",
       "    </tr>\n",
       "    <tr>\n",
       "      <th>ENSG00000099326.8</th>\n",
       "      <td>6820.0</td>\n",
       "      <td>2541.0</td>\n",
       "      <td>7142.0</td>\n",
       "      <td>2950.0</td>\n",
       "      <td>11236.0</td>\n",
       "    </tr>\n",
       "    <tr>\n",
       "      <th>ENSG00000103351.12</th>\n",
       "      <td>11249.0</td>\n",
       "      <td>10222.0</td>\n",
       "      <td>5295.0</td>\n",
       "      <td>2095.0</td>\n",
       "      <td>7289.0</td>\n",
       "    </tr>\n",
       "    <tr>\n",
       "      <th>...</th>\n",
       "      <td>...</td>\n",
       "      <td>...</td>\n",
       "      <td>...</td>\n",
       "      <td>...</td>\n",
       "      <td>...</td>\n",
       "    </tr>\n",
       "    <tr>\n",
       "      <th>ENSG00000275631.1</th>\n",
       "      <td>9841.0</td>\n",
       "      <td>5156.0</td>\n",
       "      <td>6226.0</td>\n",
       "      <td>9173.0</td>\n",
       "      <td>9751.0</td>\n",
       "    </tr>\n",
       "    <tr>\n",
       "      <th>ENSG00000277704.1</th>\n",
       "      <td>2495.0</td>\n",
       "      <td>4828.0</td>\n",
       "      <td>11398.0</td>\n",
       "      <td>2155.0</td>\n",
       "      <td>10605.0</td>\n",
       "    </tr>\n",
       "    <tr>\n",
       "      <th>ENSG00000283232.1</th>\n",
       "      <td>4872.0</td>\n",
       "      <td>3701.0</td>\n",
       "      <td>7452.0</td>\n",
       "      <td>4209.0</td>\n",
       "      <td>1383.0</td>\n",
       "    </tr>\n",
       "    <tr>\n",
       "      <th>ENSG00000284656.1</th>\n",
       "      <td>4409.0</td>\n",
       "      <td>7478.0</td>\n",
       "      <td>2339.0</td>\n",
       "      <td>14720.0</td>\n",
       "      <td>8880.0</td>\n",
       "    </tr>\n",
       "    <tr>\n",
       "      <th>ENSG00000285388.1</th>\n",
       "      <td>6268.0</td>\n",
       "      <td>2319.0</td>\n",
       "      <td>4972.0</td>\n",
       "      <td>2140.0</td>\n",
       "      <td>12343.0</td>\n",
       "    </tr>\n",
       "  </tbody>\n",
       "</table>\n",
       "<p>71 rows × 5 columns</p>\n",
       "</div>"
      ]
     },
     "execution_count": 73,
     "metadata": {},
     "output_type": "execute_result"
    }
   ],
   "execution_count": 73
  },
  {
   "metadata": {
    "ExecuteTime": {
     "end_time": "2025-05-05T18:01:29.071164Z",
     "start_time": "2025-05-05T18:01:29.054161Z"
    }
   },
   "cell_type": "code",
   "source": [
    "bl_non_nan_values = borda_features['BL'].dropna().sort_values(ascending=False)\n",
    "bl_non_nan_values"
   ],
   "id": "f62c18642693bd09",
   "outputs": [
    {
     "data": {
      "text/plain": [
       "Gene\n",
       "ENSG00000234848.1     14873.0\n",
       "ENSG00000279853.1     14872.0\n",
       "ENSG00000248796.1     14871.0\n",
       "ENSG00000250242.1     14870.0\n",
       "ENSG00000100505.13    14869.0\n",
       "                       ...   \n",
       "ENSG00000226765.1         5.0\n",
       "ENSG00000257434.1         4.0\n",
       "ENSG00000251707.2         3.0\n",
       "ENSG00000204382.11        2.0\n",
       "ENSG00000254852.8         1.0\n",
       "Name: BL, Length: 14873, dtype: float64"
      ]
     },
     "execution_count": 74,
     "metadata": {},
     "output_type": "execute_result"
    }
   ],
   "execution_count": 74
  },
  {
   "metadata": {
    "ExecuteTime": {
     "end_time": "2025-05-05T18:01:30.462308Z",
     "start_time": "2025-05-05T18:01:30.452470Z"
    }
   },
   "cell_type": "code",
   "source": "top_bl_non_nan_values = bl_non_nan_values[bl_non_nan_values > 10000]",
   "id": "a132e4229b4dfd3b",
   "outputs": [],
   "execution_count": 75
  },
  {
   "metadata": {
    "ExecuteTime": {
     "end_time": "2025-05-05T18:01:31.607996Z",
     "start_time": "2025-05-05T18:01:31.598654Z"
    }
   },
   "cell_type": "code",
   "source": [
    "mask = ((ppmi_ad.obs['Age_Group'] == '30-50') &\n",
    "        (ppmi_ad.obs['Gender'] == 'Male') &\n",
    "        (ppmi_ad.obs['Diagnosis'].isin(['PD', 'Control'])) &\n",
    "        (ppmi_ad.obs['Visit'] == 'BL'))"
   ],
   "id": "ab93e01607c94aae",
   "outputs": [],
   "execution_count": 76
  },
  {
   "metadata": {
    "ExecuteTime": {
     "end_time": "2025-05-05T18:01:33.366453Z",
     "start_time": "2025-05-05T18:01:33.358158Z"
    }
   },
   "cell_type": "code",
   "source": "ppmi_ad = ppmi_ad[mask]",
   "id": "a89ee6758d5f8cb9",
   "outputs": [],
   "execution_count": 77
  },
  {
   "metadata": {
    "ExecuteTime": {
     "end_time": "2025-05-05T18:01:36.587096Z",
     "start_time": "2025-05-05T18:01:36.565165Z"
    }
   },
   "cell_type": "code",
   "source": "ppmi_ad = ppmi_ad[:, ppmi_ad.var.index.isin(top_bl_non_nan_values.index)]",
   "id": "fc68c88869931738",
   "outputs": [],
   "execution_count": 78
  },
  {
   "metadata": {
    "ExecuteTime": {
     "end_time": "2025-05-05T18:01:39.062128Z",
     "start_time": "2025-05-05T18:01:38.988583Z"
    }
   },
   "cell_type": "code",
   "source": [
    "X = pd.DataFrame(ppmi_ad.layers['counts_log2'], columns=ppmi_ad.var_names)\n",
    "y = (ppmi_ad.obs['Diagnosis'] == 'PD').astype(int)"
   ],
   "id": "6e4e2fc440fd96ef",
   "outputs": [],
   "execution_count": 79
  },
  {
   "metadata": {
    "ExecuteTime": {
     "end_time": "2025-05-05T18:01:40.728759Z",
     "start_time": "2025-05-05T18:01:40.717137Z"
    }
   },
   "cell_type": "code",
   "source": [
    "X_train, X_test, y_train, y_test = train_test_split(\n",
    "    X, y,\n",
    "    test_size=0.2,\n",
    "    stratify=y,\n",
    "    random_state=42\n",
    ")"
   ],
   "id": "8d371e7feda8d81c",
   "outputs": [],
   "execution_count": 80
  },
  {
   "metadata": {
    "ExecuteTime": {
     "end_time": "2025-05-05T18:01:42.297684Z",
     "start_time": "2025-05-05T18:01:42.292391Z"
    }
   },
   "cell_type": "code",
   "source": [
    "lr_pipeline = Pipeline([\n",
    "    ('scaler', StandardScaler()),\n",
    "    ('smote', SMOTE(random_state=42)),\n",
    "    ('lr', LogisticRegression(\n",
    "        class_weight='balanced',\n",
    "        max_iter=1000,\n",
    "        random_state=42\n",
    "    ))\n",
    "])"
   ],
   "id": "3fdefe06cef5ab35",
   "outputs": [],
   "execution_count": 81
  },
  {
   "metadata": {
    "ExecuteTime": {
     "end_time": "2025-05-05T18:02:11.312242Z",
     "start_time": "2025-05-05T18:01:43.091293Z"
    }
   },
   "cell_type": "code",
   "source": [
    "from sklearn.model_selection import GridSearchCV\n",
    "\n",
    "param_grid = {\n",
    "    'lr__C': np.logspace(-3, 3, 7),\n",
    "    'lr__penalty': ['l1', 'l2'],\n",
    "    'lr__solver': ['liblinear'],\n",
    "    'smote__k_neighbors': [3, 5]\n",
    "}\n",
    "\n",
    "grid_search = GridSearchCV(\n",
    "    lr_pipeline,\n",
    "    param_grid,\n",
    "    cv=StratifiedKFold(10),\n",
    "    scoring='roc_auc',\n",
    "    n_jobs=-1,\n",
    "    verbose=1\n",
    ")\n",
    "grid_search.fit(X_train, y_train)\n",
    "best_lr = grid_search.best_estimator_"
   ],
   "id": "d2dc10654cd69fe7",
   "outputs": [
    {
     "name": "stdout",
     "output_type": "stream",
     "text": [
      "Fitting 10 folds for each of 28 candidates, totalling 280 fits\n"
     ]
    }
   ],
   "execution_count": 82
  },
  {
   "metadata": {
    "ExecuteTime": {
     "end_time": "2025-05-05T18:02:13.895945Z",
     "start_time": "2025-05-05T18:02:13.886406Z"
    }
   },
   "cell_type": "code",
   "source": "best_lr.named_steps['lr'].get_params()",
   "id": "2bc052785d06543e",
   "outputs": [
    {
     "data": {
      "text/plain": [
       "{'C': np.float64(1000.0),\n",
       " 'class_weight': 'balanced',\n",
       " 'dual': False,\n",
       " 'fit_intercept': True,\n",
       " 'intercept_scaling': 1,\n",
       " 'l1_ratio': None,\n",
       " 'max_iter': 1000,\n",
       " 'multi_class': 'deprecated',\n",
       " 'n_jobs': None,\n",
       " 'penalty': 'l2',\n",
       " 'random_state': 42,\n",
       " 'solver': 'liblinear',\n",
       " 'tol': 0.0001,\n",
       " 'verbose': 0,\n",
       " 'warm_start': False}"
      ]
     },
     "execution_count": 83,
     "metadata": {},
     "output_type": "execute_result"
    }
   ],
   "execution_count": 83
  },
  {
   "metadata": {
    "ExecuteTime": {
     "end_time": "2025-05-05T18:02:15.947462Z",
     "start_time": "2025-05-05T18:02:15.724235Z"
    }
   },
   "cell_type": "code",
   "source": [
    "best_lr.fit(X_train, y_train)\n",
    "y_pred = best_lr.predict(X_test)\n",
    "y_proba = best_lr.predict_proba(X_test)[:,1]"
   ],
   "id": "79cca0f79110e3b",
   "outputs": [],
   "execution_count": 84
  },
  {
   "metadata": {
    "ExecuteTime": {
     "end_time": "2025-05-05T18:02:16.853540Z",
     "start_time": "2025-05-05T18:02:16.829870Z"
    }
   },
   "cell_type": "code",
   "source": [
    "print(\"Classification Report:\")\n",
    "print(classification_report(y_test, y_pred))\n"
   ],
   "id": "3eb669d28f88ff72",
   "outputs": [
    {
     "name": "stdout",
     "output_type": "stream",
     "text": [
      "Classification Report:\n",
      "              precision    recall  f1-score   support\n",
      "\n",
      "           0       0.33      0.50      0.40         4\n",
      "           1       0.50      0.33      0.40         6\n",
      "\n",
      "    accuracy                           0.40        10\n",
      "   macro avg       0.42      0.42      0.40        10\n",
      "weighted avg       0.43      0.40      0.40        10\n",
      "\n"
     ]
    }
   ],
   "execution_count": 85
  },
  {
   "metadata": {
    "ExecuteTime": {
     "end_time": "2025-05-05T18:02:19.593966Z",
     "start_time": "2025-05-05T18:02:19.582068Z"
    }
   },
   "cell_type": "code",
   "source": [
    "print(f\"\\nROC-AUC: {roc_auc_score(y_test, y_proba):.3f}\")\n",
    "print(f\"PR-AUC: {average_precision_score(y_test, y_proba):.3f}\")"
   ],
   "id": "8e97a238d00f31e5",
   "outputs": [
    {
     "name": "stdout",
     "output_type": "stream",
     "text": [
      "\n",
      "ROC-AUC: 0.375\n",
      "PR-AUC: 0.566\n"
     ]
    }
   ],
   "execution_count": 86
  },
  {
   "metadata": {
    "ExecuteTime": {
     "end_time": "2025-05-05T18:02:22.898756Z",
     "start_time": "2025-05-05T18:02:22.193427Z"
    }
   },
   "cell_type": "code",
   "source": [
    "plt.figure(figsize=(15, 5))\n",
    "\n",
    "plt.subplot(1, 3, 1)\n",
    "fpr, tpr, roc_threshold = roc_curve(y_test, y_proba)\n",
    "plt.plot(fpr, tpr, label=f'ROC (AUC = {roc_auc_score(y_test, y_proba):.2f})')\n",
    "plt.plot([0, 1], [0, 1], 'k--')\n",
    "plt.xlabel('False Positive Rate')\n",
    "plt.ylabel('True Positive Rate')\n",
    "plt.legend()\n",
    "\n",
    "plt.subplot(1, 3, 2)\n",
    "precision, recall, thresholds = precision_recall_curve(y_test, y_proba)\n",
    "plt.plot(recall, precision, label=f'PR (AUC = {average_precision_score(y_test, y_proba):.2f})')\n",
    "plt.xlabel('Recall')\n",
    "plt.ylabel('Precision')\n",
    "plt.legend()\n",
    "\n",
    "plt.subplot(1, 3, 3)\n",
    "cm = confusion_matrix(y_test, y_pred)\n",
    "sns.heatmap(cm, annot=True, fmt='d', cmap='Blues',\n",
    "            xticklabels=['Control', 'PD'],\n",
    "            yticklabels=['Control', 'PD'])\n",
    "plt.xlabel('Predicted')\n",
    "plt.ylabel('True')\n",
    "\n",
    "plt.tight_layout()\n",
    "plt.show()"
   ],
   "id": "5fe90a364fc7f5d",
   "outputs": [
    {
     "data": {
      "text/plain": [
       "<Figure size 1500x500 with 4 Axes>"
      ],
      "image/png": "[encoded data removed]"
     },
     "metadata": {},
     "output_type": "display_data"
    }
   ],
   "execution_count": 87
  },
  {
   "metadata": {
    "ExecuteTime": {
     "end_time": "2025-05-05T18:02:38.991928Z",
     "start_time": "2025-05-05T18:02:36.780424Z"
    }
   },
   "cell_type": "code",
   "source": [
    "cv = StratifiedKFold(n_splits=10, shuffle=True, random_state=42)\n",
    "cv_scores = {'roc_auc': [], 'pr_auc': []}\n",
    "\n",
    "for train_idx, val_idx in cv.split(X, y):\n",
    "    X_train, X_val = X.iloc[train_idx], X.iloc[val_idx]\n",
    "    y_train, y_val = y.iloc[train_idx], y.iloc[val_idx]\n",
    "\n",
    "    lr_pipeline.fit(X_train, y_train)\n",
    "    y_proba = lr_pipeline.predict_proba(X_val)[:, 1]\n",
    "\n",
    "    cv_scores['roc_auc'].append(roc_auc_score(y_val, y_proba))\n",
    "    cv_scores['pr_auc'].append(average_precision_score(y_val, y_proba))\n",
    "\n",
    "print(\"\\nCross-validation results:\")\n",
    "print(f\"ROC-AUC: {np.mean(cv_scores['roc_auc']):.3f} ± {np.std(cv_scores['roc_auc']):.3f}\")\n",
    "print(f\"PR-AUC: {np.mean(cv_scores['pr_auc']):.3f} ± {np.std(cv_scores['pr_auc']):.3f}\")\n"
   ],
   "id": "d0862864167a294a",
   "outputs": [
    {
     "name": "stdout",
     "output_type": "stream",
     "text": [
      "\n",
      "Cross-validation results:\n",
      "ROC-AUC: 0.500 ± 0.333\n",
      "PR-AUC: 0.769 ± 0.156\n"
     ]
    }
   ],
   "execution_count": 88
  },
  {
   "metadata": {},
   "cell_type": "code",
   "outputs": [],
   "execution_count": null,
   "source": "",
   "id": "fa557364b6157bdf"
  }
 ],
 "metadata": {
  "kernelspec": {
   "display_name": "Python 3",
   "language": "python",
   "name": "python3"
  },
  "language_info": {
   "codemirror_mode": {
    "name": "ipython",
    "version": 2
   },
   "file_extension": ".py",
   "mimetype": "text/x-python",
   "name": "python",
   "nbconvert_exporter": "python",
   "pygments_lexer": "ipython2",
   "version": "2.7.6"
  }
 },
 "nbformat": 4,
 "nbformat_minor": 5
}
