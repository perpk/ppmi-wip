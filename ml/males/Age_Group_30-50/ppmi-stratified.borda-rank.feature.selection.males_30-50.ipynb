{
 "cells": [
  {
   "cell_type": "code",
   "id": "initial_id",
   "metadata": {
    "collapsed": true,
    "ExecuteTime": {
     "end_time": "2025-04-27T16:45:08.947235Z",
     "start_time": "2025-04-27T16:44:54.342268Z"
    }
   },
   "source": [
    "import anndata as ad\n",
    "ppmi_ad = ad.read_h5ad(\"/Users/kpax/Documents/aep/study/MSC/lab/PPMI_Project_133_RNASeq/ppmi_adata.h5ad\")\n"
   ],
   "outputs": [
    {
     "name": "stderr",
     "output_type": "stream",
     "text": [
      "\n",
      "A module that was compiled using NumPy 1.x cannot be run in\n",
      "NumPy 2.2.4 as it may crash. To support both 1.x and 2.x\n",
      "versions of NumPy, modules must be compiled with NumPy 2.0.\n",
      "Some module may need to rebuild instead e.g. with 'pybind11>=2.12'.\n",
      "\n",
      "If you are a user of the module, the easiest solution will be to\n",
      "downgrade to 'numpy<2' or try to upgrade the affected module.\n",
      "We expect that some modules will need time to support NumPy 2.\n",
      "\n",
      "Traceback (most recent call last):  File \"<frozen runpy>\", line 198, in _run_module_as_main\n",
      "  File \"<frozen runpy>\", line 88, in _run_code\n",
      "  File \"/Users/kpax/Documents/aep/study/MSC/lab/ppmi-wip/ppmi-env/lib/python3.12/site-packages/ipykernel_launcher.py\", line 18, in <module>\n",
      "    app.launch_new_instance()\n",
      "  File \"/Users/kpax/Documents/aep/study/MSC/lab/ppmi-wip/ppmi-env/lib/python3.12/site-packages/traitlets/config/application.py\", line 1075, in launch_instance\n",
      "    app.start()\n",
      "  File \"/Users/kpax/Documents/aep/study/MSC/lab/ppmi-wip/ppmi-env/lib/python3.12/site-packages/ipykernel/kernelapp.py\", line 739, in start\n",
      "    self.io_loop.start()\n",
      "  File \"/Users/kpax/Documents/aep/study/MSC/lab/ppmi-wip/ppmi-env/lib/python3.12/site-packages/tornado/platform/asyncio.py\", line 205, in start\n",
      "    self.asyncio_loop.run_forever()\n",
      "  File \"/opt/anaconda3/lib/python3.12/asyncio/base_events.py\", line 639, in run_forever\n",
      "    self._run_once()\n",
      "  File \"/opt/anaconda3/lib/python3.12/asyncio/base_events.py\", line 1985, in _run_once\n",
      "    handle._run()\n",
      "  File \"/opt/anaconda3/lib/python3.12/asyncio/events.py\", line 88, in _run\n",
      "    self._context.run(self._callback, *self._args)\n",
      "  File \"/Users/kpax/Documents/aep/study/MSC/lab/ppmi-wip/ppmi-env/lib/python3.12/site-packages/ipykernel/kernelbase.py\", line 545, in dispatch_queue\n",
      "    await self.process_one()\n",
      "  File \"/Users/kpax/Documents/aep/study/MSC/lab/ppmi-wip/ppmi-env/lib/python3.12/site-packages/ipykernel/kernelbase.py\", line 534, in process_one\n",
      "    await dispatch(*args)\n",
      "  File \"/Users/kpax/Documents/aep/study/MSC/lab/ppmi-wip/ppmi-env/lib/python3.12/site-packages/ipykernel/kernelbase.py\", line 437, in dispatch_shell\n",
      "    await result\n",
      "  File \"/Users/kpax/Documents/aep/study/MSC/lab/ppmi-wip/ppmi-env/lib/python3.12/site-packages/ipykernel/ipkernel.py\", line 362, in execute_request\n",
      "    await super().execute_request(stream, ident, parent)\n",
      "  File \"/Users/kpax/Documents/aep/study/MSC/lab/ppmi-wip/ppmi-env/lib/python3.12/site-packages/ipykernel/kernelbase.py\", line 778, in execute_request\n",
      "    reply_content = await reply_content\n",
      "  File \"/Users/kpax/Documents/aep/study/MSC/lab/ppmi-wip/ppmi-env/lib/python3.12/site-packages/ipykernel/ipkernel.py\", line 449, in do_execute\n",
      "    res = shell.run_cell(\n",
      "  File \"/Users/kpax/Documents/aep/study/MSC/lab/ppmi-wip/ppmi-env/lib/python3.12/site-packages/ipykernel/zmqshell.py\", line 549, in run_cell\n",
      "    return super().run_cell(*args, **kwargs)\n",
      "  File \"/Users/kpax/Documents/aep/study/MSC/lab/ppmi-wip/ppmi-env/lib/python3.12/site-packages/IPython/core/interactiveshell.py\", line 3098, in run_cell\n",
      "    result = self._run_cell(\n",
      "  File \"/Users/kpax/Documents/aep/study/MSC/lab/ppmi-wip/ppmi-env/lib/python3.12/site-packages/IPython/core/interactiveshell.py\", line 3153, in _run_cell\n",
      "    result = runner(coro)\n",
      "  File \"/Users/kpax/Documents/aep/study/MSC/lab/ppmi-wip/ppmi-env/lib/python3.12/site-packages/IPython/core/async_helpers.py\", line 128, in _pseudo_sync_runner\n",
      "    coro.send(None)\n",
      "  File \"/Users/kpax/Documents/aep/study/MSC/lab/ppmi-wip/ppmi-env/lib/python3.12/site-packages/IPython/core/interactiveshell.py\", line 3362, in run_cell_async\n",
      "    has_raised = await self.run_ast_nodes(code_ast.body, cell_name,\n",
      "  File \"/Users/kpax/Documents/aep/study/MSC/lab/ppmi-wip/ppmi-env/lib/python3.12/site-packages/IPython/core/interactiveshell.py\", line 3607, in run_ast_nodes\n",
      "    if await self.run_code(code, result, async_=asy):\n",
      "  File \"/Users/kpax/Documents/aep/study/MSC/lab/ppmi-wip/ppmi-env/lib/python3.12/site-packages/IPython/core/interactiveshell.py\", line 3667, in run_code\n",
      "    exec(code_obj, self.user_global_ns, self.user_ns)\n",
      "  File \"/var/folders/qb/t7qv2b9n33n2xzbjvg_dk_4c0000gn/T/ipykernel_23572/1425912324.py\", line 1, in <module>\n",
      "    import anndata as ad\n",
      "  File \"/Users/kpax/Documents/aep/study/MSC/lab/ppmi-wip/ppmi-env/lib/python3.12/site-packages/anndata/__init__.py\", line 29, in <module>\n",
      "    from .io import read_h5ad, read_zarr\n",
      "  File \"/Users/kpax/Documents/aep/study/MSC/lab/ppmi-wip/ppmi-env/lib/python3.12/site-packages/anndata/io.py\", line 7, in <module>\n",
      "    from ._io.h5ad import read_h5ad, write_h5ad\n",
      "  File \"/Users/kpax/Documents/aep/study/MSC/lab/ppmi-wip/ppmi-env/lib/python3.12/site-packages/anndata/_io/h5ad.py\", line 25, in <module>\n",
      "    from ..experimental import read_dispatched\n",
      "  File \"/Users/kpax/Documents/aep/study/MSC/lab/ppmi-wip/ppmi-env/lib/python3.12/site-packages/anndata/experimental/__init__.py\", line 12, in <module>\n",
      "    from .pytorch import AnnLoader\n",
      "  File \"/Users/kpax/Documents/aep/study/MSC/lab/ppmi-wip/ppmi-env/lib/python3.12/site-packages/anndata/experimental/pytorch/__init__.py\", line 3, in <module>\n",
      "    from ._annloader import AnnLoader\n",
      "  File \"/Users/kpax/Documents/aep/study/MSC/lab/ppmi-wip/ppmi-env/lib/python3.12/site-packages/anndata/experimental/pytorch/_annloader.py\", line 19, in <module>\n",
      "    import torch\n",
      "  File \"/Users/kpax/Documents/aep/study/MSC/lab/ppmi-wip/ppmi-env/lib/python3.12/site-packages/torch/__init__.py\", line 1477, in <module>\n",
      "    from .functional import *  # noqa: F403\n",
      "  File \"/Users/kpax/Documents/aep/study/MSC/lab/ppmi-wip/ppmi-env/lib/python3.12/site-packages/torch/functional.py\", line 9, in <module>\n",
      "    import torch.nn.functional as F\n",
      "  File \"/Users/kpax/Documents/aep/study/MSC/lab/ppmi-wip/ppmi-env/lib/python3.12/site-packages/torch/nn/__init__.py\", line 1, in <module>\n",
      "    from .modules import *  # noqa: F403\n",
      "  File \"/Users/kpax/Documents/aep/study/MSC/lab/ppmi-wip/ppmi-env/lib/python3.12/site-packages/torch/nn/modules/__init__.py\", line 35, in <module>\n",
      "    from .transformer import TransformerEncoder, TransformerDecoder, \\\n",
      "  File \"/Users/kpax/Documents/aep/study/MSC/lab/ppmi-wip/ppmi-env/lib/python3.12/site-packages/torch/nn/modules/transformer.py\", line 20, in <module>\n",
      "    device: torch.device = torch.device(torch._C._get_default_device()),  # torch.device('cpu'),\n",
      "/Users/kpax/Documents/aep/study/MSC/lab/ppmi-wip/ppmi-env/lib/python3.12/site-packages/torch/nn/modules/transformer.py:20: UserWarning: Failed to initialize NumPy: _ARRAY_API not found (Triggered internally at /Users/runner/work/pytorch/pytorch/pytorch/torch/csrc/utils/tensor_numpy.cpp:84.)\n",
      "  device: torch.device = torch.device(torch._C._get_default_device()),  # torch.device('cpu'),\n"
     ]
    }
   ],
   "execution_count": 2
  },
  {
   "metadata": {
    "ExecuteTime": {
     "end_time": "2025-04-27T16:45:27.888894Z",
     "start_time": "2025-04-27T16:45:27.877417Z"
    }
   },
   "cell_type": "code",
   "source": [
    "mask = ((ppmi_ad.obs['Age_Group'] == '30-50') &\n",
    "        (ppmi_ad.obs['Gender'] == 'Male') &\n",
    "        (ppmi_ad.obs['Diagnosis'].isin(['PD', 'Control'])) &\n",
    "        (ppmi_ad.obs['Visit'] == 'BL'))"
   ],
   "id": "f9dfb23b4de7e3ff",
   "outputs": [],
   "execution_count": 3
  },
  {
   "metadata": {
    "ExecuteTime": {
     "end_time": "2025-04-27T16:45:29.362850Z",
     "start_time": "2025-04-27T16:45:29.343178Z"
    }
   },
   "cell_type": "code",
   "source": "ppmi_ad = ppmi_ad[mask]",
   "id": "82f1cc43e284e65e",
   "outputs": [],
   "execution_count": 4
  },
  {
   "metadata": {
    "ExecuteTime": {
     "end_time": "2025-04-27T16:45:31.519727Z",
     "start_time": "2025-04-27T16:45:30.325084Z"
    }
   },
   "cell_type": "code",
   "source": [
    "import numpy as np\n",
    "import pandas as pd\n",
    "import matplotlib.pyplot as plt\n",
    "from sklearn.feature_selection import (\n",
    "    VarianceThreshold,\n",
    "    SelectKBest,\n",
    "    f_classif,\n",
    "    mutual_info_classif,\n",
    "    chi2\n",
    ")\n",
    "from skfeature.function.similarity_based import fisher_score\n",
    "from sklearn.preprocessing import KBinsDiscretizer, StandardScaler"
   ],
   "id": "f074574919121f3f",
   "outputs": [],
   "execution_count": 5
  },
  {
   "metadata": {
    "ExecuteTime": {
     "end_time": "2025-04-27T16:45:34.922868Z",
     "start_time": "2025-04-27T16:45:34.828870Z"
    }
   },
   "cell_type": "code",
   "source": [
    "X = pd.DataFrame(ppmi_ad.layers['counts_log2'], columns=ppmi_ad.var_names)\n",
    "y = (ppmi_ad.obs['Diagnosis'] == 'PD').astype(int)"
   ],
   "id": "29330e2b65916af9",
   "outputs": [],
   "execution_count": 6
  },
  {
   "metadata": {
    "ExecuteTime": {
     "end_time": "2025-04-27T16:45:36.411143Z",
     "start_time": "2025-04-27T16:45:35.757633Z"
    }
   },
   "cell_type": "code",
   "source": [
    "var_selector = VarianceThreshold(threshold=0.1)\n",
    "X_highvar = var_selector.fit_transform(X)\n",
    "selected_genes = X.columns[var_selector.get_support()]\n",
    "print(f\"After variance threshold: {len(selected_genes)} genes remaining\")"
   ],
   "id": "98a8cf2326b7d639",
   "outputs": [
    {
     "name": "stdout",
     "output_type": "stream",
     "text": [
      "After variance threshold: 56249 genes remaining\n"
     ]
    }
   ],
   "execution_count": 7
  },
  {
   "metadata": {
    "ExecuteTime": {
     "end_time": "2025-04-27T16:45:37.498597Z",
     "start_time": "2025-04-27T16:45:37.423971Z"
    }
   },
   "cell_type": "code",
   "source": [
    "scaler = StandardScaler()\n",
    "X_scaled = scaler.fit_transform(X_highvar)"
   ],
   "id": "6512717106623ac4",
   "outputs": [],
   "execution_count": 8
  },
  {
   "metadata": {
    "ExecuteTime": {
     "end_time": "2025-04-27T16:45:38.445936Z",
     "start_time": "2025-04-27T16:45:38.440678Z"
    }
   },
   "cell_type": "code",
   "source": "n_top_genes = 20000",
   "id": "ee2840fd2268fd5d",
   "outputs": [],
   "execution_count": 9
  },
  {
   "metadata": {
    "ExecuteTime": {
     "end_time": "2025-04-27T16:45:39.765942Z",
     "start_time": "2025-04-27T16:45:39.607300Z"
    }
   },
   "cell_type": "code",
   "source": [
    "anova_scores, _ = f_classif(X_scaled, y)\n",
    "top_indices_anovaf = np.argsort(anova_scores)[-n_top_genes:][::-1]\n",
    "anova_selected_genes = selected_genes[top_indices_anovaf]\n",
    "anova_scores = anova_scores[top_indices_anovaf]"
   ],
   "id": "20eb4c1831f03412",
   "outputs": [],
   "execution_count": 10
  },
  {
   "metadata": {
    "ExecuteTime": {
     "end_time": "2025-04-27T16:45:42.014699Z",
     "start_time": "2025-04-27T16:45:40.623856Z"
    }
   },
   "cell_type": "code",
   "source": [
    "discretizer = KBinsDiscretizer(n_bins=5, encode='ordinal', strategy='uniform')\n",
    "X_processed = discretizer.fit_transform(X_scaled)\n",
    "chi2_scores, _ = chi2(X_processed, y)\n",
    "top_indices_chi2 = np.argsort(chi2_scores)[-n_top_genes:][::-1]\n",
    "chi2_selected_genes = selected_genes[top_indices_chi2]\n",
    "chi2_scores = chi2_scores[top_indices_chi2]"
   ],
   "id": "fb8a1961a81206e6",
   "outputs": [],
   "execution_count": 11
  },
  {
   "metadata": {
    "ExecuteTime": {
     "end_time": "2025-04-27T16:47:49.165711Z",
     "start_time": "2025-04-27T16:45:44.120975Z"
    }
   },
   "cell_type": "code",
   "source": [
    "mutual_info_scores = mutual_info_classif(X_scaled, y)\n",
    "top_indices_mutual_info = np.argsort(mutual_info_scores)[-n_top_genes:][::-1]\n",
    "mutual_info_selected_genes = selected_genes[top_indices_mutual_info]\n",
    "mutual_info_scores = mutual_info_scores[top_indices_mutual_info]"
   ],
   "id": "a236995a059c6992",
   "outputs": [],
   "execution_count": 12
  },
  {
   "metadata": {
    "ExecuteTime": {
     "end_time": "2025-04-27T16:49:47.256467Z",
     "start_time": "2025-04-27T16:48:25.232634Z"
    }
   },
   "cell_type": "code",
   "source": [
    "from skfeature.function.similarity_based import fisher_score\n",
    "fisher_score = fisher_score.fisher_score(X_scaled, np.asarray(y))\n",
    "top_indices_fisher = np.argsort(fisher_score)[-n_top_genes:][::-1]\n",
    "fisher_selected_genes = selected_genes[top_indices_fisher]\n",
    "fisher_score = fisher_score[top_indices_fisher]"
   ],
   "id": "eef8f4f12d1a045f",
   "outputs": [],
   "execution_count": 13
  },
  {
   "metadata": {
    "ExecuteTime": {
     "end_time": "2025-04-27T14:33:45.009595Z",
     "start_time": "2025-04-27T14:33:44.569498Z"
    }
   },
   "cell_type": "code",
   "source": [
    "from venny4py.venny4py import *\n",
    "\n",
    "sets = {\n",
    "    'ANOVA': set(anova_selected_genes),\n",
    "    'Chi-Squared': set(chi2_selected_genes),\n",
    "    'Mutual Information': set(mutual_info_selected_genes),\n",
    "    'Fisher\\'s Score': set(fisher_selected_genes)\n",
    "}\n",
    "venny4py(sets=sets)\n"
   ],
   "id": "733ff8ce8377c437",
   "outputs": [
    {
     "data": {
      "text/plain": [
       "<Figure size 700x700 with 1 Axes>"
      ],
      "image/png": "[encoded data removed]"
     },
     "metadata": {},
     "output_type": "display_data"
    }
   ],
   "execution_count": 34
  },
  {
   "metadata": {
    "ExecuteTime": {
     "end_time": "2025-04-27T16:52:43.675482Z",
     "start_time": "2025-04-27T16:52:43.642246Z"
    }
   },
   "cell_type": "code",
   "source": [
    "common_genes = set(anova_selected_genes) & set(chi2_selected_genes) & set(mutual_info_selected_genes) & set(fisher_selected_genes)\n",
    "print(f\"Number of common genes across methods: {len(common_genes)}\")\n",
    "print(\"Common genes:\")\n",
    "print(common_genes)"
   ],
   "id": "194300d5c4192fb7",
   "outputs": [
    {
     "name": "stdout",
     "output_type": "stream",
     "text": [
      "Number of common genes across methods: 2121\n",
      "Common genes:\n",
      "{'ENSG00000249744.1', 'ENSG00000189409.13', 'ENSG00000180172.7', 'ENSG00000283279.1', 'ENSG00000134207.16', 'ENSG00000270763.1', 'ENSG00000228838.1', 'ENSG00000228779.1', 'ENSG00000237786.1', 'ENSG00000119888.10', 'ENSG00000261104.1', 'ENSG00000222724.1', 'ENSG00000255033.1', 'ENSG00000284648.1', 'ENSG00000226869.6', 'ENSG00000259041.1', 'ENSG00000223684.1', 'ENSG00000185664.14', 'ENSG00000085274.15', 'ENSG00000280254.1', 'ENSG00000272703.1', 'ENSG00000233613.5', 'ENSG00000262008.1', 'ENSG00000270588.1', 'ENSG00000247157.6', 'ENSG00000198674.3', 'ENSG00000230130.1', 'ENSG00000256852.1', 'ENSG00000275497.1', 'ENSG00000222998.1', 'ENSG00000254674.1', 'ENSG00000281039.1', 'ENSG00000273730.1', 'ENSG00000275896.5', 'ENSG00000226061.1', 'ENSG00000162643.12', 'ENSG00000212158.1', 'ENSG00000250066.1', 'ENSG00000233803.9', 'ENSG00000218754.4', 'ENSG00000251368.1', 'ENSG00000272741.1', 'ENSG00000225911.1', 'ENSG00000275516.1', 'ENSG00000255639.3', 'ENSG00000285402.1', 'ENSG00000237232.7', 'ENSG00000225167.1', 'ENSG00000200794.1', 'ENSG00000222255.1', 'ENSG00000201676.1', 'ENSG00000254758.1', 'ENSG00000231971.5', 'ENSG00000161544.9', 'ENSG00000203321.2', 'ENSG00000242428.5', 'ENSG00000253947.1', 'ENSG00000123545.5', 'ENSG00000256037.1', 'ENSG00000251652.1', 'ENSG00000251105.1', 'ENSG00000235803.1', 'ENSG00000254848.1', 'ENSG00000213014.3', 'ENSG00000253186.2', 'ENSG00000239694.1', 'ENSG00000225148.1', 'ENSG00000081307.12', 'ENSG00000230506.1', 'ENSG00000274837.1', 'ENSG00000231296.1', 'ENSG00000264582.2', 'ENSG00000235626.2', 'ENSG00000124557.12', 'ENSG00000236235.1', 'ENSG00000248867.1', 'ENSG00000285171.1', 'ENSG00000218410.1', 'ENSG00000008196.12', 'ENSG00000264603.1', 'ENSG00000240624.1', 'ENSG00000237875.1', 'ENSG00000242841.1', 'ENSG00000122644.12', 'ENSG00000271153.1', 'ENSG00000227013.3', 'ENSG00000233129.1', 'ENSG00000239008.1', 'ENSG00000047634.14', 'ENSG00000230459.3', 'ENSG00000198976.1', 'ENSG00000259798.1', 'ENSG00000274172.1', 'ENSG00000202205.1', 'ENSG00000250041.2', 'ENSG00000271099.1', 'ENSG00000274798.1', 'ENSG00000225275.4', 'ENSG00000137877.9', 'ENSG00000234912.12', 'ENSG00000279901.1', 'ENSG00000239115.1', 'ENSG00000215310.2', 'ENSG00000259462.2', 'ENSG00000235310.1', 'ENSG00000232136.2', 'ENSG00000260779.1', 'ENSG00000257386.1', 'ENSG00000206659.1', 'ENSG00000163734.4', 'ENSG00000203797.9', 'ENSG00000211851.1', 'ENSG00000259773.1', 'ENSG00000231251.1', 'ENSG00000251813.1', 'ENSG00000248664.1', 'ENSG00000207927.1', 'ENSG00000244717.1', 'ENSG00000253414.2', 'ENSG00000284500.2', 'ENSG00000271583.1', 'ENSG00000036448.9', 'ENSG00000254035.1', 'ENSG00000244476.2', 'ENSG00000270705.1', 'ENSG00000228754.1', 'ENSG00000225271.1', 'ENSG00000245522.2', 'ENSG00000227994.1', 'ENSG00000244632.3', 'ENSG00000255524.7', 'ENSG00000169214.4', 'ENSG00000089127.12', 'ENSG00000250125.2', 'ENSG00000252710.1', 'ENSG00000238845.1', 'ENSG00000236323.1', 'ENSG00000226395.1', 'ENSG00000277613.1', 'ENSG00000055118.14', 'ENSG00000232054.1', 'ENSG00000214042.1', 'ENSG00000283132.1', 'ENSG00000164761.8', 'ENSG00000252620.1', 'ENSG00000226939.1', 'ENSG00000255689.1', 'ENSG00000253752.1', 'ENSG00000233823.1', 'ENSG00000164972.12', 'ENSG00000259553.5', 'ENSG00000222617.1', 'ENSG00000222416.1', 'ENSG00000200108.1', 'ENSG00000227790.7', 'ENSG00000279953.1', 'ENSG00000154803.12', 'ENSG00000212181.1', 'ENSG00000249721.1', 'ENSG00000244604.1', 'ENSG00000179528.15', 'ENSG00000159713.10', 'ENSG00000264211.1', 'ENSG00000189357.8', 'ENSG00000274164.1', 'ENSG00000230826.1', 'ENSG00000260162.2', 'ENSG00000233262.1', 'ENSG00000149948.13', 'ENSG00000207201.1', 'ENSG00000219757.1', 'ENSG00000244653.1', 'ENSG00000230352.1', 'ENSG00000200411.1', 'ENSG00000248687.2', 'ENSG00000256663.1', 'ENSG00000224680.4', 'ENSG00000277636.1', 'ENSG00000228735.1', 'ENSG00000260792.1', 'ENSG00000279264.1', 'ENSG00000266048.1', 'ENSG00000258876.1', 'ENSG00000228484.2', 'ENSG00000214708.4', 'ENSG00000255134.1', 'ENSG00000264857.1', 'ENSG00000253364.2', 'ENSG00000285287.1', 'ENSG00000232537.1', 'ENSG00000229924.3', 'ENSG00000256817.1', 'ENSG00000233534.2', 'ENSG00000282886.1', 'ENSG00000263443.1', 'ENSG00000237235.2', 'ENSG00000267314.1', 'ENSG00000249310.2', 'ENSG00000165868.14', 'ENSG00000228380.1', 'ENSG00000275672.1', 'ENSG00000229967.1', 'ENSG00000233333.2', 'ENSG00000201511.1', 'ENSG00000172590.18', 'ENSG00000241225.2', 'ENSG00000235051.3', 'ENSG00000276250.1', 'ENSG00000255328.1', 'ENSG00000164438.5', 'ENSG00000283427.1', 'ENSG00000253356.1', 'ENSG00000271806.1', 'ENSG00000257392.1', 'ENSG00000233587.1', 'ENSG00000272619.1', 'ENSG00000230261.1', 'ENSG00000163885.11', 'ENSG00000279087.1', 'ENSG00000270377.1', 'ENSG00000161634.11', 'ENSG00000235083.1', 'ENSG00000226520.1', 'ENSG00000255530.1', 'ENSG00000184640.17', 'ENSG00000182749.5', 'ENSG00000267298.1', 'ENSG00000255527.1', 'ENSG00000196812.4', 'ENSG00000200492.2', 'ENSG00000244968.6', 'ENSG00000115419.12', 'ENSG00000285770.1', 'ENSG00000137648.17', 'ENSG00000270983.1', 'ENSG00000227048.2', 'ENSG00000235647.1', 'ENSG00000285969.1', 'ENSG00000278153.1', 'ENSG00000250853.1', 'ENSG00000271862.1', 'ENSG00000270690.1', 'ENSG00000259676.1', 'ENSG00000225231.1', 'ENSG00000266479.1', 'ENSG00000150261.4', 'ENSG00000180988.2', 'ENSG00000214842.5', 'ENSG00000283365.1', 'ENSG00000285043.1', 'ENSG00000212240.1', 'ENSG00000253499.2', 'ENSG00000253637.1', 'ENSG00000273600.1', 'ENSG00000224416.2', 'ENSG00000267984.1', 'ENSG00000243349.2', 'ENSG00000260763.1', 'ENSG00000204894.4', 'ENSG00000253811.1', 'ENSG00000211905.1', 'ENSG00000202310.1', 'ENSG00000275940.1', 'ENSG00000251807.1', 'ENSG00000204291.10', 'ENSG00000223574.1', 'ENSG00000167617.2', 'ENSG00000231550.1', 'ENSG00000221033.1', 'ENSG00000278000.1', 'ENSG00000237434.1', 'ENSG00000248127.1', 'ENSG00000273015.2', 'ENSG00000212421.1', 'ENSG00000271776.1', 'ENSG00000105370.7', 'ENSG00000169849.8', 'ENSG00000249481.6', 'ENSG00000143387.12', 'ENSG00000259397.3', 'ENSG00000112116.9', 'ENSG00000180776.15', 'ENSG00000137871.20', 'ENSG00000248694.1', 'ENSG00000240977.3', 'ENSG00000170775.2', 'ENSG00000131373.14', 'ENSG00000248802.1', 'ENSG00000267601.1', 'ENSG00000224280.1', 'ENSG00000224521.1', 'ENSG00000207195.1', 'ENSG00000232549.1', 'ENSG00000239744.3', 'ENSG00000243072.1', 'ENSG00000279182.1', 'ENSG00000283414.1', 'ENSG00000225864.1', 'ENSG00000280261.1', 'ENSG00000039987.6', 'ENSG00000196805.7', 'ENSG00000239545.3', 'ENSG00000238344.1', 'ENSG00000259887.1', 'ENSG00000235056.1', 'ENSG00000211812.1', 'ENSG00000248112.1', 'ENSG00000272043.1', 'ENSG00000203581.7', 'ENSG00000243373.3', 'ENSG00000213553.4', 'ENSG00000226686.7', 'ENSG00000173918.14', 'ENSG00000252008.1', 'ENSG00000272461.1', 'ENSG00000252284.1', 'ENSG00000200528.1', 'ENSG00000122787.14', 'ENSG00000259490.2', 'ENSG00000249877.1', 'ENSG00000274080.1', 'ENSG00000099860.8', 'ENSG00000213069.3', 'ENSG00000236831.1', 'ENSG00000240449.1', 'ENSG00000260953.1', 'ENSG00000273694.1', 'ENSG00000237642.1', 'ENSG00000232408.1', 'ENSG00000136940.13', 'ENSG00000231057.3', 'ENSG00000236111.5', 'ENSG00000280371.1', 'ENSG00000200545.2', 'ENSG00000250681.1', 'ENSG00000263717.1', 'ENSG00000250772.5', 'ENSG00000266396.1', 'ENSG00000232461.1', 'ENSG00000251113.2', 'ENSG00000263681.1', 'ENSG00000255606.1', 'ENSG00000187608.9', 'ENSG00000270036.1', 'ENSG00000266586.1', 'ENSG00000201420.1', 'ENSG00000222601.1', 'ENSG00000285915.1', 'ENSG00000238197.5', 'ENSG00000240578.1', 'ENSG00000259160.1', 'ENSG00000207139.1', 'ENSG00000186795.1', 'ENSG00000212425.1', 'ENSG00000258034.1', 'ENSG00000278678.1', 'ENSG00000227348.1', 'ENSG00000215480.4', 'ENSG00000251427.1', 'ENSG00000126861.4', 'ENSG00000103051.18', 'ENSG00000278661.1', 'ENSG00000283490.1', 'ENSG00000278934.1', 'ENSG00000230805.6', 'ENSG00000229830.1', 'ENSG00000253714.1', 'ENSG00000236638.1', 'ENSG00000231855.1', 'ENSG00000237684.1', 'ENSG00000230879.1', 'ENSG00000188931.3', 'ENSG00000213592.4', 'ENSG00000274319.1', 'ENSG00000112578.9', 'ENSG00000218337.1', 'ENSG00000205865.4', 'ENSG00000252780.1', 'ENSG00000238783.1', 'ENSG00000249977.1', 'ENSG00000264963.2', 'ENSG00000269118.1', 'ENSG00000230390.1', 'ENSG00000227183.3', 'ENSG00000240905.3', 'ENSG00000234458.4', 'ENSG00000276017.1', 'ENSG00000228007.1', 'ENSG00000198056.13', 'ENSG00000197588.9', 'ENSG00000277501.1', 'ENSG00000275597.1', 'ENSG00000174482.10', 'ENSG00000271911.1', 'ENSG00000268736.1', 'ENSG00000231388.1', 'ENSG00000281490.1', 'ENSG00000224879.1', 'ENSG00000224218.1', 'ENSG00000231942.3', 'ENSG00000235544.1', 'ENSG00000214374.2', 'ENSG00000267774.2', 'ENSG00000215938.3', 'ENSG00000171243.7', 'ENSG00000231390.1', 'ENSG00000207571.1', 'ENSG00000254316.1', 'ENSG00000278860.1', 'ENSG00000235089.1', 'ENSG00000253819.1', 'ENSG00000122254.6', 'ENSG00000273679.1', 'ENSG00000178965.13', 'ENSG00000035141.7', 'ENSG00000236921.1', 'ENSG00000230174.1', 'ENSG00000235420.7', 'ENSG00000266110.1', 'ENSG00000252028.1', 'ENSG00000201920.1', 'ENSG00000226722.3', 'ENSG00000257648.1', 'ENSG00000228264.1', 'ENSG00000278899.1', 'ENSG00000228089.1', 'ENSG00000285627.1', 'ENSG00000175701.10', 'ENSG00000270790.1', 'ENSG00000232551.2', 'ENSG00000212374.1', 'ENSG00000036828.16', 'ENSG00000250173.1', 'ENSG00000229465.1', 'ENSG00000228295.1', 'ENSG00000213028.3', 'ENSG00000225616.2', 'ENSG00000237016.1', 'ENSG00000267187.1', 'ENSG00000236574.1', 'ENSG00000259309.2', 'ENSG00000219992.2', 'ENSG00000222019.7', 'ENSG00000285278.1', 'ENSG00000201916.1', 'ENSG00000285080.1', 'ENSG00000188314.3', 'ENSG00000230777.1', 'ENSG00000211807.3', 'ENSG00000261395.3', 'ENSG00000156531.16', 'ENSG00000270518.2', 'ENSG00000222351.1', 'ENSG00000250218.1', 'ENSG00000227297.1', 'ENSG00000262772.1', 'ENSG00000174599.5', 'ENSG00000238934.1', 'ENSG00000199047.3', 'ENSG00000230481.2', 'ENSG00000271288.1', 'ENSG00000230490.2', 'ENSG00000172215.5', 'ENSG00000230392.1', 'ENSG00000252255.1', 'ENSG00000228803.1', 'ENSG00000250383.1', 'ENSG00000272085.1', 'ENSG00000229750.1', 'ENSG00000258443.1', 'ENSG00000254164.1', 'ENSG00000226332.2', 'ENSG00000253556.1', 'ENSG00000227360.1', 'ENSG00000147256.11', 'ENSG00000089685.14', 'ENSG00000135222.6', 'ENSG00000259630.2', 'ENSG00000202528.1', 'ENSG00000271127.1', 'ENSG00000224887.1', 'ENSG00000237974.1', 'ENSG00000248881.1', 'ENSG00000167656.4', 'ENSG00000085662.13', 'ENSG00000252047.1', 'ENSG00000238141.2', 'ENSG00000236232.1', 'ENSG00000200893.1', 'ENSG00000163866.8', 'ENSG00000211880.1', 'ENSG00000258766.1', 'ENSG00000223212.1', 'ENSG00000114120.12', 'ENSG00000225903.1', 'ENSG00000224256.1', 'ENSG00000166823.5', 'ENSG00000218996.1', 'ENSG00000271579.1', 'ENSG00000233643.2', 'ENSG00000114113.6', 'ENSG00000206801.1', 'ENSG00000273155.1', 'ENSG00000254678.1', 'ENSG00000257754.1', 'ENSG00000186940.6', 'ENSG00000233247.3', 'ENSG00000285921.1', 'ENSG00000171388.11', 'ENSG00000201351.1', 'ENSG00000278422.1', 'ENSG00000241874.1', 'ENSG00000227214.2', 'ENSG00000199263.1', 'ENSG00000271053.1', 'ENSG00000083535.15', 'ENSG00000262979.1', 'ENSG00000225549.3', 'ENSG00000180383.3', 'ENSG00000262267.5', 'ENSG00000170802.15', 'ENSG00000223523.1', 'ENSG00000267049.1', 'ENSG00000120675.5', 'ENSG00000271402.1', 'ENSG00000249981.1', 'ENSG00000034693.14', 'ENSG00000283999.1', 'ENSG00000217327.3', 'ENSG00000235274.1', 'ENSG00000236152.1', 'ENSG00000254431.1', 'ENSG00000236230.1', 'ENSG00000277563.1', 'ENSG00000263882.2', 'ENSG00000196993.8', 'ENSG00000188280.11', 'ENSG00000231120.3', 'ENSG00000233148.2', 'ENSG00000077782.20', 'ENSG00000271190.1', 'ENSG00000174652.18', 'ENSG00000201701.1', 'ENSG00000271095.1', 'ENSG00000219222.1', 'ENSG00000186908.14', 'ENSG00000214269.3', 'ENSG00000232290.1', 'ENSG00000166173.10', 'ENSG00000243715.1', 'ENSG00000231010.1', 'ENSG00000233987.1', 'ENSG00000111218.11', 'ENSG00000224653.1', 'ENSG00000179157.4', 'ENSG00000227397.1', 'ENSG00000199755.1', 'ENSG00000125363.14', 'ENSG00000231831.1', 'ENSG00000270800.3', 'ENSG00000269902.1', 'ENSG00000254839.1', 'ENSG00000231147.2', 'ENSG00000267006.1', 'ENSG00000257319.1', 'ENSG00000140265.12', 'ENSG00000224109.3', 'ENSG00000271014.1', 'ENSG00000269937.1', 'ENSG00000228436.2', 'ENSG00000186268.3', 'ENSG00000225851.1', 'ENSG00000280968.1', 'ENSG00000270528.1', 'ENSG00000231046.1', 'ENSG00000212525.1', 'ENSG00000251549.2', 'ENSG00000207310.1', 'ENSG00000154274.14', 'ENSG00000259277.1', 'ENSG00000232508.1', 'ENSG00000276763.1', 'ENSG00000277117.4', 'ENSG00000275254.1', 'ENSG00000218265.1', 'ENSG00000049247.13', 'ENSG00000200379.1', 'ENSG00000262777.1', 'ENSG00000237351.1', 'ENSG00000110243.11', 'ENSG00000277171.1', 'ENSG00000184055.4', 'ENSG00000231651.1', 'ENSG00000168237.17', 'ENSG00000221275.1', 'ENSG00000259083.1', 'ENSG00000226307.1', 'ENSG00000256157.1', 'ENSG00000231982.1', 'ENSG00000183346.7', 'ENSG00000240021.9', 'ENSG00000196664.4', 'ENSG00000106789.12', 'ENSG00000249038.2', 'ENSG00000207611.1', 'ENSG00000257096.1', 'ENSG00000116117.17', 'ENSG00000211795.3', 'ENSG00000222225.1', 'ENSG00000230215.1', 'ENSG00000224604.1', 'ENSG00000235123.5', 'ENSG00000233337.1', 'ENSG00000137948.18', 'ENSG00000274090.1', 'ENSG00000254591.1', 'ENSG00000224908.1', 'ENSG00000241634.1', 'ENSG00000280317.1', 'ENSG00000238943.1', 'ENSG00000227619.1', 'ENSG00000277156.1', 'ENSG00000276963.1', 'ENSG00000177174.1', 'ENSG00000250385.1', 'ENSG00000211800.3', 'ENSG00000268307.1', 'ENSG00000250860.1', 'ENSG00000138944.7', 'ENSG00000268362.5', 'ENSG00000270961.1', 'ENSG00000240611.1', 'ENSG00000258940.2', 'ENSG00000256827.1', 'ENSG00000257180.1', 'ENSG00000234256.2', 'ENSG00000254623.1', 'ENSG00000212354.1', 'ENSG00000123191.14', 'ENSG00000248583.1', 'ENSG00000230309.1', 'ENSG00000175550.7', 'ENSG00000233978.1', 'ENSG00000282542.1', 'ENSG00000202261.1', 'ENSG00000154537.4', 'ENSG00000185495.10', 'ENSG00000249782.1', 'ENSG00000178107.2', 'ENSG00000264315.1', 'ENSG00000249490.1', 'ENSG00000258520.1', 'ENSG00000264316.1', 'ENSG00000236281.1', 'ENSG00000225218.1', 'ENSG00000225226.1', 'ENSG00000278967.1', 'ENSG00000258956.2', 'ENSG00000196659.9', 'ENSG00000178146.9', 'ENSG00000206592.1', 'ENSG00000231073.1', 'ENSG00000201752.1', 'ENSG00000104140.6', 'ENSG00000267120.3', 'ENSG00000219085.1', 'ENSG00000228787.1', 'ENSG00000280269.1', 'ENSG00000273717.1', 'ENSG00000130303.12', 'ENSG00000234399.1', 'ENSG00000263729.1', 'ENSG00000255095.2', 'ENSG00000256394.2', 'ENSG00000263715.7', 'ENSG00000250191.1', 'ENSG00000251920.1', 'ENSG00000259179.1', 'ENSG00000279741.1', 'ENSG00000272921.1', 'ENSG00000256081.2', 'ENSG00000128050.8', 'ENSG00000270549.1', 'ENSG00000187689.9', 'ENSG00000244921.2', 'ENSG00000270570.1', 'ENSG00000242850.3', 'ENSG00000234713.3', 'ENSG00000058085.14', 'ENSG00000226115.1', 'ENSG00000106538.9', 'ENSG00000244308.2', 'ENSG00000156194.17', 'ENSG00000201843.1', 'ENSG00000270683.1', 'ENSG00000257378.1', 'ENSG00000271524.1', 'ENSG00000249200.1', 'ENSG00000223383.1', 'ENSG00000258224.1', 'ENSG00000228675.1', 'ENSG00000103723.13', 'ENSG00000236025.1', 'ENSG00000236212.1', 'ENSG00000181001.2', 'ENSG00000226401.3', 'ENSG00000214967.5', 'ENSG00000259044.1', 'ENSG00000280123.1', 'ENSG00000239383.1', 'ENSG00000270554.1', 'ENSG00000249731.1', 'ENSG00000271209.1', 'ENSG00000255807.1', 'ENSG00000197134.11', 'ENSG00000228398.3', 'ENSG00000184925.11', 'ENSG00000188659.9', 'ENSG00000262869.1', 'ENSG00000220326.2', 'ENSG00000183421.11', 'ENSG00000124835.2', 'ENSG00000243641.3', 'ENSG00000243477.5', 'ENSG00000251195.1', 'ENSG00000250241.5', 'ENSG00000226133.6', 'ENSG00000213050.5', 'ENSG00000199319.1', 'ENSG00000258449.1', 'ENSG00000226946.1', 'ENSG00000112237.12', 'ENSG00000263643.1', 'ENSG00000250286.1', 'ENSG00000259757.1', 'ENSG00000277040.1', 'ENSG00000254947.1', 'ENSG00000233412.5', 'ENSG00000239590.1', 'ENSG00000214295.4', 'ENSG00000229436.1', 'ENSG00000202536.2', 'ENSG00000110851.11', 'ENSG00000201413.1', 'ENSG00000248455.5', 'ENSG00000234587.1', 'ENSG00000267611.1', 'ENSG00000229733.1', 'ENSG00000212527.1', 'ENSG00000233905.1', 'ENSG00000272668.2', 'ENSG00000237011.1', 'ENSG00000214012.4', 'ENSG00000145390.11', 'ENSG00000243831.1', 'ENSG00000225258.1', 'ENSG00000261346.1', 'ENSG00000224656.1', 'ENSG00000244521.3', 'ENSG00000276048.1', 'ENSG00000184619.5', 'ENSG00000182170.3', 'ENSG00000252191.1', 'ENSG00000082781.11', 'ENSG00000278573.1', 'ENSG00000252172.1', 'ENSG00000150201.14', 'ENSG00000144852.17', 'ENSG00000260909.1', 'ENSG00000181458.10', 'ENSG00000223040.1', 'ENSG00000234842.1', 'ENSG00000229334.1', 'ENSG00000280304.1', 'ENSG00000271550.1', 'ENSG00000270222.1', 'ENSG00000206140.10', 'ENSG00000227172.2', 'ENSG00000278433.1', 'ENSG00000260459.2', 'ENSG00000228063.1', 'ENSG00000278343.1', 'ENSG00000271236.1', 'ENSG00000241933.1', 'ENSG00000202449.1', 'ENSG00000238632.1', 'ENSG00000275878.1', 'ENSG00000138646.8', 'ENSG00000204278.12', 'ENSG00000215397.3', 'ENSG00000248822.1', 'ENSG00000279352.1', 'ENSG00000271498.1', 'ENSG00000232328.1', 'ENSG00000277057.1', 'ENSG00000267604.1', 'ENSG00000279305.1', 'ENSG00000236994.1', 'ENSG00000206797.1', 'ENSG00000174939.10', 'ENSG00000219387.2', 'ENSG00000255900.1', 'ENSG00000277852.1', 'ENSG00000215819.3', 'ENSG00000172769.3', 'ENSG00000272274.1', 'ENSG00000229153.5', 'ENSG00000276789.1', 'ENSG00000232990.2', 'ENSG00000266441.1', 'ENSG00000272051.1', 'ENSG00000271889.1', 'ENSG00000265737.1', 'ENSG00000239805.1', 'ENSG00000228426.1', 'ENSG00000252640.1', 'ENSG00000176720.5', 'ENSG00000199942.1', 'ENSG00000136487.17', 'ENSG00000233138.1', 'ENSG00000124657.1', 'ENSG00000119917.13', 'ENSG00000260595.1', 'ENSG00000276137.1', 'ENSG00000285254.1', 'ENSG00000280265.1', 'ENSG00000245482.2', 'ENSG00000197038.6', 'ENSG00000179066.8', 'ENSG00000198944.5', 'ENSG00000211967.3', 'ENSG00000278554.1', 'ENSG00000186185.13', 'ENSG00000283136.1', 'ENSG00000282535.1', 'ENSG00000265437.1', 'ENSG00000251642.1', 'ENSG00000167664.8', 'ENSG00000268105.1', 'ENSG00000243053.2', 'ENSG00000183971.7', 'ENSG00000252267.1', 'ENSG00000198963.10', 'ENSG00000170293.8', 'ENSG00000232667.10', 'ENSG00000230604.2', 'ENSG00000259239.1', 'ENSG00000261101.2', 'ENSG00000079785.14', 'ENSG00000248715.2', 'ENSG00000264850.1', 'ENSG00000266826.2', 'ENSG00000261553.5', 'ENSG00000267288.2', 'ENSG00000270105.1', 'ENSG00000199506.1', 'ENSG00000285970.1', 'ENSG00000254279.1', 'ENSG00000199668.1', 'ENSG00000230617.1', 'ENSG00000237992.2', 'ENSG00000176200.1', 'ENSG00000244436.2', 'ENSG00000236176.2', 'ENSG00000224257.1', 'ENSG00000212461.1', 'ENSG00000276397.1', 'ENSG00000238059.1', 'ENSG00000235818.3', 'ENSG00000234102.1', 'ENSG00000122585.7', 'ENSG00000183513.8', 'ENSG00000266179.2', 'ENSG00000222099.1', 'ENSG00000244540.2', 'ENSG00000149488.13', 'ENSG00000115163.14', 'ENSG00000253735.1', 'ENSG00000236115.1', 'ENSG00000250118.1', 'ENSG00000081059.19', 'ENSG00000267310.2', 'ENSG00000240562.1', 'ENSG00000204610.12', 'ENSG00000179270.6', 'ENSG00000202601.4', 'ENSG00000267315.1', 'ENSG00000233945.1', 'ENSG00000219133.2', 'ENSG00000222035.3', 'ENSG00000259631.1', 'ENSG00000278946.1', 'ENSG00000259681.1', 'ENSG00000166317.11', 'ENSG00000267567.1', 'ENSG00000264192.1', 'ENSG00000255363.2', 'ENSG00000231005.1', 'ENSG00000249388.1', 'ENSG00000279635.1', 'ENSG00000177855.8', 'ENSG00000254949.1', 'ENSG00000251285.2', 'ENSG00000230650.1', 'ENSG00000231839.1', 'ENSG00000199728.1', 'ENSG00000278224.6', 'ENSG00000229173.1', 'ENSG00000264037.1', 'ENSG00000213244.3', 'ENSG00000228985.1', 'ENSG00000197475.11', 'ENSG00000266304.1', 'ENSG00000226562.3', 'ENSG00000232546.1', 'ENSG00000228955.2', 'ENSG00000255947.1', 'ENSG00000267757.4', 'ENSG00000228154.3', 'ENSG00000177596.1', 'ENSG00000253965.1', 'ENSG00000236582.1', 'ENSG00000211871.1', 'ENSG00000225284.1', 'ENSG00000227087.4', 'ENSG00000271360.1', 'ENSG00000207802.1', 'ENSG00000196172.9', 'ENSG00000264014.1', 'ENSG00000187103.3', 'ENSG00000236205.1', 'ENSG00000197866.3', 'ENSG00000025156.12', 'ENSG00000220030.1', 'ENSG00000259637.1', 'ENSG00000224144.1', 'ENSG00000215381.3', 'ENSG00000240452.1', 'ENSG00000232163.2', 'ENSG00000271146.1', 'ENSG00000201241.1', 'ENSG00000238419.1', 'ENSG00000284196.2', 'ENSG00000227242.4', 'ENSG00000285881.1', 'ENSG00000144283.21', 'ENSG00000279443.1', 'ENSG00000227204.1', 'ENSG00000217653.1', 'ENSG00000262769.1', 'ENSG00000207779.1', 'ENSG00000241391.3', 'ENSG00000178115.11', 'ENSG00000165512.4', 'ENSG00000244125.1', 'ENSG00000230937.11', 'ENSG00000264554.2', 'ENSG00000236883.1', 'ENSG00000238165.1', 'ENSG00000276839.1', 'ENSG00000223238.1', 'ENSG00000229234.1', 'ENSG00000261633.1', 'ENSG00000199851.2', 'ENSG00000167635.11', 'ENSG00000216518.1', 'ENSG00000230931.2', 'ENSG00000234772.1', 'ENSG00000184115.17', 'ENSG00000169062.14', 'ENSG00000238277.1', 'ENSG00000239197.1', 'ENSG00000170421.12', 'ENSG00000215236.3', 'ENSG00000241073.1', 'ENSG00000284636.1', 'ENSG00000253552.7', 'ENSG00000267424.1', 'ENSG00000213483.4', 'ENSG00000197062.11', 'ENSG00000269836.1', 'ENSG00000271367.1', 'ENSG00000251223.1', 'ENSG00000224478.2', 'ENSG00000252023.1', 'ENSG00000264266.1', 'ENSG00000200986.1', 'ENSG00000273293.1', 'ENSG00000226881.5', 'ENSG00000144791.9', 'ENSG00000251009.2', 'ENSG00000282321.1', 'ENSG00000207410.1', 'ENSG00000215131.10', 'ENSG00000250137.1', 'ENSG00000223558.1', 'ENSG00000220925.2', 'ENSG00000283755.1', 'ENSG00000278933.1', 'ENSG00000055732.12', 'ENSG00000279834.1', 'ENSG00000231056.1', 'ENSG00000116032.5', 'ENSG00000244139.3', 'ENSG00000251407.1', 'ENSG00000223064.1', 'ENSG00000273396.1', 'ENSG00000275572.1', 'ENSG00000229621.1', 'ENSG00000222795.1', 'ENSG00000163040.14', 'ENSG00000252292.1', 'ENSG00000279388.1', 'ENSG00000269981.1', 'ENSG00000199509.1', 'ENSG00000128617.2', 'ENSG00000283432.1', 'ENSG00000253407.1', 'ENSG00000223419.1', 'ENSG00000270871.1', 'ENSG00000180708.5', 'ENSG00000284034.1', 'ENSG00000258622.2', 'ENSG00000270776.1', 'ENSG00000165997.4', 'ENSG00000223174.1', 'ENSG00000253233.1', 'ENSG00000121335.11', 'ENSG00000227687.1', 'ENSG00000136110.12', 'ENSG00000278469.1', 'ENSG00000279465.1', 'ENSG00000164934.13', 'ENSG00000226956.1', 'ENSG00000167600.13', 'ENSG00000200314.1', 'ENSG00000230321.1', 'ENSG00000196776.15', 'ENSG00000251747.1', 'ENSG00000202142.1', 'ENSG00000275179.1', 'ENSG00000213790.2', 'ENSG00000204822.6', 'ENSG00000234753.5', 'ENSG00000285784.1', 'ENSG00000254669.1', 'ENSG00000255825.1', 'ENSG00000237072.1', 'ENSG00000244355.7', 'ENSG00000259441.2', 'ENSG00000265850.1', 'ENSG00000207866.1', 'ENSG00000236975.1', 'ENSG00000259045.1', 'ENSG00000225765.1', 'ENSG00000116254.17', 'ENSG00000264703.1', 'ENSG00000176555.1', 'ENSG00000254670.1', 'ENSG00000201009.1', 'ENSG00000274459.1', 'ENSG00000235138.1', 'ENSG00000253162.1', 'ENSG00000206681.1', 'ENSG00000175548.8', 'ENSG00000145384.3', 'ENSG00000255004.1', 'ENSG00000253413.1', 'ENSG00000257331.1', 'ENSG00000138669.9', 'ENSG00000236653.2', 'ENSG00000271253.1', 'ENSG00000274450.1', 'ENSG00000113805.8', 'ENSG00000278138.2', 'ENSG00000114737.15', 'ENSG00000211790.2', 'ENSG00000131401.11', 'ENSG00000087095.12', 'ENSG00000186710.11', 'ENSG00000248187.1', 'ENSG00000223628.2', 'ENSG00000222727.1', 'ENSG00000255424.1', 'ENSG00000255179.1', 'ENSG00000182742.5', 'ENSG00000232841.1', 'ENSG00000236999.1', 'ENSG00000264869.1', 'ENSG00000273907.1', 'ENSG00000254781.1', 'ENSG00000230319.1', 'ENSG00000249053.1', 'ENSG00000222231.1', 'ENSG00000158773.14', 'ENSG00000270200.1', 'ENSG00000201736.1', 'ENSG00000251834.1', 'ENSG00000197046.11', 'ENSG00000230287.3', 'ENSG00000164338.9', 'ENSG00000275989.1', 'ENSG00000266893.1', 'ENSG00000207176.1', 'ENSG00000171533.11', 'ENSG00000240975.1', 'ENSG00000252367.1', 'ENSG00000261078.1', 'ENSG00000067560.10', 'ENSG00000183303.2', 'ENSG00000182256.12', 'ENSG00000263489.1', 'ENSG00000241369.5', 'ENSG00000221230.1', 'ENSG00000232409.1', 'ENSG00000014123.9', 'ENSG00000186301.8', 'ENSG00000228543.1', 'ENSG00000274170.1', 'ENSG00000231874.3', 'ENSG00000231889.7', 'ENSG00000180770.3', 'ENSG00000239939.1', 'ENSG00000229771.2', 'ENSG00000279724.1', 'ENSG00000259265.1', 'ENSG00000207298.1', 'ENSG00000201687.1', 'ENSG00000266517.1', 'ENSG00000231907.2', 'ENSG00000225942.1', 'ENSG00000150722.10', 'ENSG00000273225.4', 'ENSG00000225551.1', 'ENSG00000233277.1', 'ENSG00000205918.9', 'ENSG00000236123.1', 'ENSG00000279130.1', 'ENSG00000225970.1', 'ENSG00000224490.5', 'ENSG00000235644.1', 'ENSG00000226541.1', 'ENSG00000230796.1', 'ENSG00000231993.1', 'ENSG00000167757.13', 'ENSG00000261863.1', 'ENSG00000229169.1', 'ENSG00000251435.1', 'ENSG00000253170.1', 'ENSG00000230399.1', 'ENSG00000232979.1', 'ENSG00000213081.3', 'ENSG00000270322.1', 'ENSG00000235981.2', 'ENSG00000268941.2', 'ENSG00000231112.1', 'ENSG00000223845.1', 'ENSG00000226868.1', 'ENSG00000266570.1', 'ENSG00000273739.1', 'ENSG00000141934.9', 'ENSG00000258308.5', 'ENSG00000233441.6', 'ENSG00000268983.1', 'ENSG00000279562.1', 'ENSG00000226247.1', 'ENSG00000264997.1', 'ENSG00000250446.1', 'ENSG00000260967.1', 'ENSG00000249263.2', 'ENSG00000139211.6', 'ENSG00000255628.1', 'ENSG00000265243.1', 'ENSG00000222515.1', 'ENSG00000284731.1', 'ENSG00000267053.6', 'ENSG00000220884.2', 'ENSG00000196911.10', 'ENSG00000227104.3', 'ENSG00000260075.1', 'ENSG00000132185.16', 'ENSG00000281365.1', 'ENSG00000219061.4', 'ENSG00000257588.1', 'ENSG00000226181.1', 'ENSG00000279601.1', 'ENSG00000249410.1', 'ENSG00000225093.1', 'ENSG00000251177.2', 'ENSG00000220113.2', 'ENSG00000243649.8', 'ENSG00000271056.1', 'ENSG00000234521.2', 'ENSG00000129007.14', 'ENSG00000251720.1', 'ENSG00000099822.2', 'ENSG00000252645.1', 'ENSG00000238444.1', 'ENSG00000261527.1', 'ENSG00000212100.2', 'ENSG00000136153.19', 'ENSG00000169375.15', 'ENSG00000236940.1', 'ENSG00000169083.16', 'ENSG00000232679.1', 'ENSG00000178503.6', 'ENSG00000232811.1', 'ENSG00000233135.1', 'ENSG00000201031.1', 'ENSG00000237027.1', 'ENSG00000230945.1', 'ENSG00000279682.1', 'ENSG00000275491.1', 'ENSG00000222838.1', 'ENSG00000237555.1', 'ENSG00000263537.2', 'ENSG00000224410.1', 'ENSG00000201464.1', 'ENSG00000217686.2', 'ENSG00000180089.5', 'ENSG00000263029.1', 'ENSG00000239247.3', 'ENSG00000183269.5', 'ENSG00000257660.5', 'ENSG00000189369.8', 'ENSG00000236206.1', 'ENSG00000231426.6', 'ENSG00000201909.1', 'ENSG00000272855.1', 'ENSG00000266201.1', 'ENSG00000138207.13', 'ENSG00000252246.1', 'ENSG00000251978.1', 'ENSG00000279939.1', 'ENSG00000242775.1', 'ENSG00000276841.1', 'ENSG00000200732.1', 'ENSG00000271108.1', 'ENSG00000261708.1', 'ENSG00000218732.1', 'ENSG00000239614.1', 'ENSG00000254757.1', 'ENSG00000253441.1', 'ENSG00000255141.1', 'ENSG00000239480.1', 'ENSG00000236290.1', 'ENSG00000213487.3', 'ENSG00000276393.1', 'ENSG00000228307.2', 'ENSG00000211532.1', 'ENSG00000283205.1', 'ENSG00000255272.1', 'ENSG00000236570.1', 'ENSG00000255161.1', 'ENSG00000213211.2', 'ENSG00000219881.1', 'ENSG00000149656.8', 'ENSG00000230251.1', 'ENSG00000233583.1', 'ENSG00000273567.1', 'ENSG00000283558.1', 'ENSG00000270531.1', 'ENSG00000223592.2', 'ENSG00000242598.1', 'ENSG00000077380.15', 'ENSG00000229939.1', 'ENSG00000207547.1', 'ENSG00000100351.16', 'ENSG00000271456.1', 'ENSG00000228212.1', 'ENSG00000233052.1', 'ENSG00000283462.1', 'ENSG00000263730.1', 'ENSG00000285560.1', 'ENSG00000232593.7', 'ENSG00000252692.1', 'ENSG00000055130.15', 'ENSG00000280191.3', 'ENSG00000260041.5', 'ENSG00000224277.5', 'ENSG00000111846.17', 'ENSG00000157856.11', 'ENSG00000235190.1', 'ENSG00000274422.1', 'ENSG00000237557.1', 'ENSG00000237567.1', 'ENSG00000268101.2', 'ENSG00000139350.11', 'ENSG00000244349.1', 'ENSG00000181997.8', 'ENSG00000278459.1', 'ENSG00000224669.1', 'ENSG00000230273.1', 'ENSG00000181404.16', 'ENSG00000181867.2', 'ENSG00000261704.2', 'ENSG00000258515.1', 'ENSG00000223612.3', 'ENSG00000182901.16', 'ENSG00000271245.1', 'ENSG00000204657.4', 'ENSG00000221962.5', 'ENSG00000272592.1', 'ENSG00000232576.2', 'ENSG00000225680.1', 'ENSG00000112902.11', 'ENSG00000224387.1', 'ENSG00000234844.1', 'ENSG00000135338.13', 'ENSG00000231969.1', 'ENSG00000226166.2', 'ENSG00000272015.1', 'ENSG00000278580.1', 'ENSG00000278237.1', 'ENSG00000178130.9', 'ENSG00000253945.1', 'ENSG00000275515.1', 'ENSG00000227062.2', 'ENSG00000207773.1', 'ENSG00000254397.1', 'ENSG00000283160.1', 'ENSG00000256917.1', 'ENSG00000241943.2', 'ENSG00000258666.1', 'ENSG00000256474.1', 'ENSG00000234975.6', 'ENSG00000257327.1', 'ENSG00000131459.12', 'ENSG00000226364.1', 'ENSG00000229599.1', 'ENSG00000248929.1', 'ENSG00000258676.4', 'ENSG00000261044.1', 'ENSG00000164062.12', 'ENSG00000252767.1', 'ENSG00000201084.1', 'ENSG00000223309.1', 'ENSG00000234355.3', 'ENSG00000252027.1', 'ENSG00000233971.1', 'ENSG00000232959.1', 'ENSG00000229082.2', 'ENSG00000235272.2', 'ENSG00000163755.8', 'ENSG00000260898.5', 'ENSG00000110497.14', 'ENSG00000242244.1', 'ENSG00000241003.1', 'ENSG00000254852.8', 'ENSG00000258763.5', 'ENSG00000240241.5', 'ENSG00000129028.8', 'ENSG00000283690.1', 'ENSG00000263142.5', 'ENSG00000207691.1', 'ENSG00000211866.1', 'ENSG00000188643.10', 'ENSG00000237409.2', 'ENSG00000266515.1', 'ENSG00000268148.1', 'ENSG00000264313.2', 'ENSG00000236045.1', 'ENSG00000204677.10', 'ENSG00000275691.2', 'ENSG00000265689.1', 'ENSG00000232068.1', 'ENSG00000238882.1', 'ENSG00000140955.10', 'ENSG00000177340.5', 'ENSG00000229749.1', 'ENSG00000173157.16', 'ENSG00000267696.6', 'ENSG00000253693.1', 'ENSG00000179938.12', 'ENSG00000254753.1', 'ENSG00000134198.9', 'ENSG00000279340.1', 'ENSG00000249199.1', 'ENSG00000258077.2', 'ENSG00000278404.1', 'ENSG00000236167.1', 'ENSG00000187601.4', 'ENSG00000282840.1', 'ENSG00000165556.9', 'ENSG00000257925.1', 'ENSG00000278552.1', 'ENSG00000198353.7', 'ENSG00000186977.2', 'ENSG00000263608.2', 'ENSG00000238041.3', 'ENSG00000171055.14', 'ENSG00000212154.1', 'ENSG00000284059.1', 'ENSG00000113248.5', 'ENSG00000274999.1', 'ENSG00000250972.1', 'ENSG00000249761.1', 'ENSG00000263746.1', 'ENSG00000201749.1', 'ENSG00000278428.1', 'ENSG00000241168.1', 'ENSG00000254819.1', 'ENSG00000198452.7', 'ENSG00000250808.1', 'ENSG00000261831.2', 'ENSG00000276391.1', 'ENSG00000251354.3', 'ENSG00000222629.1', 'ENSG00000211838.1', 'ENSG00000197233.7', 'ENSG00000244952.2', 'ENSG00000169247.12', 'ENSG00000233705.6', 'ENSG00000237101.1', 'ENSG00000273828.1', 'ENSG00000110244.6', 'ENSG00000278847.1', 'ENSG00000270813.2', 'ENSG00000211599.2', 'ENSG00000235086.1', 'ENSG00000257467.5', 'ENSG00000198650.10', 'ENSG00000250556.1', 'ENSG00000243870.3', 'ENSG00000280073.1', 'ENSG00000232085.1', 'ENSG00000233695.2', 'ENSG00000231763.1', 'ENSG00000213470.4', 'ENSG00000197180.2', 'ENSG00000222107.1', 'ENSG00000226485.1', 'ENSG00000266765.1', 'ENSG00000248682.1', 'ENSG00000207926.1', 'ENSG00000234607.2', 'ENSG00000250567.1', 'ENSG00000277794.1', 'ENSG00000254285.3', 'ENSG00000248968.1', 'ENSG00000234601.1', 'ENSG00000259742.1', 'ENSG00000276408.1', 'ENSG00000250984.1', 'ENSG00000222713.1', 'ENSG00000258681.1', 'ENSG00000180730.4', 'ENSG00000152749.7', 'ENSG00000269365.2', 'ENSG00000176922.4', 'ENSG00000283608.1', 'ENSG00000249748.1', 'ENSG00000261080.1', 'ENSG00000274879.1', 'ENSG00000269181.1', 'ENSG00000177993.3', 'ENSG00000232492.1', 'ENSG00000237398.1', 'ENSG00000248826.2', 'ENSG00000250655.1', 'ENSG00000137959.15', 'ENSG00000101447.14', 'ENSG00000186051.6', 'ENSG00000271606.1', 'ENSG00000253943.1', 'ENSG00000222345.1', 'ENSG00000198108.3', 'ENSG00000239825.3', 'ENSG00000265690.7', 'ENSG00000230044.1', 'ENSG00000228577.1', 'ENSG00000228216.1', 'ENSG00000280139.1', 'ENSG00000242552.1', 'ENSG00000256400.1', 'ENSG00000273319.1', 'ENSG00000213480.3', 'ENSG00000258392.1', 'ENSG00000233275.1', 'ENSG00000257360.1', 'ENSG00000236264.5', 'ENSG00000200283.1', 'ENSG00000253645.1', 'ENSG00000201340.1', 'ENSG00000265646.2', 'ENSG00000168477.19', 'ENSG00000271330.1', 'ENSG00000235819.1', 'ENSG00000144550.12', 'ENSG00000172459.4', 'ENSG00000248659.1', 'ENSG00000197575.6', 'ENSG00000244624.3', 'ENSG00000269096.6', 'ENSG00000075945.12', 'ENSG00000224560.3', 'ENSG00000214020.3', 'ENSG00000251580.2', 'ENSG00000223534.1', 'ENSG00000262668.1', 'ENSG00000254317.1', 'ENSG00000183090.5', 'ENSG00000179941.7', 'ENSG00000285030.1', 'ENSG00000257124.2', 'ENSG00000124097.7', 'ENSG00000228734.2', 'ENSG00000234390.4', 'ENSG00000247081.7', 'ENSG00000079156.16', 'ENSG00000248473.1', 'ENSG00000222232.1', 'ENSG00000215094.3', 'ENSG00000240487.1', 'ENSG00000223604.1', 'ENSG00000230403.1', 'ENSG00000272647.3', 'ENSG00000235308.1', 'ENSG00000270091.1', 'ENSG00000234932.2', 'ENSG00000275401.1', 'ENSG00000250781.1', 'ENSG00000283170.1', 'ENSG00000232750.2', 'ENSG00000177369.8', 'ENSG00000269793.6', 'ENSG00000224114.1', 'ENSG00000283327.1', 'ENSG00000231675.1', 'ENSG00000144648.15', 'ENSG00000142945.12', 'ENSG00000253546.1', 'ENSG00000243770.3', 'ENSG00000278857.1', 'ENSG00000221634.1', 'ENSG00000268636.1', 'ENSG00000211845.1', 'ENSG00000237073.1', 'ENSG00000201881.1', 'ENSG00000234476.1', 'ENSG00000214062.5', 'ENSG00000279227.1', 'ENSG00000256963.1', 'ENSG00000202532.1', 'ENSG00000275810.1', 'ENSG00000265145.1', 'ENSG00000166432.14', 'ENSG00000200231.1', 'ENSG00000237931.1', 'ENSG00000252739.1', 'ENSG00000239129.1', 'ENSG00000268088.1', 'ENSG00000200869.1', 'ENSG00000252757.1', 'ENSG00000251707.2', 'ENSG00000146966.12', 'ENSG00000233256.1', 'ENSG00000231913.1', 'ENSG00000270598.1', 'ENSG00000046647.13', 'ENSG00000236450.1', 'ENSG00000265115.1', 'ENSG00000225457.1', 'ENSG00000256576.2', 'ENSG00000207157.1', 'ENSG00000238406.1', 'ENSG00000253813.1', 'ENSG00000236053.1', 'ENSG00000267564.1', 'ENSG00000212385.1', 'ENSG00000257548.1', 'ENSG00000221563.1', 'ENSG00000269855.2', 'ENSG00000242650.3', 'ENSG00000238172.2', 'ENSG00000278381.1', 'ENSG00000237713.1', 'ENSG00000151806.13', 'ENSG00000230680.2', 'ENSG00000115946.7', 'ENSG00000151338.18', 'ENSG00000125775.14', 'ENSG00000177465.4', 'ENSG00000228525.1', 'ENSG00000173401.9', 'ENSG00000265888.1', 'ENSG00000278923.2', 'ENSG00000259112.2', 'ENSG00000118849.9', 'ENSG00000232560.6', 'ENSG00000162981.13', 'ENSG00000216347.1', 'ENSG00000226014.1', 'ENSG00000285892.1', 'ENSG00000249269.1', 'ENSG00000252385.1', 'ENSG00000265240.1', 'ENSG00000227545.1', 'ENSG00000250624.1', 'ENSG00000274269.1', 'ENSG00000265775.1', 'ENSG00000235235.6', 'ENSG00000270361.1', 'ENSG00000251893.2', 'ENSG00000278978.1', 'ENSG00000234575.2', 'ENSG00000236813.1', 'ENSG00000248921.1', 'ENSG00000120798.16', 'ENSG00000266518.1', 'ENSG00000201910.1', 'ENSG00000263483.1', 'ENSG00000227847.1', 'ENSG00000158714.10', 'ENSG00000199840.1', 'ENSG00000213041.4', 'ENSG00000258510.2', 'ENSG00000270934.1', 'ENSG00000241622.1', 'ENSG00000206687.1', 'ENSG00000277561.5', 'ENSG00000200815.1', 'ENSG00000243396.1', 'ENSG00000202026.1', 'ENSG00000235688.2', 'ENSG00000227412.1', 'ENSG00000229068.1', 'ENSG00000235077.1', 'ENSG00000221288.1', 'ENSG00000104388.14', 'ENSG00000230205.1', 'ENSG00000259482.1', 'ENSG00000237732.9', 'ENSG00000240902.1', 'ENSG00000231237.1', 'ENSG00000254833.1', 'ENSG00000258729.2', 'ENSG00000261437.1', 'ENSG00000168303.7', 'ENSG00000166035.10', 'ENSG00000241307.1', 'ENSG00000258482.1', 'ENSG00000275785.1', 'ENSG00000260921.1', 'ENSG00000238912.1', 'ENSG00000199960.1', 'ENSG00000224775.2', 'ENSG00000165821.11', 'ENSG00000251250.2', 'ENSG00000280068.1', 'ENSG00000253015.1', 'ENSG00000219700.1', 'ENSG00000285590.1', 'ENSG00000232746.1', 'ENSG00000234286.1', 'ENSG00000211644.3', 'ENSG00000147138.2', 'ENSG00000240577.3', 'ENSG00000276436.1', 'ENSG00000250917.1', 'ENSG00000233571.1', 'ENSG00000138316.10', 'ENSG00000283571.1', 'ENSG00000218305.4', 'ENSG00000226207.1', 'ENSG00000260845.1', 'ENSG00000225930.4', 'ENSG00000265588.1', 'ENSG00000240174.1', 'ENSG00000279897.2', 'ENSG00000223247.1', 'ENSG00000123201.14', 'ENSG00000274772.1', 'ENSG00000233783.7', 'ENSG00000201301.1', 'ENSG00000261670.1', 'ENSG00000236102.2', 'ENSG00000228595.1', 'ENSG00000269752.1', 'ENSG00000280267.4', 'ENSG00000263976.1', 'ENSG00000279551.1', 'ENSG00000214561.3', 'ENSG00000253224.1', 'ENSG00000254880.1', 'ENSG00000253386.1', 'ENSG00000269652.1', 'ENSG00000248457.1', 'ENSG00000264823.3', 'ENSG00000267328.1', 'ENSG00000211797.2', 'ENSG00000263327.6', 'ENSG00000264895.1', 'ENSG00000213543.2', 'ENSG00000225790.1', 'ENSG00000271134.1', 'ENSG00000206833.1', 'ENSG00000143815.14', 'ENSG00000184227.7', 'ENSG00000252858.1', 'ENSG00000279807.1', 'ENSG00000279097.1', 'ENSG00000254333.1', 'ENSG00000276692.1', 'ENSG00000223802.7', 'ENSG00000260003.1', 'ENSG00000173372.16', 'ENSG00000136379.11', 'ENSG00000223349.1', 'ENSG00000269787.2', 'ENSG00000254740.2', 'ENSG00000216412.4', 'ENSG00000256199.1', 'ENSG00000234068.6', 'ENSG00000155657.26', 'ENSG00000239288.1', 'ENSG00000237806.1', 'ENSG00000221611.1', 'ENSG00000271621.1', 'ENSG00000224933.2', 'ENSG00000200105.1', 'ENSG00000222520.1', 'ENSG00000253512.1', 'ENSG00000238933.1', 'ENSG00000283877.1', 'ENSG00000227879.2', 'ENSG00000279677.1', 'ENSG00000243181.2', 'ENSG00000207341.1', 'ENSG00000258498.8', 'ENSG00000164440.14', 'ENSG00000278589.1', 'ENSG00000278039.1', 'ENSG00000235522.6', 'ENSG00000230948.1', 'ENSG00000120820.12', 'ENSG00000230687.1', 'ENSG00000276473.1', 'ENSG00000173452.13', 'ENSG00000279209.1', 'ENSG00000283607.2', 'ENSG00000264150.1', 'ENSG00000201027.1', 'ENSG00000252364.1', 'ENSG00000254724.1', 'ENSG00000276148.1', 'ENSG00000228098.1', 'ENSG00000284736.1', 'ENSG00000155100.10', 'ENSG00000264644.1', 'ENSG00000201604.1', 'ENSG00000214283.4', 'ENSG00000199241.1', 'ENSG00000232558.1', 'ENSG00000205916.11', 'ENSG00000199634.1', 'ENSG00000180437.5', 'ENSG00000201761.1', 'ENSG00000234439.1', 'ENSG00000235772.1', 'ENSG00000243468.5', 'ENSG00000184906.11', 'ENSG00000265121.1', 'ENSG00000135945.9', 'ENSG00000200849.1', 'ENSG00000273485.1', 'ENSG00000129845.5', 'ENSG00000132681.16', 'ENSG00000252726.1', 'ENSG00000235435.1', 'ENSG00000235480.1', 'ENSG00000241640.2', 'ENSG00000231951.1', 'ENSG00000273113.1', 'ENSG00000274347.1', 'ENSG00000176540.3', 'ENSG00000270352.1', 'ENSG00000263963.1', 'ENSG00000234678.2', 'ENSG00000020219.9', 'ENSG00000204880.7', 'ENSG00000252999.1', 'ENSG00000225112.1', 'ENSG00000262067.1', 'ENSG00000280312.1', 'ENSG00000250509.1', 'ENSG00000042980.12', 'ENSG00000267563.1', 'ENSG00000251705.1', 'ENSG00000233724.1', 'ENSG00000282358.1', 'ENSG00000271257.1', 'ENSG00000204449.3', 'ENSG00000153157.12', 'ENSG00000232606.1', 'ENSG00000276584.1', 'ENSG00000251983.1', 'ENSG00000274059.1', 'ENSG00000258240.5', 'ENSG00000270969.1', 'ENSG00000254688.1', 'ENSG00000239808.3', 'ENSG00000271418.1', 'ENSG00000269085.1', 'ENSG00000236897.1', 'ENSG00000078177.13', 'ENSG00000188227.12', 'ENSG00000280064.1', 'ENSG00000226765.1', 'ENSG00000216519.2', 'ENSG00000273720.1', 'ENSG00000228301.1', 'ENSG00000206682.1', 'ENSG00000164683.16', 'ENSG00000239041.1', 'ENSG00000272954.1', 'ENSG00000283940.1', 'ENSG00000186047.9', 'ENSG00000241246.3', 'ENSG00000278549.1', 'ENSG00000074416.14', 'ENSG00000196243.5', 'ENSG00000182591.5', 'ENSG00000270718.1', 'ENSG00000154814.13', 'ENSG00000160352.15', 'ENSG00000279719.1', 'ENSG00000279987.1', 'ENSG00000212153.1', 'ENSG00000235434.1', 'ENSG00000202260.1', 'ENSG00000227350.1', 'ENSG00000234385.1', 'ENSG00000279503.1', 'ENSG00000256407.2', 'ENSG00000172742.5', 'ENSG00000280449.1', 'ENSG00000254593.1', 'ENSG00000243758.1', 'ENSG00000230636.1', 'ENSG00000137225.12', 'ENSG00000242991.2', 'ENSG00000212475.1', 'ENSG00000115295.19', 'ENSG00000119411.10', 'ENSG00000250102.5', 'ENSG00000255191.1', 'ENSG00000236699.8', 'ENSG00000211764.1', 'ENSG00000230021.10', 'ENSG00000256632.3', 'ENSG00000183114.7', 'ENSG00000277109.1', 'ENSG00000259995.1', 'ENSG00000225809.1', 'ENSG00000233105.1', 'ENSG00000229882.1', 'ENSG00000257636.6', 'ENSG00000270207.1', 'ENSG00000184434.7', 'ENSG00000237873.1', 'ENSG00000249266.1', 'ENSG00000212384.1', 'ENSG00000225797.2', 'ENSG00000249787.1', 'ENSG00000243339.3', 'ENSG00000254342.1', 'ENSG00000236929.2', 'ENSG00000254036.1', 'ENSG00000266117.1', 'ENSG00000251503.8', 'ENSG00000283285.1', 'ENSG00000249614.1', 'ENSG00000200310.1', 'ENSG00000277003.1', 'ENSG00000252383.1', 'ENSG00000216069.1', 'ENSG00000282849.1', 'ENSG00000204787.8', 'ENSG00000211455.7', 'ENSG00000282939.1', 'ENSG00000261393.1', 'ENSG00000258998.1', 'ENSG00000257725.1', 'ENSG00000270632.1', 'ENSG00000265331.1', 'ENSG00000202331.1', 'ENSG00000199520.1', 'ENSG00000126709.14', 'ENSG00000207963.1', 'ENSG00000223944.1', 'ENSG00000253391.1', 'ENSG00000253112.1', 'ENSG00000201264.1', 'ENSG00000264243.1', 'ENSG00000202211.1', 'ENSG00000224557.7', 'ENSG00000117834.12', 'ENSG00000237437.1', 'ENSG00000076864.19', 'ENSG00000240023.1', 'ENSG00000269615.1', 'ENSG00000250667.1', 'ENSG00000258274.1', 'ENSG00000265894.2', 'ENSG00000176435.6', 'ENSG00000244372.3', 'ENSG00000234190.1', 'ENSG00000217495.2', 'ENSG00000255839.1', 'ENSG00000224220.1', 'ENSG00000235110.5', 'ENSG00000199291.1', 'ENSG00000263742.1', 'ENSG00000253750.1', 'ENSG00000275651.1', 'ENSG00000039123.15', 'ENSG00000258737.2', 'ENSG00000237257.1', 'ENSG00000266012.1', 'ENSG00000272157.1', 'ENSG00000285910.1', 'ENSG00000222111.1', 'ENSG00000243173.3', 'ENSG00000255070.1', 'ENSG00000230018.1', 'ENSG00000270986.1', 'ENSG00000276855.1', 'ENSG00000254189.1', 'ENSG00000264268.1', 'ENSG00000189334.8', 'ENSG00000238063.2', 'ENSG00000226694.2', 'ENSG00000187481.2', 'ENSG00000234089.1', 'ENSG00000265814.2', 'ENSG00000277022.1', 'ENSG00000124935.3', 'ENSG00000143816.7', 'ENSG00000231171.3', 'ENSG00000250971.1', 'ENSG00000232688.1', 'ENSG00000213082.3', 'ENSG00000261580.1', 'ENSG00000213107.2', 'ENSG00000269148.1', 'ENSG00000243723.3', 'ENSG00000261764.1', 'ENSG00000257046.5', 'ENSG00000165568.17', 'ENSG00000243104.1', 'ENSG00000238120.1', 'ENSG00000226229.2', 'ENSG00000212413.1', 'ENSG00000211873.1', 'ENSG00000232604.1', 'ENSG00000228488.1', 'ENSG00000261462.1', 'ENSG00000270759.1', 'ENSG00000254804.1', 'ENSG00000170615.14', 'ENSG00000267156.1', 'ENSG00000251294.1', 'ENSG00000250982.2', 'ENSG00000219302.2', 'ENSG00000251595.7', 'ENSG00000257434.1', 'ENSG00000253814.1', 'ENSG00000259459.5', 'ENSG00000235746.1', 'ENSG00000235436.10', 'ENSG00000226504.1', 'ENSG00000233335.1', 'ENSG00000232208.2', 'ENSG00000227101.1', 'ENSG00000225774.2', 'ENSG00000163217.1', 'ENSG00000233917.8', 'ENSG00000204001.9', 'ENSG00000242863.3', 'ENSG00000284491.2', 'ENSG00000234044.1', 'ENSG00000206803.1', 'ENSG00000238086.5', 'ENSG00000284221.1', 'ENSG00000270326.1', 'ENSG00000223967.1', 'ENSG00000267299.1', 'ENSG00000271682.1', 'ENSG00000256353.1', 'ENSG00000263399.1', 'ENSG00000146352.12', 'ENSG00000258591.2', 'ENSG00000273445.1', 'ENSG00000275743.1', 'ENSG00000199571.1', 'ENSG00000002549.12', 'ENSG00000232860.7', 'ENSG00000260934.1', 'ENSG00000107833.10', 'ENSG00000249746.1', 'ENSG00000271118.1', 'ENSG00000120699.12', 'ENSG00000207638.1', 'ENSG00000262662.1', 'ENSG00000111432.4', 'ENSG00000206924.1', 'ENSG00000212156.1', 'ENSG00000252534.1', 'ENSG00000179630.10', 'ENSG00000250360.1', 'ENSG00000283416.1', 'ENSG00000250742.2', 'ENSG00000223772.1', 'ENSG00000233068.3', 'ENSG00000201182.1', 'ENSG00000123353.9', 'ENSG00000266508.1', 'ENSG00000235927.4', 'ENSG00000284727.1', 'ENSG00000249837.1', 'ENSG00000279980.1', 'ENSG00000227331.1', 'ENSG00000225267.1', 'ENSG00000279021.1', 'ENSG00000278109.1', 'ENSG00000102128.8', 'ENSG00000212383.1', 'ENSG00000207205.1', 'ENSG00000227766.1', 'ENSG00000232735.2', 'ENSG00000233838.5', 'ENSG00000234125.5', 'ENSG00000276507.1', 'ENSG00000139044.11', 'ENSG00000118785.13', 'ENSG00000283392.1', 'ENSG00000238246.1', 'ENSG00000229544.8', 'ENSG00000237247.6', 'ENSG00000213935.3', 'ENSG00000214280.3', 'ENSG00000251106.1', 'ENSG00000254663.1', 'ENSG00000153291.15', 'ENSG00000217631.1', 'ENSG00000266990.1', 'ENSG00000253916.1', 'ENSG00000260877.2', 'ENSG00000257239.1', 'ENSG00000202263.1', 'ENSG00000251843.1', 'ENSG00000121089.4', 'ENSG00000270248.1', 'ENSG00000230559.1', 'ENSG00000226925.1', 'ENSG00000176716.5', 'ENSG00000144445.16', 'ENSG00000236651.1', 'ENSG00000142039.3', 'ENSG00000267150.1', 'ENSG00000254211.5', 'ENSG00000236267.1', 'ENSG00000227814.3', 'ENSG00000226493.1', 'ENSG00000223698.3', 'ENSG00000189007.15', 'ENSG00000229434.1', 'ENSG00000267174.5', 'ENSG00000250955.1', 'ENSG00000165733.7', 'ENSG00000201644.2', 'ENSG00000230306.1', 'ENSG00000277435.1', 'ENSG00000267227.1', 'ENSG00000274252.1', 'ENSG00000202499.1', 'ENSG00000231411.1', 'ENSG00000241950.1', 'ENSG00000231082.1', 'ENSG00000239344.1', 'ENSG00000213926.3', 'ENSG00000185221.6', 'ENSG00000233502.1', 'ENSG00000264986.1', 'ENSG00000267603.1', 'ENSG00000250983.1', 'ENSG00000231537.1', 'ENSG00000200261.1', 'ENSG00000261113.1', 'ENSG00000267373.1', 'ENSG00000173404.4', 'ENSG00000231332.2', 'ENSG00000280836.1', 'ENSG00000232539.1', 'ENSG00000184388.5', 'ENSG00000198231.12', 'ENSG00000131473.16', 'ENSG00000284720.1', 'ENSG00000174417.2', 'ENSG00000249021.1', 'ENSG00000223486.1', 'ENSG00000232050.1', 'ENSG00000261752.1', 'ENSG00000160179.18', 'ENSG00000206641.1', 'ENSG00000183150.7', 'ENSG00000199791.1', 'ENSG00000085552.16', 'ENSG00000270822.1', 'ENSG00000250155.1', 'ENSG00000271357.1', 'ENSG00000244732.3', 'ENSG00000231164.1', 'ENSG00000283542.1', 'ENSG00000228997.1', 'ENSG00000267341.1', 'ENSG00000261024.7', 'ENSG00000137628.16', 'ENSG00000101842.13', 'ENSG00000244756.1'}\n"
     ]
    }
   ],
   "execution_count": 14
  },
  {
   "metadata": {
    "ExecuteTime": {
     "end_time": "2025-04-27T16:52:45.208880Z",
     "start_time": "2025-04-27T16:52:45.201828Z"
    }
   },
   "cell_type": "code",
   "source": [
    "method_collection = {\n",
    "    'ANOVA': {\n",
    "        'indices': top_indices_anovaf,\n",
    "        'score': anova_scores,\n",
    "        'genes': anova_selected_genes\n",
    "    },\n",
    "    'Chi-Squared': {\n",
    "        'indices': top_indices_chi2,\n",
    "        'score': chi2_scores,\n",
    "        'genes': chi2_selected_genes\n",
    "    },\n",
    "    'Mutual Information': {\n",
    "        'indices': top_indices_mutual_info,\n",
    "        'score': mutual_info_scores,\n",
    "        'genes': mutual_info_selected_genes\n",
    "    },\n",
    "    'Fisher\\'s Score': {\n",
    "        'indices': top_indices_fisher,\n",
    "        'score': fisher_score,\n",
    "        'genes': fisher_selected_genes\n",
    "    }\n",
    "}"
   ],
   "id": "1a6fc17a9d123a4c",
   "outputs": [],
   "execution_count": 15
  },
  {
   "metadata": {},
   "cell_type": "markdown",
   "source": "### Alignment Verification",
   "id": "5077347b46168158"
  },
  {
   "metadata": {
    "ExecuteTime": {
     "end_time": "2025-04-27T16:53:10.654915Z",
     "start_time": "2025-04-27T16:53:10.648870Z"
    }
   },
   "cell_type": "code",
   "source": [
    "for method in method_collection:\n",
    "    assert len(method_collection[method]['score']) == len(method_collection[method]['genes'])\n",
    "    print(f\"✅ {method}: Lengths match ({len(method_collection[method]['genes'])})\")"
   ],
   "id": "2c3a3c7fc5c836f",
   "outputs": [
    {
     "name": "stdout",
     "output_type": "stream",
     "text": [
      "✅ ANOVA: Lengths match (20000)\n",
      "✅ Chi-Squared: Lengths match (20000)\n",
      "✅ Mutual Information: Lengths match (20000)\n",
      "✅ Fisher's Score: Lengths match (20000)\n"
     ]
    }
   ],
   "execution_count": 16
  },
  {
   "metadata": {},
   "cell_type": "markdown",
   "source": "### Assign Ranks for Each Method",
   "id": "91d1ca8d9da7be0d"
  },
  {
   "metadata": {
    "ExecuteTime": {
     "end_time": "2025-04-27T16:53:13.765024Z",
     "start_time": "2025-04-27T16:53:13.641210Z"
    }
   },
   "cell_type": "code",
   "source": [
    "import numpy as np\n",
    "\n",
    "for method in method_collection:\n",
    "    # Sort genes by score (descending) and assign ranks\n",
    "    sorted_indices = np.argsort(-np.array(method_collection[method]['score']))\n",
    "    method_collection[method]['rank'] = np.arange(1, len(sorted_indices) + 1)\n",
    "    method_collection[method]['genes'] = [method_collection[method]['genes'][i] for i in sorted_indices]"
   ],
   "id": "8769a8615df0d12f",
   "outputs": [],
   "execution_count": 17
  },
  {
   "metadata": {},
   "cell_type": "markdown",
   "source": [
    "### Compute Borda Scores\n",
    "___\n",
    "The Borda count is a *rank aggregation* method that assigns a rank to each feature for each method used. A rank value of 1 indetifies the best rank. The ranks are summed across all methods. The lowest total score is considered a top pick for the consensus set. So the Borda score is the sum of a gene's rank in a method. The rank itself is assisgned according to the score from each method. So if the score provided by e.g. ANOVA is a high one, the rank the Borda method will assign will be low. For instance, the highest 'method' score will be equivalent to the rank 1 according to Borda."
   ],
   "id": "7e436cf94edf686"
  },
  {
   "metadata": {
    "ExecuteTime": {
     "end_time": "2025-04-27T16:55:47.737635Z",
     "start_time": "2025-04-27T16:53:17.572498Z"
    }
   },
   "cell_type": "code",
   "source": [
    "from collections import defaultdict\n",
    "\n",
    "# Get all unique genes across methods\n",
    "gene_lists = [method_collection[method]['genes'] for method in method_collection]\n",
    "all_genes = list(set().union(*gene_lists))\n",
    "\n",
    "# Initialize Borda scores (default: high penalty for missing genes)\n",
    "max_rank = max(len(method['genes']) for method in method_collection.values()) + 1\n",
    "borda_scores = defaultdict(int)\n",
    "\n",
    "for gene in all_genes:\n",
    "    for method in method_collection:\n",
    "        if gene in method_collection[method]['genes']:\n",
    "            borda_scores[gene] += method_collection[method]['genes'].index(gene) + 1  # Rank = position + 1\n",
    "        else:\n",
    "            borda_scores[gene] += max_rank  # Penalize missing genes"
   ],
   "id": "37ac65393d95b905",
   "outputs": [],
   "execution_count": 18
  },
  {
   "metadata": {},
   "cell_type": "markdown",
   "source": "### Sort Genes by Borda Score",
   "id": "b24fe5ae0c6ca15e"
  },
  {
   "metadata": {
    "ExecuteTime": {
     "end_time": "2025-04-27T16:56:22.350202Z",
     "start_time": "2025-04-27T16:56:22.317503Z"
    }
   },
   "cell_type": "code",
   "source": "ranked_genes = sorted(all_genes, key=lambda x: borda_scores[x])\n",
   "id": "e322905aa7419fef",
   "outputs": [],
   "execution_count": 19
  },
  {
   "metadata": {},
   "cell_type": "markdown",
   "source": "### Display Top Consensus Genes",
   "id": "3655fa2fd4891fa2"
  },
  {
   "metadata": {
    "ExecuteTime": {
     "end_time": "2025-04-27T16:56:35.139450Z",
     "start_time": "2025-04-27T16:56:35.071683Z"
    }
   },
   "cell_type": "code",
   "source": [
    "import pandas as pd\n",
    "\n",
    "result_df = pd.DataFrame({\n",
    "    \"Gene\": ranked_genes,\n",
    "    \"Borda_Score\": [borda_scores[gene] for gene in ranked_genes],\n",
    "    \"Rank\": np.arange(1, len(ranked_genes) + 1)\n",
    "})\n",
    "\n",
    "print(\"Top 10 Consensus Genes:\")\n",
    "print(result_df.head(10))"
   ],
   "id": "a30a3c4b2f227625",
   "outputs": [
    {
     "name": "stdout",
     "output_type": "stream",
     "text": [
      "Top 10 Consensus Genes:\n",
      "                Gene  Borda_Score  Rank\n",
      "0  ENSG00000199319.1         2859     1\n",
      "1  ENSG00000257434.1         3008     2\n",
      "2  ENSG00000251707.2         3417     3\n",
      "3  ENSG00000129845.5         4341     4\n",
      "4  ENSG00000253391.1         4437     5\n",
      "5  ENSG00000263730.1         4467     6\n",
      "6  ENSG00000275497.1         4536     7\n",
      "7  ENSG00000235819.1         5199     8\n",
      "8  ENSG00000217686.2         5359     9\n",
      "9  ENSG00000223309.1         5941    10\n"
     ]
    }
   ],
   "execution_count": 20
  },
  {
   "metadata": {
    "ExecuteTime": {
     "end_time": "2025-04-27T16:56:41.658006Z",
     "start_time": "2025-04-27T16:56:41.634863Z"
    }
   },
   "cell_type": "code",
   "source": "result_df",
   "id": "3f65e706003d67ba",
   "outputs": [
    {
     "data": {
      "text/plain": [
       "                     Gene  Borda_Score   Rank\n",
       "0       ENSG00000199319.1         2859      1\n",
       "1       ENSG00000257434.1         3008      2\n",
       "2       ENSG00000251707.2         3417      3\n",
       "3       ENSG00000129845.5         4341      4\n",
       "4       ENSG00000253391.1         4437      5\n",
       "...                   ...          ...    ...\n",
       "42853  ENSG00000085998.13        80001  42854\n",
       "42854  ENSG00000213999.15        80001  42855\n",
       "42855   ENSG00000232869.2        80002  42856\n",
       "42856   ENSG00000257587.1        80003  42857\n",
       "42857  ENSG00000153898.12        80003  42858\n",
       "\n",
       "[42858 rows x 3 columns]"
      ],
      "text/html": [
       "<div>\n",
       "<style scoped>\n",
       "    .dataframe tbody tr th:only-of-type {\n",
       "        vertical-align: middle;\n",
       "    }\n",
       "\n",
       "    .dataframe tbody tr th {\n",
       "        vertical-align: top;\n",
       "    }\n",
       "\n",
       "    .dataframe thead th {\n",
       "        text-align: right;\n",
       "    }\n",
       "</style>\n",
       "<table border=\"1\" class=\"dataframe\">\n",
       "  <thead>\n",
       "    <tr style=\"text-align: right;\">\n",
       "      <th></th>\n",
       "      <th>Gene</th>\n",
       "      <th>Borda_Score</th>\n",
       "      <th>Rank</th>\n",
       "    </tr>\n",
       "  </thead>\n",
       "  <tbody>\n",
       "    <tr>\n",
       "      <th>0</th>\n",
       "      <td>ENSG00000199319.1</td>\n",
       "      <td>2859</td>\n",
       "      <td>1</td>\n",
       "    </tr>\n",
       "    <tr>\n",
       "      <th>1</th>\n",
       "      <td>ENSG00000257434.1</td>\n",
       "      <td>3008</td>\n",
       "      <td>2</td>\n",
       "    </tr>\n",
       "    <tr>\n",
       "      <th>2</th>\n",
       "      <td>ENSG00000251707.2</td>\n",
       "      <td>3417</td>\n",
       "      <td>3</td>\n",
       "    </tr>\n",
       "    <tr>\n",
       "      <th>3</th>\n",
       "      <td>ENSG00000129845.5</td>\n",
       "      <td>4341</td>\n",
       "      <td>4</td>\n",
       "    </tr>\n",
       "    <tr>\n",
       "      <th>4</th>\n",
       "      <td>ENSG00000253391.1</td>\n",
       "      <td>4437</td>\n",
       "      <td>5</td>\n",
       "    </tr>\n",
       "    <tr>\n",
       "      <th>...</th>\n",
       "      <td>...</td>\n",
       "      <td>...</td>\n",
       "      <td>...</td>\n",
       "    </tr>\n",
       "    <tr>\n",
       "      <th>42853</th>\n",
       "      <td>ENSG00000085998.13</td>\n",
       "      <td>80001</td>\n",
       "      <td>42854</td>\n",
       "    </tr>\n",
       "    <tr>\n",
       "      <th>42854</th>\n",
       "      <td>ENSG00000213999.15</td>\n",
       "      <td>80001</td>\n",
       "      <td>42855</td>\n",
       "    </tr>\n",
       "    <tr>\n",
       "      <th>42855</th>\n",
       "      <td>ENSG00000232869.2</td>\n",
       "      <td>80002</td>\n",
       "      <td>42856</td>\n",
       "    </tr>\n",
       "    <tr>\n",
       "      <th>42856</th>\n",
       "      <td>ENSG00000257587.1</td>\n",
       "      <td>80003</td>\n",
       "      <td>42857</td>\n",
       "    </tr>\n",
       "    <tr>\n",
       "      <th>42857</th>\n",
       "      <td>ENSG00000153898.12</td>\n",
       "      <td>80003</td>\n",
       "      <td>42858</td>\n",
       "    </tr>\n",
       "  </tbody>\n",
       "</table>\n",
       "<p>42858 rows × 3 columns</p>\n",
       "</div>"
      ]
     },
     "execution_count": 21,
     "metadata": {},
     "output_type": "execute_result"
    }
   ],
   "execution_count": 21
  },
  {
   "metadata": {},
   "cell_type": "markdown",
   "source": "### Enrichment of Consensus Genes",
   "id": "caf5e8818bf76e8"
  },
  {
   "metadata": {
    "ExecuteTime": {
     "end_time": "2025-04-27T16:56:46.586896Z",
     "start_time": "2025-04-27T16:56:46.450986Z"
    }
   },
   "cell_type": "code",
   "source": [
    "result_df['Gene_Symbol'] = result_df['Gene'].map(\n",
    "    dict(zip(ppmi_ad.varm['symbol_ensembl_mapping'].index,\n",
    "             ppmi_ad.varm['symbol_ensembl_mapping']['gene_symbol']))\n",
    ")"
   ],
   "id": "e7692b1f80898d7e",
   "outputs": [],
   "execution_count": 22
  },
  {
   "metadata": {
    "ExecuteTime": {
     "end_time": "2025-04-27T16:56:47.742091Z",
     "start_time": "2025-04-27T16:56:47.724159Z"
    }
   },
   "cell_type": "code",
   "source": "result_df",
   "id": "3749279fcd14178b",
   "outputs": [
    {
     "data": {
      "text/plain": [
       "                     Gene  Borda_Score   Rank      Gene_Symbol\n",
       "0       ENSG00000199319.1         2859      1         RN7SKP25\n",
       "1       ENSG00000257434.1         3008      2  ENSG00000257434\n",
       "2       ENSG00000251707.2         3417      3         RNU7-68P\n",
       "3       ENSG00000129845.5         4341      4            TTTY1\n",
       "4       ENSG00000253391.1         4437      5  ENSG00000253391\n",
       "...                   ...          ...    ...              ...\n",
       "42853  ENSG00000085998.13        80001  42854          POMGNT1\n",
       "42854  ENSG00000213999.15        80001  42855            MEF2B\n",
       "42855   ENSG00000232869.2        80002  42856         TRBV29-1\n",
       "42856   ENSG00000257587.1        80003  42857  ENSG00000257587\n",
       "42857  ENSG00000153898.12        80003  42858           MCOLN2\n",
       "\n",
       "[42858 rows x 4 columns]"
      ],
      "text/html": [
       "<div>\n",
       "<style scoped>\n",
       "    .dataframe tbody tr th:only-of-type {\n",
       "        vertical-align: middle;\n",
       "    }\n",
       "\n",
       "    .dataframe tbody tr th {\n",
       "        vertical-align: top;\n",
       "    }\n",
       "\n",
       "    .dataframe thead th {\n",
       "        text-align: right;\n",
       "    }\n",
       "</style>\n",
       "<table border=\"1\" class=\"dataframe\">\n",
       "  <thead>\n",
       "    <tr style=\"text-align: right;\">\n",
       "      <th></th>\n",
       "      <th>Gene</th>\n",
       "      <th>Borda_Score</th>\n",
       "      <th>Rank</th>\n",
       "      <th>Gene_Symbol</th>\n",
       "    </tr>\n",
       "  </thead>\n",
       "  <tbody>\n",
       "    <tr>\n",
       "      <th>0</th>\n",
       "      <td>ENSG00000199319.1</td>\n",
       "      <td>2859</td>\n",
       "      <td>1</td>\n",
       "      <td>RN7SKP25</td>\n",
       "    </tr>\n",
       "    <tr>\n",
       "      <th>1</th>\n",
       "      <td>ENSG00000257434.1</td>\n",
       "      <td>3008</td>\n",
       "      <td>2</td>\n",
       "      <td>ENSG00000257434</td>\n",
       "    </tr>\n",
       "    <tr>\n",
       "      <th>2</th>\n",
       "      <td>ENSG00000251707.2</td>\n",
       "      <td>3417</td>\n",
       "      <td>3</td>\n",
       "      <td>RNU7-68P</td>\n",
       "    </tr>\n",
       "    <tr>\n",
       "      <th>3</th>\n",
       "      <td>ENSG00000129845.5</td>\n",
       "      <td>4341</td>\n",
       "      <td>4</td>\n",
       "      <td>TTTY1</td>\n",
       "    </tr>\n",
       "    <tr>\n",
       "      <th>4</th>\n",
       "      <td>ENSG00000253391.1</td>\n",
       "      <td>4437</td>\n",
       "      <td>5</td>\n",
       "      <td>ENSG00000253391</td>\n",
       "    </tr>\n",
       "    <tr>\n",
       "      <th>...</th>\n",
       "      <td>...</td>\n",
       "      <td>...</td>\n",
       "      <td>...</td>\n",
       "      <td>...</td>\n",
       "    </tr>\n",
       "    <tr>\n",
       "      <th>42853</th>\n",
       "      <td>ENSG00000085998.13</td>\n",
       "      <td>80001</td>\n",
       "      <td>42854</td>\n",
       "      <td>POMGNT1</td>\n",
       "    </tr>\n",
       "    <tr>\n",
       "      <th>42854</th>\n",
       "      <td>ENSG00000213999.15</td>\n",
       "      <td>80001</td>\n",
       "      <td>42855</td>\n",
       "      <td>MEF2B</td>\n",
       "    </tr>\n",
       "    <tr>\n",
       "      <th>42855</th>\n",
       "      <td>ENSG00000232869.2</td>\n",
       "      <td>80002</td>\n",
       "      <td>42856</td>\n",
       "      <td>TRBV29-1</td>\n",
       "    </tr>\n",
       "    <tr>\n",
       "      <th>42856</th>\n",
       "      <td>ENSG00000257587.1</td>\n",
       "      <td>80003</td>\n",
       "      <td>42857</td>\n",
       "      <td>ENSG00000257587</td>\n",
       "    </tr>\n",
       "    <tr>\n",
       "      <th>42857</th>\n",
       "      <td>ENSG00000153898.12</td>\n",
       "      <td>80003</td>\n",
       "      <td>42858</td>\n",
       "      <td>MCOLN2</td>\n",
       "    </tr>\n",
       "  </tbody>\n",
       "</table>\n",
       "<p>42858 rows × 4 columns</p>\n",
       "</div>"
      ]
     },
     "execution_count": 23,
     "metadata": {},
     "output_type": "execute_result"
    }
   ],
   "execution_count": 23
  },
  {
   "metadata": {
    "ExecuteTime": {
     "end_time": "2025-04-27T16:56:52.258865Z",
     "start_time": "2025-04-27T16:56:52.034191Z"
    }
   },
   "cell_type": "code",
   "source": "import gseapy as gp",
   "id": "297ba0091ab629d3",
   "outputs": [],
   "execution_count": 24
  },
  {
   "metadata": {
    "ExecuteTime": {
     "end_time": "2025-04-27T17:00:22.907170Z",
     "start_time": "2025-04-27T17:00:07.267687Z"
    }
   },
   "cell_type": "code",
   "source": [
    "enr = gp.enrichr(gene_list=result_df['Gene_Symbol'][:40].to_list(),\n",
    "                 gene_sets=['MSigDB_Hallmark_2020',\n",
    "                            'KEGG_2021_Human',\n",
    "                            'WikiPathways_2024_Human',\n",
    "                            'Human_Phenotype_Ontology',\n",
    "                            'GO_Biological_Process_2023',\n",
    "                            'GO_Molecular_Function_2023',\n",
    "                            'GO_Cellular_Component_2023',\n",
    "                            'SynGO_2024',\n",
    "                            'OMIM_Disease'],\n",
    "                 organism='human')"
   ],
   "id": "4267652855b0ad1a",
   "outputs": [
    {
     "name": "stderr",
     "output_type": "stream",
     "text": [
      "/Users/kpax/Documents/aep/study/MSC/lab/ppmi-wip/ppmi-env/lib/python3.12/site-packages/gseapy/enrichr.py:690: FutureWarning: The behavior of DataFrame concatenation with empty or all-NA entries is deprecated. In a future version, this will no longer exclude empty or all-NA columns when determining the result dtypes. To retain the old behavior, exclude the relevant entries before the concat operation.\n",
      "  self.results = pd.concat(self.results, ignore_index=True)\n"
     ]
    }
   ],
   "execution_count": 33
  },
  {
   "metadata": {
    "ExecuteTime": {
     "end_time": "2025-04-27T17:00:27.365623Z",
     "start_time": "2025-04-27T17:00:27.349502Z"
    }
   },
   "cell_type": "code",
   "source": "enr.results",
   "id": "cd9ac5ffed551fa",
   "outputs": [
    {
     "data": {
      "text/plain": [
       "                      Gene_set                                      Term  \\\n",
       "0         MSigDB_Hallmark_2020                     Xenobiotic Metabolism   \n",
       "1         MSigDB_Hallmark_2020                                   Hypoxia   \n",
       "2              KEGG_2021_Human            Glycosphingolipid biosynthesis   \n",
       "3              KEGG_2021_Human                Autoimmune thyroid disease   \n",
       "4              KEGG_2021_Human             Cytosolic DNA-sensing pathway   \n",
       "..                         ...                                       ...   \n",
       "94  GO_Molecular_Function_2023  Hexosyltransferase Activity (GO:0016758)   \n",
       "95  GO_Molecular_Function_2023            Cytokine Activity (GO:0005125)   \n",
       "96  GO_Molecular_Function_2023     Receptor Ligand Activity (GO:0048018)   \n",
       "97                OMIM_Disease                                     blood   \n",
       "98                OMIM_Disease                                  cataract   \n",
       "\n",
       "   Overlap   P-value  Adjusted P-value Old P-value Old Adjusted P-value  \\\n",
       "0    1/200  0.331292          0.331292           0                    0   \n",
       "1    1/200  0.331292          0.331292           0                    0   \n",
       "2     1/45  0.086242          0.466533           0                    0   \n",
       "3     1/53  0.100795          0.466533           0                    0   \n",
       "4     1/63  0.118669          0.466533           0                    0   \n",
       "..     ...       ...               ...         ...                  ...   \n",
       "94    1/96  0.175230          0.292049           0                    0   \n",
       "95   1/178  0.300888          0.376109           0                    0   \n",
       "96   1/319  0.474694          0.474694           0                    0   \n",
       "97    1/36  0.069595          0.089901           0                    0   \n",
       "98    1/47  0.089901          0.089901           0                    0   \n",
       "\n",
       "    Odds Ratio  Combined Score  Genes  \n",
       "0     2.546193        2.812923  GCNT2  \n",
       "1     2.546193        2.812923  GCNT2  \n",
       "2    11.606061       28.441835  GCNT2  \n",
       "3     9.816568       22.525762  IFNA7  \n",
       "4     8.229115       17.539685  IFNA7  \n",
       "..         ...             ...    ...  \n",
       "94    5.361673        9.338205  GCNT2  \n",
       "95    2.865855        3.441946  IFNA7  \n",
       "96    1.583777        1.180048  IFNA7  \n",
       "97   14.597070       38.902163  GCNT2  \n",
       "98   11.100334       26.741176  GCNT2  \n",
       "\n",
       "[99 rows x 10 columns]"
      ],
      "text/html": [
       "<div>\n",
       "<style scoped>\n",
       "    .dataframe tbody tr th:only-of-type {\n",
       "        vertical-align: middle;\n",
       "    }\n",
       "\n",
       "    .dataframe tbody tr th {\n",
       "        vertical-align: top;\n",
       "    }\n",
       "\n",
       "    .dataframe thead th {\n",
       "        text-align: right;\n",
       "    }\n",
       "</style>\n",
       "<table border=\"1\" class=\"dataframe\">\n",
       "  <thead>\n",
       "    <tr style=\"text-align: right;\">\n",
       "      <th></th>\n",
       "      <th>Gene_set</th>\n",
       "      <th>Term</th>\n",
       "      <th>Overlap</th>\n",
       "      <th>P-value</th>\n",
       "      <th>Adjusted P-value</th>\n",
       "      <th>Old P-value</th>\n",
       "      <th>Old Adjusted P-value</th>\n",
       "      <th>Odds Ratio</th>\n",
       "      <th>Combined Score</th>\n",
       "      <th>Genes</th>\n",
       "    </tr>\n",
       "  </thead>\n",
       "  <tbody>\n",
       "    <tr>\n",
       "      <th>0</th>\n",
       "      <td>MSigDB_Hallmark_2020</td>\n",
       "      <td>Xenobiotic Metabolism</td>\n",
       "      <td>1/200</td>\n",
       "      <td>0.331292</td>\n",
       "      <td>0.331292</td>\n",
       "      <td>0</td>\n",
       "      <td>0</td>\n",
       "      <td>2.546193</td>\n",
       "      <td>2.812923</td>\n",
       "      <td>GCNT2</td>\n",
       "    </tr>\n",
       "    <tr>\n",
       "      <th>1</th>\n",
       "      <td>MSigDB_Hallmark_2020</td>\n",
       "      <td>Hypoxia</td>\n",
       "      <td>1/200</td>\n",
       "      <td>0.331292</td>\n",
       "      <td>0.331292</td>\n",
       "      <td>0</td>\n",
       "      <td>0</td>\n",
       "      <td>2.546193</td>\n",
       "      <td>2.812923</td>\n",
       "      <td>GCNT2</td>\n",
       "    </tr>\n",
       "    <tr>\n",
       "      <th>2</th>\n",
       "      <td>KEGG_2021_Human</td>\n",
       "      <td>Glycosphingolipid biosynthesis</td>\n",
       "      <td>1/45</td>\n",
       "      <td>0.086242</td>\n",
       "      <td>0.466533</td>\n",
       "      <td>0</td>\n",
       "      <td>0</td>\n",
       "      <td>11.606061</td>\n",
       "      <td>28.441835</td>\n",
       "      <td>GCNT2</td>\n",
       "    </tr>\n",
       "    <tr>\n",
       "      <th>3</th>\n",
       "      <td>KEGG_2021_Human</td>\n",
       "      <td>Autoimmune thyroid disease</td>\n",
       "      <td>1/53</td>\n",
       "      <td>0.100795</td>\n",
       "      <td>0.466533</td>\n",
       "      <td>0</td>\n",
       "      <td>0</td>\n",
       "      <td>9.816568</td>\n",
       "      <td>22.525762</td>\n",
       "      <td>IFNA7</td>\n",
       "    </tr>\n",
       "    <tr>\n",
       "      <th>4</th>\n",
       "      <td>KEGG_2021_Human</td>\n",
       "      <td>Cytosolic DNA-sensing pathway</td>\n",
       "      <td>1/63</td>\n",
       "      <td>0.118669</td>\n",
       "      <td>0.466533</td>\n",
       "      <td>0</td>\n",
       "      <td>0</td>\n",
       "      <td>8.229115</td>\n",
       "      <td>17.539685</td>\n",
       "      <td>IFNA7</td>\n",
       "    </tr>\n",
       "    <tr>\n",
       "      <th>...</th>\n",
       "      <td>...</td>\n",
       "      <td>...</td>\n",
       "      <td>...</td>\n",
       "      <td>...</td>\n",
       "      <td>...</td>\n",
       "      <td>...</td>\n",
       "      <td>...</td>\n",
       "      <td>...</td>\n",
       "      <td>...</td>\n",
       "      <td>...</td>\n",
       "    </tr>\n",
       "    <tr>\n",
       "      <th>94</th>\n",
       "      <td>GO_Molecular_Function_2023</td>\n",
       "      <td>Hexosyltransferase Activity (GO:0016758)</td>\n",
       "      <td>1/96</td>\n",
       "      <td>0.175230</td>\n",
       "      <td>0.292049</td>\n",
       "      <td>0</td>\n",
       "      <td>0</td>\n",
       "      <td>5.361673</td>\n",
       "      <td>9.338205</td>\n",
       "      <td>GCNT2</td>\n",
       "    </tr>\n",
       "    <tr>\n",
       "      <th>95</th>\n",
       "      <td>GO_Molecular_Function_2023</td>\n",
       "      <td>Cytokine Activity (GO:0005125)</td>\n",
       "      <td>1/178</td>\n",
       "      <td>0.300888</td>\n",
       "      <td>0.376109</td>\n",
       "      <td>0</td>\n",
       "      <td>0</td>\n",
       "      <td>2.865855</td>\n",
       "      <td>3.441946</td>\n",
       "      <td>IFNA7</td>\n",
       "    </tr>\n",
       "    <tr>\n",
       "      <th>96</th>\n",
       "      <td>GO_Molecular_Function_2023</td>\n",
       "      <td>Receptor Ligand Activity (GO:0048018)</td>\n",
       "      <td>1/319</td>\n",
       "      <td>0.474694</td>\n",
       "      <td>0.474694</td>\n",
       "      <td>0</td>\n",
       "      <td>0</td>\n",
       "      <td>1.583777</td>\n",
       "      <td>1.180048</td>\n",
       "      <td>IFNA7</td>\n",
       "    </tr>\n",
       "    <tr>\n",
       "      <th>97</th>\n",
       "      <td>OMIM_Disease</td>\n",
       "      <td>blood</td>\n",
       "      <td>1/36</td>\n",
       "      <td>0.069595</td>\n",
       "      <td>0.089901</td>\n",
       "      <td>0</td>\n",
       "      <td>0</td>\n",
       "      <td>14.597070</td>\n",
       "      <td>38.902163</td>\n",
       "      <td>GCNT2</td>\n",
       "    </tr>\n",
       "    <tr>\n",
       "      <th>98</th>\n",
       "      <td>OMIM_Disease</td>\n",
       "      <td>cataract</td>\n",
       "      <td>1/47</td>\n",
       "      <td>0.089901</td>\n",
       "      <td>0.089901</td>\n",
       "      <td>0</td>\n",
       "      <td>0</td>\n",
       "      <td>11.100334</td>\n",
       "      <td>26.741176</td>\n",
       "      <td>GCNT2</td>\n",
       "    </tr>\n",
       "  </tbody>\n",
       "</table>\n",
       "<p>99 rows × 10 columns</p>\n",
       "</div>"
      ]
     },
     "execution_count": 34,
     "metadata": {},
     "output_type": "execute_result"
    }
   ],
   "execution_count": 34
  },
  {
   "metadata": {
    "ExecuteTime": {
     "end_time": "2025-04-14T14:42:56.712995Z",
     "start_time": "2025-04-14T14:42:56.492539Z"
    }
   },
   "cell_type": "code",
   "source": [
    "enr_res_pivot = enr.results.pivot(index='Term', columns='Genes', values='P-value')\n",
    "enr_res_pivot = enr_res_pivot.fillna(1.0)"
   ],
   "id": "2c8edd47d7adba74",
   "outputs": [],
   "execution_count": 318
  },
  {
   "metadata": {},
   "cell_type": "code",
   "source": [
    "import matplotlib.pyplot as plt\n",
    "import seaborn as sns\n",
    "\n",
    "plt.figure(figsize=(10,6))\n",
    "sns.heatmap(\n",
    "    enr_res_pivot,\n",
    "    cmap='flare',\n",
    "    fmt='.3f',\n",
    "    vmin=0, vmax=1\n",
    ")\n",
    "plt.title(\"GSEA Results of Consensus Genes for Males Aged 30-50\")"
   ],
   "id": "7f7e94e51ab3e718",
   "outputs": [],
   "execution_count": null
  },
  {
   "metadata": {},
   "cell_type": "markdown",
   "source": "### Write results to a file",
   "id": "b090dc3874734db4"
  },
  {
   "metadata": {
    "ExecuteTime": {
     "end_time": "2025-04-27T17:00:44.204416Z",
     "start_time": "2025-04-27T17:00:44.031646Z"
    }
   },
   "cell_type": "code",
   "source": "result_df.to_csv(\"/Users/kpax/Documents/aep/study/MSC/lab/PPMI_Project_133_RNASeq/feature_selection_borda_rank_consensus_males_30-50.csv\")",
   "id": "fac2fbd03211b7f4",
   "outputs": [],
   "execution_count": 35
  },
  {
   "metadata": {},
   "cell_type": "code",
   "outputs": [],
   "execution_count": null,
   "source": "",
   "id": "c9356c0712aecef6"
  }
 ],
 "metadata": {
  "kernelspec": {
   "display_name": "Python 3",
   "language": "python",
   "name": "python3"
  },
  "language_info": {
   "codemirror_mode": {
    "name": "ipython",
    "version": 2
   },
   "file_extension": ".py",
   "mimetype": "text/x-python",
   "name": "python",
   "nbconvert_exporter": "python",
   "pygments_lexer": "ipython2",
   "version": "2.7.6"
  }
 },
 "nbformat": 4,
 "nbformat_minor": 5
}
