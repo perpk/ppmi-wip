{
 "cells": [
  {
   "cell_type": "code",
   "id": "initial_id",
   "metadata": {
    "collapsed": true,
    "ExecuteTime": {
     "end_time": "2025-05-05T18:06:44.192582Z",
     "start_time": "2025-05-05T18:06:42.455459Z"
    }
   },
   "source": [
    "import pandas as pd\n",
    "import numpy as np\n",
    "from sklearn.linear_model import LogisticRegression\n",
    "from sklearn.model_selection import train_test_split, StratifiedKFold\n",
    "from sklearn.metrics import (roc_auc_score, average_precision_score,\n",
    "                           roc_curve, precision_recall_curve,\n",
    "                           confusion_matrix, classification_report)\n",
    "from imblearn.pipeline import Pipeline\n",
    "from imblearn.over_sampling import SMOTE\n",
    "from sklearn.preprocessing import StandardScaler\n",
    "import matplotlib.pyplot as plt\n",
    "import seaborn as sns\n"
   ],
   "outputs": [],
   "execution_count": 3
  },
  {
   "metadata": {
    "ExecuteTime": {
     "end_time": "2025-05-05T18:06:18.950531Z",
     "start_time": "2025-05-05T18:05:58.415755Z"
    }
   },
   "cell_type": "code",
   "source": [
    "import anndata as ad\n",
    "ppmi_ad = ad.read_h5ad(\"/Users/kpax/Documents/aep/study/MSC/lab/PPMI_Project_133_RNASeq/ppmi_adata.h5ad\")"
   ],
   "id": "c1129307bb8d5764",
   "outputs": [
    {
     "name": "stderr",
     "output_type": "stream",
     "text": [
      "\n",
      "A module that was compiled using NumPy 1.x cannot be run in\n",
      "NumPy 2.2.4 as it may crash. To support both 1.x and 2.x\n",
      "versions of NumPy, modules must be compiled with NumPy 2.0.\n",
      "Some module may need to rebuild instead e.g. with 'pybind11>=2.12'.\n",
      "\n",
      "If you are a user of the module, the easiest solution will be to\n",
      "downgrade to 'numpy<2' or try to upgrade the affected module.\n",
      "We expect that some modules will need time to support NumPy 2.\n",
      "\n",
      "Traceback (most recent call last):  File \"<frozen runpy>\", line 198, in _run_module_as_main\n",
      "  File \"<frozen runpy>\", line 88, in _run_code\n",
      "  File \"/Users/kpax/Documents/aep/study/MSC/lab/ppmi-wip/ppmi-env/lib/python3.12/site-packages/ipykernel_launcher.py\", line 18, in <module>\n",
      "    app.launch_new_instance()\n",
      "  File \"/Users/kpax/Documents/aep/study/MSC/lab/ppmi-wip/ppmi-env/lib/python3.12/site-packages/traitlets/config/application.py\", line 1075, in launch_instance\n",
      "    app.start()\n",
      "  File \"/Users/kpax/Documents/aep/study/MSC/lab/ppmi-wip/ppmi-env/lib/python3.12/site-packages/ipykernel/kernelapp.py\", line 739, in start\n",
      "    self.io_loop.start()\n",
      "  File \"/Users/kpax/Documents/aep/study/MSC/lab/ppmi-wip/ppmi-env/lib/python3.12/site-packages/tornado/platform/asyncio.py\", line 205, in start\n",
      "    self.asyncio_loop.run_forever()\n",
      "  File \"/opt/anaconda3/lib/python3.12/asyncio/base_events.py\", line 639, in run_forever\n",
      "    self._run_once()\n",
      "  File \"/opt/anaconda3/lib/python3.12/asyncio/base_events.py\", line 1985, in _run_once\n",
      "    handle._run()\n",
      "  File \"/opt/anaconda3/lib/python3.12/asyncio/events.py\", line 88, in _run\n",
      "    self._context.run(self._callback, *self._args)\n",
      "  File \"/Users/kpax/Documents/aep/study/MSC/lab/ppmi-wip/ppmi-env/lib/python3.12/site-packages/ipykernel/kernelbase.py\", line 545, in dispatch_queue\n",
      "    await self.process_one()\n",
      "  File \"/Users/kpax/Documents/aep/study/MSC/lab/ppmi-wip/ppmi-env/lib/python3.12/site-packages/ipykernel/kernelbase.py\", line 534, in process_one\n",
      "    await dispatch(*args)\n",
      "  File \"/Users/kpax/Documents/aep/study/MSC/lab/ppmi-wip/ppmi-env/lib/python3.12/site-packages/ipykernel/kernelbase.py\", line 437, in dispatch_shell\n",
      "    await result\n",
      "  File \"/Users/kpax/Documents/aep/study/MSC/lab/ppmi-wip/ppmi-env/lib/python3.12/site-packages/ipykernel/ipkernel.py\", line 362, in execute_request\n",
      "    await super().execute_request(stream, ident, parent)\n",
      "  File \"/Users/kpax/Documents/aep/study/MSC/lab/ppmi-wip/ppmi-env/lib/python3.12/site-packages/ipykernel/kernelbase.py\", line 778, in execute_request\n",
      "    reply_content = await reply_content\n",
      "  File \"/Users/kpax/Documents/aep/study/MSC/lab/ppmi-wip/ppmi-env/lib/python3.12/site-packages/ipykernel/ipkernel.py\", line 449, in do_execute\n",
      "    res = shell.run_cell(\n",
      "  File \"/Users/kpax/Documents/aep/study/MSC/lab/ppmi-wip/ppmi-env/lib/python3.12/site-packages/ipykernel/zmqshell.py\", line 549, in run_cell\n",
      "    return super().run_cell(*args, **kwargs)\n",
      "  File \"/Users/kpax/Documents/aep/study/MSC/lab/ppmi-wip/ppmi-env/lib/python3.12/site-packages/IPython/core/interactiveshell.py\", line 3098, in run_cell\n",
      "    result = self._run_cell(\n",
      "  File \"/Users/kpax/Documents/aep/study/MSC/lab/ppmi-wip/ppmi-env/lib/python3.12/site-packages/IPython/core/interactiveshell.py\", line 3153, in _run_cell\n",
      "    result = runner(coro)\n",
      "  File \"/Users/kpax/Documents/aep/study/MSC/lab/ppmi-wip/ppmi-env/lib/python3.12/site-packages/IPython/core/async_helpers.py\", line 128, in _pseudo_sync_runner\n",
      "    coro.send(None)\n",
      "  File \"/Users/kpax/Documents/aep/study/MSC/lab/ppmi-wip/ppmi-env/lib/python3.12/site-packages/IPython/core/interactiveshell.py\", line 3362, in run_cell_async\n",
      "    has_raised = await self.run_ast_nodes(code_ast.body, cell_name,\n",
      "  File \"/Users/kpax/Documents/aep/study/MSC/lab/ppmi-wip/ppmi-env/lib/python3.12/site-packages/IPython/core/interactiveshell.py\", line 3607, in run_ast_nodes\n",
      "    if await self.run_code(code, result, async_=asy):\n",
      "  File \"/Users/kpax/Documents/aep/study/MSC/lab/ppmi-wip/ppmi-env/lib/python3.12/site-packages/IPython/core/interactiveshell.py\", line 3667, in run_code\n",
      "    exec(code_obj, self.user_global_ns, self.user_ns)\n",
      "  File \"/var/folders/qb/t7qv2b9n33n2xzbjvg_dk_4c0000gn/T/ipykernel_37472/224308570.py\", line 1, in <module>\n",
      "    import anndata as ad\n",
      "  File \"/Users/kpax/Documents/aep/study/MSC/lab/ppmi-wip/ppmi-env/lib/python3.12/site-packages/anndata/__init__.py\", line 29, in <module>\n",
      "    from .io import read_h5ad, read_zarr\n",
      "  File \"/Users/kpax/Documents/aep/study/MSC/lab/ppmi-wip/ppmi-env/lib/python3.12/site-packages/anndata/io.py\", line 7, in <module>\n",
      "    from ._io.h5ad import read_h5ad, write_h5ad\n",
      "  File \"/Users/kpax/Documents/aep/study/MSC/lab/ppmi-wip/ppmi-env/lib/python3.12/site-packages/anndata/_io/h5ad.py\", line 25, in <module>\n",
      "    from ..experimental import read_dispatched\n",
      "  File \"/Users/kpax/Documents/aep/study/MSC/lab/ppmi-wip/ppmi-env/lib/python3.12/site-packages/anndata/experimental/__init__.py\", line 12, in <module>\n",
      "    from .pytorch import AnnLoader\n",
      "  File \"/Users/kpax/Documents/aep/study/MSC/lab/ppmi-wip/ppmi-env/lib/python3.12/site-packages/anndata/experimental/pytorch/__init__.py\", line 3, in <module>\n",
      "    from ._annloader import AnnLoader\n",
      "  File \"/Users/kpax/Documents/aep/study/MSC/lab/ppmi-wip/ppmi-env/lib/python3.12/site-packages/anndata/experimental/pytorch/_annloader.py\", line 19, in <module>\n",
      "    import torch\n",
      "  File \"/Users/kpax/Documents/aep/study/MSC/lab/ppmi-wip/ppmi-env/lib/python3.12/site-packages/torch/__init__.py\", line 1477, in <module>\n",
      "    from .functional import *  # noqa: F403\n",
      "  File \"/Users/kpax/Documents/aep/study/MSC/lab/ppmi-wip/ppmi-env/lib/python3.12/site-packages/torch/functional.py\", line 9, in <module>\n",
      "    import torch.nn.functional as F\n",
      "  File \"/Users/kpax/Documents/aep/study/MSC/lab/ppmi-wip/ppmi-env/lib/python3.12/site-packages/torch/nn/__init__.py\", line 1, in <module>\n",
      "    from .modules import *  # noqa: F403\n",
      "  File \"/Users/kpax/Documents/aep/study/MSC/lab/ppmi-wip/ppmi-env/lib/python3.12/site-packages/torch/nn/modules/__init__.py\", line 35, in <module>\n",
      "    from .transformer import TransformerEncoder, TransformerDecoder, \\\n",
      "  File \"/Users/kpax/Documents/aep/study/MSC/lab/ppmi-wip/ppmi-env/lib/python3.12/site-packages/torch/nn/modules/transformer.py\", line 20, in <module>\n",
      "    device: torch.device = torch.device(torch._C._get_default_device()),  # torch.device('cpu'),\n",
      "/Users/kpax/Documents/aep/study/MSC/lab/ppmi-wip/ppmi-env/lib/python3.12/site-packages/torch/nn/modules/transformer.py:20: UserWarning: Failed to initialize NumPy: _ARRAY_API not found (Triggered internally at /Users/runner/work/pytorch/pytorch/pytorch/torch/csrc/utils/tensor_numpy.cpp:84.)\n",
      "  device: torch.device = torch.device(torch._C._get_default_device()),  # torch.device('cpu'),\n"
     ]
    }
   ],
   "execution_count": 1
  },
  {
   "metadata": {
    "ExecuteTime": {
     "end_time": "2025-05-05T18:06:47.137030Z",
     "start_time": "2025-05-05T18:06:47.061840Z"
    }
   },
   "cell_type": "code",
   "source": "borda_features = pd.read_csv(\"/Users/kpax/Documents/aep/study/MSC/lab/PPMI_Project_133_RNASeq/feature_selection/borda_ranks_Male_50-70.csv\", index_col=0)",
   "id": "fa613a91d8d4d15e",
   "outputs": [],
   "execution_count": 4
  },
  {
   "metadata": {
    "ExecuteTime": {
     "end_time": "2025-05-05T18:06:48.555012Z",
     "start_time": "2025-05-05T18:06:48.528683Z"
    }
   },
   "cell_type": "code",
   "source": "borda_features.head()",
   "id": "f7f6fbc0eb9e5495",
   "outputs": [
    {
     "data": {
      "text/plain": [
       "                         BL     V02      V04      V06  V08\n",
       "Gene                                                      \n",
       "ENSG00000000005.5    5048.0  3685.0      NaN      NaN  NaN\n",
       "ENSG00000000419.12      NaN     NaN  12619.0      NaN  NaN\n",
       "ENSG00000000457.13   1260.0     NaN   6236.0  14091.0  NaN\n",
       "ENSG00000000460.16  15683.0  9179.0      NaN      NaN  NaN\n",
       "ENSG00000000938.12  13428.0     NaN      NaN      NaN  NaN"
      ],
      "text/html": [
       "<div>\n",
       "<style scoped>\n",
       "    .dataframe tbody tr th:only-of-type {\n",
       "        vertical-align: middle;\n",
       "    }\n",
       "\n",
       "    .dataframe tbody tr th {\n",
       "        vertical-align: top;\n",
       "    }\n",
       "\n",
       "    .dataframe thead th {\n",
       "        text-align: right;\n",
       "    }\n",
       "</style>\n",
       "<table border=\"1\" class=\"dataframe\">\n",
       "  <thead>\n",
       "    <tr style=\"text-align: right;\">\n",
       "      <th></th>\n",
       "      <th>BL</th>\n",
       "      <th>V02</th>\n",
       "      <th>V04</th>\n",
       "      <th>V06</th>\n",
       "      <th>V08</th>\n",
       "    </tr>\n",
       "    <tr>\n",
       "      <th>Gene</th>\n",
       "      <th></th>\n",
       "      <th></th>\n",
       "      <th></th>\n",
       "      <th></th>\n",
       "      <th></th>\n",
       "    </tr>\n",
       "  </thead>\n",
       "  <tbody>\n",
       "    <tr>\n",
       "      <th>ENSG00000000005.5</th>\n",
       "      <td>5048.0</td>\n",
       "      <td>3685.0</td>\n",
       "      <td>NaN</td>\n",
       "      <td>NaN</td>\n",
       "      <td>NaN</td>\n",
       "    </tr>\n",
       "    <tr>\n",
       "      <th>ENSG00000000419.12</th>\n",
       "      <td>NaN</td>\n",
       "      <td>NaN</td>\n",
       "      <td>12619.0</td>\n",
       "      <td>NaN</td>\n",
       "      <td>NaN</td>\n",
       "    </tr>\n",
       "    <tr>\n",
       "      <th>ENSG00000000457.13</th>\n",
       "      <td>1260.0</td>\n",
       "      <td>NaN</td>\n",
       "      <td>6236.0</td>\n",
       "      <td>14091.0</td>\n",
       "      <td>NaN</td>\n",
       "    </tr>\n",
       "    <tr>\n",
       "      <th>ENSG00000000460.16</th>\n",
       "      <td>15683.0</td>\n",
       "      <td>9179.0</td>\n",
       "      <td>NaN</td>\n",
       "      <td>NaN</td>\n",
       "      <td>NaN</td>\n",
       "    </tr>\n",
       "    <tr>\n",
       "      <th>ENSG00000000938.12</th>\n",
       "      <td>13428.0</td>\n",
       "      <td>NaN</td>\n",
       "      <td>NaN</td>\n",
       "      <td>NaN</td>\n",
       "      <td>NaN</td>\n",
       "    </tr>\n",
       "  </tbody>\n",
       "</table>\n",
       "</div>"
      ]
     },
     "execution_count": 5,
     "metadata": {},
     "output_type": "execute_result"
    }
   ],
   "execution_count": 5
  },
  {
   "metadata": {
    "ExecuteTime": {
     "end_time": "2025-05-05T18:06:51.646753Z",
     "start_time": "2025-05-05T18:06:51.626731Z"
    }
   },
   "cell_type": "code",
   "source": [
    "greatest_rank = borda_features[['BL', 'V02', 'V04', 'V06', 'V08']].max().max()\n",
    "lowest_rank = borda_features[['BL', 'V02', 'V04', 'V06', 'V08']].min().min()\n",
    "\n",
    "print(\"Greatest value:\", greatest_rank)\n",
    "print(\"Lowest value:\", lowest_rank)"
   ],
   "id": "d8ad603f708ade69",
   "outputs": [
    {
     "name": "stdout",
     "output_type": "stream",
     "text": [
      "Greatest value: 16788.0\n",
      "Lowest value: 1.0\n"
     ]
    }
   ],
   "execution_count": 6
  },
  {
   "metadata": {
    "ExecuteTime": {
     "end_time": "2025-05-05T18:06:53.544844Z",
     "start_time": "2025-05-05T18:06:53.510995Z"
    }
   },
   "cell_type": "code",
   "source": [
    "features_detected_in_all_visits = borda_features.dropna(how='any')\n",
    "features_detected_in_all_visits"
   ],
   "id": "dba551593a754b52",
   "outputs": [
    {
     "data": {
      "text/plain": [
       "                         BL      V02      V04      V06      V08\n",
       "Gene                                                           \n",
       "ENSG00000069206.15   7939.0  12960.0  11172.0   7259.0  13285.0\n",
       "ENSG00000102010.14     31.0  10476.0    920.0  10837.0  10051.0\n",
       "ENSG00000106018.13  11228.0   1346.0     99.0   6350.0   8020.0\n",
       "ENSG00000111052.7    5148.0  10236.0  14323.0   7280.0   3844.0\n",
       "ENSG00000114416.17  16325.0  11290.0   4002.0  13349.0   7919.0\n",
       "...                     ...      ...      ...      ...      ...\n",
       "ENSG00000280232.1   15636.0   5342.0  12237.0   8249.0   6275.0\n",
       "ENSG00000281741.2       9.0   1987.0    222.0   7156.0   2526.0\n",
       "ENSG00000283537.2    4486.0   1457.0    157.0    881.0    503.0\n",
       "ENSG00000285401.1   13472.0  10555.0   5562.0   8452.0   3604.0\n",
       "ENSG00000285730.1      46.0  14941.0  15593.0   7037.0   7330.0\n",
       "\n",
       "[116 rows x 5 columns]"
      ],
      "text/html": [
       "<div>\n",
       "<style scoped>\n",
       "    .dataframe tbody tr th:only-of-type {\n",
       "        vertical-align: middle;\n",
       "    }\n",
       "\n",
       "    .dataframe tbody tr th {\n",
       "        vertical-align: top;\n",
       "    }\n",
       "\n",
       "    .dataframe thead th {\n",
       "        text-align: right;\n",
       "    }\n",
       "</style>\n",
       "<table border=\"1\" class=\"dataframe\">\n",
       "  <thead>\n",
       "    <tr style=\"text-align: right;\">\n",
       "      <th></th>\n",
       "      <th>BL</th>\n",
       "      <th>V02</th>\n",
       "      <th>V04</th>\n",
       "      <th>V06</th>\n",
       "      <th>V08</th>\n",
       "    </tr>\n",
       "    <tr>\n",
       "      <th>Gene</th>\n",
       "      <th></th>\n",
       "      <th></th>\n",
       "      <th></th>\n",
       "      <th></th>\n",
       "      <th></th>\n",
       "    </tr>\n",
       "  </thead>\n",
       "  <tbody>\n",
       "    <tr>\n",
       "      <th>ENSG00000069206.15</th>\n",
       "      <td>7939.0</td>\n",
       "      <td>12960.0</td>\n",
       "      <td>11172.0</td>\n",
       "      <td>7259.0</td>\n",
       "      <td>13285.0</td>\n",
       "    </tr>\n",
       "    <tr>\n",
       "      <th>ENSG00000102010.14</th>\n",
       "      <td>31.0</td>\n",
       "      <td>10476.0</td>\n",
       "      <td>920.0</td>\n",
       "      <td>10837.0</td>\n",
       "      <td>10051.0</td>\n",
       "    </tr>\n",
       "    <tr>\n",
       "      <th>ENSG00000106018.13</th>\n",
       "      <td>11228.0</td>\n",
       "      <td>1346.0</td>\n",
       "      <td>99.0</td>\n",
       "      <td>6350.0</td>\n",
       "      <td>8020.0</td>\n",
       "    </tr>\n",
       "    <tr>\n",
       "      <th>ENSG00000111052.7</th>\n",
       "      <td>5148.0</td>\n",
       "      <td>10236.0</td>\n",
       "      <td>14323.0</td>\n",
       "      <td>7280.0</td>\n",
       "      <td>3844.0</td>\n",
       "    </tr>\n",
       "    <tr>\n",
       "      <th>ENSG00000114416.17</th>\n",
       "      <td>16325.0</td>\n",
       "      <td>11290.0</td>\n",
       "      <td>4002.0</td>\n",
       "      <td>13349.0</td>\n",
       "      <td>7919.0</td>\n",
       "    </tr>\n",
       "    <tr>\n",
       "      <th>...</th>\n",
       "      <td>...</td>\n",
       "      <td>...</td>\n",
       "      <td>...</td>\n",
       "      <td>...</td>\n",
       "      <td>...</td>\n",
       "    </tr>\n",
       "    <tr>\n",
       "      <th>ENSG00000280232.1</th>\n",
       "      <td>15636.0</td>\n",
       "      <td>5342.0</td>\n",
       "      <td>12237.0</td>\n",
       "      <td>8249.0</td>\n",
       "      <td>6275.0</td>\n",
       "    </tr>\n",
       "    <tr>\n",
       "      <th>ENSG00000281741.2</th>\n",
       "      <td>9.0</td>\n",
       "      <td>1987.0</td>\n",
       "      <td>222.0</td>\n",
       "      <td>7156.0</td>\n",
       "      <td>2526.0</td>\n",
       "    </tr>\n",
       "    <tr>\n",
       "      <th>ENSG00000283537.2</th>\n",
       "      <td>4486.0</td>\n",
       "      <td>1457.0</td>\n",
       "      <td>157.0</td>\n",
       "      <td>881.0</td>\n",
       "      <td>503.0</td>\n",
       "    </tr>\n",
       "    <tr>\n",
       "      <th>ENSG00000285401.1</th>\n",
       "      <td>13472.0</td>\n",
       "      <td>10555.0</td>\n",
       "      <td>5562.0</td>\n",
       "      <td>8452.0</td>\n",
       "      <td>3604.0</td>\n",
       "    </tr>\n",
       "    <tr>\n",
       "      <th>ENSG00000285730.1</th>\n",
       "      <td>46.0</td>\n",
       "      <td>14941.0</td>\n",
       "      <td>15593.0</td>\n",
       "      <td>7037.0</td>\n",
       "      <td>7330.0</td>\n",
       "    </tr>\n",
       "  </tbody>\n",
       "</table>\n",
       "<p>116 rows × 5 columns</p>\n",
       "</div>"
      ]
     },
     "execution_count": 7,
     "metadata": {},
     "output_type": "execute_result"
    }
   ],
   "execution_count": 7
  },
  {
   "metadata": {
    "ExecuteTime": {
     "end_time": "2025-05-05T18:06:54.734535Z",
     "start_time": "2025-05-05T18:06:54.715097Z"
    }
   },
   "cell_type": "code",
   "source": [
    "bl_non_nan_values = borda_features['BL'].dropna().sort_values(ascending=False)\n",
    "bl_non_nan_values"
   ],
   "id": "f62c18642693bd09",
   "outputs": [
    {
     "data": {
      "text/plain": [
       "Gene\n",
       "ENSG00000243005.3     16788.0\n",
       "ENSG00000238049.2     16787.0\n",
       "ENSG00000229666.1     16786.0\n",
       "ENSG00000179965.11    16785.0\n",
       "ENSG00000261757.1     16784.0\n",
       "                       ...   \n",
       "ENSG00000199241.1         5.0\n",
       "ENSG00000221571.3         4.0\n",
       "ENSG00000181381.13        3.0\n",
       "ENSG00000207208.1         2.0\n",
       "ENSG00000217083.1         1.0\n",
       "Name: BL, Length: 16788, dtype: float64"
      ]
     },
     "execution_count": 8,
     "metadata": {},
     "output_type": "execute_result"
    }
   ],
   "execution_count": 8
  },
  {
   "metadata": {
    "ExecuteTime": {
     "end_time": "2025-05-05T18:06:57.222905Z",
     "start_time": "2025-05-05T18:06:57.215910Z"
    }
   },
   "cell_type": "code",
   "source": "top_bl_non_nan_values = bl_non_nan_values[bl_non_nan_values > 10000]",
   "id": "a132e4229b4dfd3b",
   "outputs": [],
   "execution_count": 9
  },
  {
   "metadata": {
    "ExecuteTime": {
     "end_time": "2025-05-05T18:07:07.957658Z",
     "start_time": "2025-05-05T18:07:07.949539Z"
    }
   },
   "cell_type": "code",
   "source": [
    "mask = ((ppmi_ad.obs['Age_Group'] == '50-70') &\n",
    "        (ppmi_ad.obs['Gender'] == 'Male') &\n",
    "        (ppmi_ad.obs['Diagnosis'].isin(['PD', 'Control'])) &\n",
    "        (ppmi_ad.obs['Visit'] == 'BL'))"
   ],
   "id": "ab93e01607c94aae",
   "outputs": [],
   "execution_count": 10
  },
  {
   "metadata": {
    "ExecuteTime": {
     "end_time": "2025-05-05T18:07:09.223281Z",
     "start_time": "2025-05-05T18:07:09.214215Z"
    }
   },
   "cell_type": "code",
   "source": "ppmi_ad = ppmi_ad[mask]",
   "id": "a89ee6758d5f8cb9",
   "outputs": [],
   "execution_count": 11
  },
  {
   "metadata": {
    "ExecuteTime": {
     "end_time": "2025-05-05T18:07:10.000614Z",
     "start_time": "2025-05-05T18:07:09.979648Z"
    }
   },
   "cell_type": "code",
   "source": "ppmi_ad = ppmi_ad[:, ppmi_ad.var.index.isin(top_bl_non_nan_values.index)]",
   "id": "fc68c88869931738",
   "outputs": [],
   "execution_count": 12
  },
  {
   "metadata": {
    "ExecuteTime": {
     "end_time": "2025-05-05T18:07:12.088231Z",
     "start_time": "2025-05-05T18:07:11.730907Z"
    }
   },
   "cell_type": "code",
   "source": [
    "X = pd.DataFrame(ppmi_ad.layers['counts_log2'], columns=ppmi_ad.var_names)\n",
    "y = (ppmi_ad.obs['Diagnosis'] == 'PD').astype(int)"
   ],
   "id": "6e4e2fc440fd96ef",
   "outputs": [],
   "execution_count": 13
  },
  {
   "metadata": {
    "ExecuteTime": {
     "end_time": "2025-05-05T18:07:33.005328Z",
     "start_time": "2025-05-05T18:07:32.983962Z"
    }
   },
   "cell_type": "code",
   "source": [
    "X_train, X_test, y_train, y_test = train_test_split(\n",
    "    X, y,\n",
    "    test_size=0.2,\n",
    "    stratify=y,\n",
    "    random_state=42\n",
    ")"
   ],
   "id": "8d371e7feda8d81c",
   "outputs": [],
   "execution_count": 14
  },
  {
   "metadata": {
    "ExecuteTime": {
     "end_time": "2025-05-05T18:07:34.066375Z",
     "start_time": "2025-05-05T18:07:34.062546Z"
    }
   },
   "cell_type": "code",
   "source": [
    "lr_pipeline = Pipeline([\n",
    "    ('scaler', StandardScaler()),\n",
    "    ('smote', SMOTE(random_state=42)),\n",
    "    ('lr', LogisticRegression(\n",
    "        class_weight='balanced',\n",
    "        max_iter=1000,\n",
    "        random_state=42\n",
    "    ))\n",
    "])"
   ],
   "id": "3fdefe06cef5ab35",
   "outputs": [],
   "execution_count": 15
  },
  {
   "metadata": {
    "ExecuteTime": {
     "end_time": "2025-05-05T18:09:09.243213Z",
     "start_time": "2025-05-05T18:07:35.521961Z"
    }
   },
   "cell_type": "code",
   "source": [
    "from sklearn.model_selection import GridSearchCV\n",
    "\n",
    "param_grid = {\n",
    "    'lr__C': np.logspace(-3, 3, 7),\n",
    "    'lr__penalty': ['l1', 'l2'],\n",
    "    'lr__solver': ['liblinear'],\n",
    "    'smote__k_neighbors': [3, 5]\n",
    "}\n",
    "\n",
    "grid_search = GridSearchCV(\n",
    "    lr_pipeline,\n",
    "    param_grid,\n",
    "    cv=StratifiedKFold(10),\n",
    "    scoring='roc_auc',\n",
    "    n_jobs=-1,\n",
    "    verbose=1\n",
    ")\n",
    "grid_search.fit(X_train, y_train)\n",
    "best_lr = grid_search.best_estimator_"
   ],
   "id": "d2dc10654cd69fe7",
   "outputs": [
    {
     "name": "stdout",
     "output_type": "stream",
     "text": [
      "Fitting 10 folds for each of 28 candidates, totalling 280 fits\n"
     ]
    },
    {
     "name": "stderr",
     "output_type": "stream",
     "text": [
      "/Users/kpax/Documents/aep/study/MSC/lab/ppmi-wip/ppmi-env/lib/python3.12/site-packages/threadpoolctl.py:1226: RuntimeWarning: \n",
      "Found Intel OpenMP ('libiomp') and LLVM OpenMP ('libomp') loaded at\n",
      "the same time. Both libraries are known to be incompatible and this\n",
      "can cause random crashes or deadlocks on Linux when loaded in the\n",
      "same Python program.\n",
      "Using threadpoolctl may cause crashes or deadlocks. For more\n",
      "information and possible workarounds, please see\n",
      "    https://github.com/joblib/threadpoolctl/blob/master/multiple_openmp.md\n",
      "\n",
      "  warnings.warn(msg, RuntimeWarning)\n"
     ]
    }
   ],
   "execution_count": 16
  },
  {
   "metadata": {
    "ExecuteTime": {
     "end_time": "2025-05-05T18:09:13.980955Z",
     "start_time": "2025-05-05T18:09:13.971251Z"
    }
   },
   "cell_type": "code",
   "source": "best_lr.named_steps['lr'].get_params()",
   "id": "2bc052785d06543e",
   "outputs": [
    {
     "data": {
      "text/plain": [
       "{'C': np.float64(1000.0),\n",
       " 'class_weight': 'balanced',\n",
       " 'dual': False,\n",
       " 'fit_intercept': True,\n",
       " 'intercept_scaling': 1,\n",
       " 'l1_ratio': None,\n",
       " 'max_iter': 1000,\n",
       " 'multi_class': 'deprecated',\n",
       " 'n_jobs': None,\n",
       " 'penalty': 'l1',\n",
       " 'random_state': 42,\n",
       " 'solver': 'liblinear',\n",
       " 'tol': 0.0001,\n",
       " 'verbose': 0,\n",
       " 'warm_start': False}"
      ]
     },
     "execution_count": 17,
     "metadata": {},
     "output_type": "execute_result"
    }
   ],
   "execution_count": 17
  },
  {
   "metadata": {
    "ExecuteTime": {
     "end_time": "2025-05-05T18:09:15.667696Z",
     "start_time": "2025-05-05T18:09:15.060656Z"
    }
   },
   "cell_type": "code",
   "source": [
    "best_lr.fit(X_train, y_train)\n",
    "y_pred = best_lr.predict(X_test)\n",
    "y_proba = best_lr.predict_proba(X_test)[:,1]"
   ],
   "id": "79cca0f79110e3b",
   "outputs": [],
   "execution_count": 18
  },
  {
   "metadata": {
    "ExecuteTime": {
     "end_time": "2025-05-05T18:09:16.950826Z",
     "start_time": "2025-05-05T18:09:16.928866Z"
    }
   },
   "cell_type": "code",
   "source": [
    "print(\"Classification Report:\")\n",
    "print(classification_report(y_test, y_pred))\n"
   ],
   "id": "3eb669d28f88ff72",
   "outputs": [
    {
     "name": "stdout",
     "output_type": "stream",
     "text": [
      "Classification Report:\n",
      "              precision    recall  f1-score   support\n",
      "\n",
      "           0       0.50      0.31      0.38        16\n",
      "           1       0.72      0.85      0.78        34\n",
      "\n",
      "    accuracy                           0.68        50\n",
      "   macro avg       0.61      0.58      0.58        50\n",
      "weighted avg       0.65      0.68      0.66        50\n",
      "\n"
     ]
    }
   ],
   "execution_count": 19
  },
  {
   "metadata": {
    "ExecuteTime": {
     "end_time": "2025-05-05T18:09:40.579021Z",
     "start_time": "2025-05-05T18:09:40.562769Z"
    }
   },
   "cell_type": "code",
   "source": [
    "print(f\"\\nROC-AUC: {roc_auc_score(y_test, y_proba):.3f}\")\n",
    "print(f\"PR-AUC: {average_precision_score(y_test, y_proba):.3f}\")"
   ],
   "id": "8e97a238d00f31e5",
   "outputs": [
    {
     "name": "stdout",
     "output_type": "stream",
     "text": [
      "\n",
      "ROC-AUC: 0.697\n",
      "PR-AUC: 0.829\n"
     ]
    }
   ],
   "execution_count": 20
  },
  {
   "metadata": {
    "ExecuteTime": {
     "end_time": "2025-05-05T18:09:46.819973Z",
     "start_time": "2025-05-05T18:09:46.176999Z"
    }
   },
   "cell_type": "code",
   "source": [
    "plt.figure(figsize=(15, 5))\n",
    "\n",
    "plt.subplot(1, 3, 1)\n",
    "fpr, tpr, roc_threshold = roc_curve(y_test, y_proba)\n",
    "plt.plot(fpr, tpr, label=f'ROC (AUC = {roc_auc_score(y_test, y_proba):.2f})')\n",
    "plt.plot([0, 1], [0, 1], 'k--')\n",
    "plt.xlabel('False Positive Rate')\n",
    "plt.ylabel('True Positive Rate')\n",
    "plt.legend()\n",
    "\n",
    "plt.subplot(1, 3, 2)\n",
    "precision, recall, thresholds = precision_recall_curve(y_test, y_proba)\n",
    "plt.plot(recall, precision, label=f'PR (AUC = {average_precision_score(y_test, y_proba):.2f})')\n",
    "plt.xlabel('Recall')\n",
    "plt.ylabel('Precision')\n",
    "plt.legend()\n",
    "\n",
    "plt.subplot(1, 3, 3)\n",
    "cm = confusion_matrix(y_test, y_pred)\n",
    "sns.heatmap(cm, annot=True, fmt='d', cmap='Blues',\n",
    "            xticklabels=['Control', 'PD'],\n",
    "            yticklabels=['Control', 'PD'])\n",
    "plt.xlabel('Predicted')\n",
    "plt.ylabel('True')\n",
    "\n",
    "plt.tight_layout()\n",
    "plt.show()"
   ],
   "id": "5fe90a364fc7f5d",
   "outputs": [
    {
     "data": {
      "text/plain": [
       "<Figure size 1500x500 with 4 Axes>"
      ],
      "image/png": "[encoded data removed]"
     },
     "metadata": {},
     "output_type": "display_data"
    }
   ],
   "execution_count": 21
  },
  {
   "metadata": {
    "ExecuteTime": {
     "end_time": "2025-05-05T18:10:41.794073Z",
     "start_time": "2025-05-05T18:10:38.433720Z"
    }
   },
   "cell_type": "code",
   "source": [
    "cv = StratifiedKFold(n_splits=10, shuffle=True, random_state=42)\n",
    "cv_scores = {'roc_auc': [], 'pr_auc': []}\n",
    "\n",
    "for train_idx, val_idx in cv.split(X, y):\n",
    "    X_train, X_val = X.iloc[train_idx], X.iloc[val_idx]\n",
    "    y_train, y_val = y.iloc[train_idx], y.iloc[val_idx]\n",
    "\n",
    "    lr_pipeline.fit(X_train, y_train)\n",
    "    y_proba = lr_pipeline.predict_proba(X_val)[:, 1]\n",
    "\n",
    "    cv_scores['roc_auc'].append(roc_auc_score(y_val, y_proba))\n",
    "    cv_scores['pr_auc'].append(average_precision_score(y_val, y_proba))\n",
    "\n",
    "print(\"\\nCross-validation results:\")\n",
    "print(f\"ROC-AUC: {np.mean(cv_scores['roc_auc']):.3f} ± {np.std(cv_scores['roc_auc']):.3f}\")\n",
    "print(f\"PR-AUC: {np.mean(cv_scores['pr_auc']):.3f} ± {np.std(cv_scores['pr_auc']):.3f}\")\n"
   ],
   "id": "d0862864167a294a",
   "outputs": [
    {
     "name": "stdout",
     "output_type": "stream",
     "text": [
      "\n",
      "Cross-validation results:\n",
      "ROC-AUC: 0.722 ± 0.110\n",
      "PR-AUC: 0.854 ± 0.060\n"
     ]
    }
   ],
   "execution_count": 22
  },
  {
   "metadata": {},
   "cell_type": "code",
   "outputs": [],
   "execution_count": null,
   "source": "",
   "id": "fa557364b6157bdf"
  }
 ],
 "metadata": {
  "kernelspec": {
   "display_name": "Python 3",
   "language": "python",
   "name": "python3"
  },
  "language_info": {
   "codemirror_mode": {
    "name": "ipython",
    "version": 2
   },
   "file_extension": ".py",
   "mimetype": "text/x-python",
   "name": "python",
   "nbconvert_exporter": "python",
   "pygments_lexer": "ipython2",
   "version": "2.7.6"
  }
 },
 "nbformat": 4,
 "nbformat_minor": 5
}
