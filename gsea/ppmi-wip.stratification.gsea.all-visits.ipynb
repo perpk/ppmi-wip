{
 "cells": [
  {
   "metadata": {
    "ExecuteTime": {
     "end_time": "2025-05-14T16:43:26.712279Z",
     "start_time": "2025-05-14T16:43:12.600048Z"
    }
   },
   "cell_type": "code",
   "source": [
    "import pandas as pd\n",
    "import anndata as ad\n",
    "import numpy as np\n",
    "import gseapy\n"
   ],
   "id": "50b6d732434a24e0",
   "outputs": [
    {
     "name": "stderr",
     "output_type": "stream",
     "text": [
      "\n",
      "A module that was compiled using NumPy 1.x cannot be run in\n",
      "NumPy 2.2.4 as it may crash. To support both 1.x and 2.x\n",
      "versions of NumPy, modules must be compiled with NumPy 2.0.\n",
      "Some module may need to rebuild instead e.g. with 'pybind11>=2.12'.\n",
      "\n",
      "If you are a user of the module, the easiest solution will be to\n",
      "downgrade to 'numpy<2' or try to upgrade the affected module.\n",
      "We expect that some modules will need time to support NumPy 2.\n",
      "\n",
      "Traceback (most recent call last):  File \"<frozen runpy>\", line 198, in _run_module_as_main\n",
      "  File \"<frozen runpy>\", line 88, in _run_code\n",
      "  File \"/Users/kpax/Documents/aep/study/MSC/lab/ppmi-wip/ppmi-env/lib/python3.12/site-packages/ipykernel_launcher.py\", line 18, in <module>\n",
      "    app.launch_new_instance()\n",
      "  File \"/Users/kpax/Documents/aep/study/MSC/lab/ppmi-wip/ppmi-env/lib/python3.12/site-packages/traitlets/config/application.py\", line 1075, in launch_instance\n",
      "    app.start()\n",
      "  File \"/Users/kpax/Documents/aep/study/MSC/lab/ppmi-wip/ppmi-env/lib/python3.12/site-packages/ipykernel/kernelapp.py\", line 739, in start\n",
      "    self.io_loop.start()\n",
      "  File \"/Users/kpax/Documents/aep/study/MSC/lab/ppmi-wip/ppmi-env/lib/python3.12/site-packages/tornado/platform/asyncio.py\", line 205, in start\n",
      "    self.asyncio_loop.run_forever()\n",
      "  File \"/opt/anaconda3/lib/python3.12/asyncio/base_events.py\", line 639, in run_forever\n",
      "    self._run_once()\n",
      "  File \"/opt/anaconda3/lib/python3.12/asyncio/base_events.py\", line 1985, in _run_once\n",
      "    handle._run()\n",
      "  File \"/opt/anaconda3/lib/python3.12/asyncio/events.py\", line 88, in _run\n",
      "    self._context.run(self._callback, *self._args)\n",
      "  File \"/Users/kpax/Documents/aep/study/MSC/lab/ppmi-wip/ppmi-env/lib/python3.12/site-packages/ipykernel/kernelbase.py\", line 545, in dispatch_queue\n",
      "    await self.process_one()\n",
      "  File \"/Users/kpax/Documents/aep/study/MSC/lab/ppmi-wip/ppmi-env/lib/python3.12/site-packages/ipykernel/kernelbase.py\", line 534, in process_one\n",
      "    await dispatch(*args)\n",
      "  File \"/Users/kpax/Documents/aep/study/MSC/lab/ppmi-wip/ppmi-env/lib/python3.12/site-packages/ipykernel/kernelbase.py\", line 437, in dispatch_shell\n",
      "    await result\n",
      "  File \"/Users/kpax/Documents/aep/study/MSC/lab/ppmi-wip/ppmi-env/lib/python3.12/site-packages/ipykernel/ipkernel.py\", line 362, in execute_request\n",
      "    await super().execute_request(stream, ident, parent)\n",
      "  File \"/Users/kpax/Documents/aep/study/MSC/lab/ppmi-wip/ppmi-env/lib/python3.12/site-packages/ipykernel/kernelbase.py\", line 778, in execute_request\n",
      "    reply_content = await reply_content\n",
      "  File \"/Users/kpax/Documents/aep/study/MSC/lab/ppmi-wip/ppmi-env/lib/python3.12/site-packages/ipykernel/ipkernel.py\", line 449, in do_execute\n",
      "    res = shell.run_cell(\n",
      "  File \"/Users/kpax/Documents/aep/study/MSC/lab/ppmi-wip/ppmi-env/lib/python3.12/site-packages/ipykernel/zmqshell.py\", line 549, in run_cell\n",
      "    return super().run_cell(*args, **kwargs)\n",
      "  File \"/Users/kpax/Documents/aep/study/MSC/lab/ppmi-wip/ppmi-env/lib/python3.12/site-packages/IPython/core/interactiveshell.py\", line 3098, in run_cell\n",
      "    result = self._run_cell(\n",
      "  File \"/Users/kpax/Documents/aep/study/MSC/lab/ppmi-wip/ppmi-env/lib/python3.12/site-packages/IPython/core/interactiveshell.py\", line 3153, in _run_cell\n",
      "    result = runner(coro)\n",
      "  File \"/Users/kpax/Documents/aep/study/MSC/lab/ppmi-wip/ppmi-env/lib/python3.12/site-packages/IPython/core/async_helpers.py\", line 128, in _pseudo_sync_runner\n",
      "    coro.send(None)\n",
      "  File \"/Users/kpax/Documents/aep/study/MSC/lab/ppmi-wip/ppmi-env/lib/python3.12/site-packages/IPython/core/interactiveshell.py\", line 3362, in run_cell_async\n",
      "    has_raised = await self.run_ast_nodes(code_ast.body, cell_name,\n",
      "  File \"/Users/kpax/Documents/aep/study/MSC/lab/ppmi-wip/ppmi-env/lib/python3.12/site-packages/IPython/core/interactiveshell.py\", line 3607, in run_ast_nodes\n",
      "    if await self.run_code(code, result, async_=asy):\n",
      "  File \"/Users/kpax/Documents/aep/study/MSC/lab/ppmi-wip/ppmi-env/lib/python3.12/site-packages/IPython/core/interactiveshell.py\", line 3667, in run_code\n",
      "    exec(code_obj, self.user_global_ns, self.user_ns)\n",
      "  File \"/var/folders/qb/t7qv2b9n33n2xzbjvg_dk_4c0000gn/T/ipykernel_52958/1573294865.py\", line 2, in <module>\n",
      "    import anndata as ad\n",
      "  File \"/Users/kpax/Documents/aep/study/MSC/lab/ppmi-wip/ppmi-env/lib/python3.12/site-packages/anndata/__init__.py\", line 29, in <module>\n",
      "    from .io import read_h5ad, read_zarr\n",
      "  File \"/Users/kpax/Documents/aep/study/MSC/lab/ppmi-wip/ppmi-env/lib/python3.12/site-packages/anndata/io.py\", line 7, in <module>\n",
      "    from ._io.h5ad import read_h5ad, write_h5ad\n",
      "  File \"/Users/kpax/Documents/aep/study/MSC/lab/ppmi-wip/ppmi-env/lib/python3.12/site-packages/anndata/_io/h5ad.py\", line 25, in <module>\n",
      "    from ..experimental import read_dispatched\n",
      "  File \"/Users/kpax/Documents/aep/study/MSC/lab/ppmi-wip/ppmi-env/lib/python3.12/site-packages/anndata/experimental/__init__.py\", line 12, in <module>\n",
      "    from .pytorch import AnnLoader\n",
      "  File \"/Users/kpax/Documents/aep/study/MSC/lab/ppmi-wip/ppmi-env/lib/python3.12/site-packages/anndata/experimental/pytorch/__init__.py\", line 3, in <module>\n",
      "    from ._annloader import AnnLoader\n",
      "  File \"/Users/kpax/Documents/aep/study/MSC/lab/ppmi-wip/ppmi-env/lib/python3.12/site-packages/anndata/experimental/pytorch/_annloader.py\", line 19, in <module>\n",
      "    import torch\n",
      "  File \"/Users/kpax/Documents/aep/study/MSC/lab/ppmi-wip/ppmi-env/lib/python3.12/site-packages/torch/__init__.py\", line 1477, in <module>\n",
      "    from .functional import *  # noqa: F403\n",
      "  File \"/Users/kpax/Documents/aep/study/MSC/lab/ppmi-wip/ppmi-env/lib/python3.12/site-packages/torch/functional.py\", line 9, in <module>\n",
      "    import torch.nn.functional as F\n",
      "  File \"/Users/kpax/Documents/aep/study/MSC/lab/ppmi-wip/ppmi-env/lib/python3.12/site-packages/torch/nn/__init__.py\", line 1, in <module>\n",
      "    from .modules import *  # noqa: F403\n",
      "  File \"/Users/kpax/Documents/aep/study/MSC/lab/ppmi-wip/ppmi-env/lib/python3.12/site-packages/torch/nn/modules/__init__.py\", line 35, in <module>\n",
      "    from .transformer import TransformerEncoder, TransformerDecoder, \\\n",
      "  File \"/Users/kpax/Documents/aep/study/MSC/lab/ppmi-wip/ppmi-env/lib/python3.12/site-packages/torch/nn/modules/transformer.py\", line 20, in <module>\n",
      "    device: torch.device = torch.device(torch._C._get_default_device()),  # torch.device('cpu'),\n",
      "/Users/kpax/Documents/aep/study/MSC/lab/ppmi-wip/ppmi-env/lib/python3.12/site-packages/torch/nn/modules/transformer.py:20: UserWarning: Failed to initialize NumPy: _ARRAY_API not found (Triggered internally at /Users/runner/work/pytorch/pytorch/pytorch/torch/csrc/utils/tensor_numpy.cpp:84.)\n",
      "  device: torch.device = torch.device(torch._C._get_default_device()),  # torch.device('cpu'),\n"
     ]
    }
   ],
   "execution_count": 26
  },
  {
   "metadata": {
    "ExecuteTime": {
     "end_time": "2025-05-13T21:50:55.535779Z",
     "start_time": "2025-05-13T21:50:55.528543Z"
    }
   },
   "cell_type": "code",
   "source": "deg_data_path = \"/Users/kpax/Documents/aep/study/MSC/lab/PPMI_Project_133_RNASeq/dge_stratified/\"",
   "id": "6e0a2a0c55809936",
   "outputs": [],
   "execution_count": 2
  },
  {
   "metadata": {},
   "cell_type": "markdown",
   "source": "# Gene Set Enrichment Analysis",
   "id": "de39bb191356cd4b"
  },
  {
   "metadata": {},
   "cell_type": "markdown",
   "source": "## Males 50-70 yo.",
   "id": "62147f136453fa91"
  },
  {
   "metadata": {},
   "cell_type": "code",
   "outputs": [],
   "execution_count": null,
   "source": "ppmi_ad = ad.read_h5ad(\"/Users/kpax/Documents/aep/study/MSC/lab/PPMI_Project_133_RNASeq/ppmi_adata.h5ad\")",
   "id": "3e386210ed75b83c"
  },
  {
   "metadata": {
    "ExecuteTime": {
     "end_time": "2025-05-14T17:57:09.609004Z",
     "start_time": "2025-05-14T17:57:09.584885Z"
    }
   },
   "cell_type": "code",
   "source": [
    "\n",
    "mask = ((ppmi_ad.obs['Age_Group'] == '50-70') &\n",
    "        (ppmi_ad.obs['Gender'] == 'Male') &\n",
    "        (ppmi_ad.obs['Diagnosis'].isin(['PD', 'Control'])))\n",
    "ppmi_ad = ppmi_ad[mask]"
   ],
   "id": "1d1c2e573ad82113",
   "outputs": [],
   "execution_count": 102
  },
  {
   "metadata": {
    "ExecuteTime": {
     "end_time": "2025-05-14T16:43:59.235165Z",
     "start_time": "2025-05-14T16:43:59.213438Z"
    }
   },
   "cell_type": "code",
   "outputs": [],
   "execution_count": 28,
   "source": "symbol_ensembl_mapping = ppmi_ad.varm['symbol_ensembl_mapping']",
   "id": "66d6c8786ee5e871"
  },
  {
   "metadata": {
    "collapsed": true,
    "ExecuteTime": {
     "end_time": "2025-05-14T16:46:09.186568Z",
     "start_time": "2025-05-14T16:46:08.944802Z"
    }
   },
   "cell_type": "code",
   "outputs": [],
   "execution_count": 35,
   "source": "deg_males_50_70 = pd.read_csv(f\"{deg_data_path}/DEGs_stratified_Male_BL_50-70.csv\", index_col=0)",
   "id": "initial_id"
  },
  {
   "metadata": {
    "ExecuteTime": {
     "end_time": "2025-05-14T16:47:18.272661Z",
     "start_time": "2025-05-14T16:47:18.200417Z"
    }
   },
   "cell_type": "code",
   "source": "deg_males_50_70 = deg_males_50_70.merge(symbol_ensembl_mapping, left_index=True, right_index=True)",
   "id": "8afc1cd918e51642",
   "outputs": [],
   "execution_count": 39
  },
  {
   "metadata": {
    "ExecuteTime": {
     "end_time": "2025-05-14T16:52:25.049886Z",
     "start_time": "2025-05-14T16:52:25.030901Z"
    }
   },
   "cell_type": "code",
   "source": "deg_sign = deg_males_50_70[(np.abs(deg_males_50_70['log2FoldChange']) >= 0.5) & (deg_males_50_70['padj'] <= 0.05)]",
   "id": "96412e2af1c8bc82",
   "outputs": [],
   "execution_count": 46
  },
  {
   "metadata": {
    "ExecuteTime": {
     "end_time": "2025-05-14T16:52:42.132485Z",
     "start_time": "2025-05-14T16:52:42.125196Z"
    }
   },
   "cell_type": "code",
   "source": "ranked_genes = deg_sign.set_index('gene_symbol')['stat'].sort_values(ascending=False)",
   "id": "9febb8824199cc0e",
   "outputs": [],
   "execution_count": 50
  },
  {
   "metadata": {
    "ExecuteTime": {
     "end_time": "2025-05-14T16:52:43.007382Z",
     "start_time": "2025-05-14T16:52:43.001862Z"
    }
   },
   "cell_type": "code",
   "source": "ranked_genes = ranked_genes[~ranked_genes.isna()]",
   "id": "92cd646484b71cbe",
   "outputs": [],
   "execution_count": 51
  },
  {
   "metadata": {
    "ExecuteTime": {
     "end_time": "2025-05-14T16:52:43.634403Z",
     "start_time": "2025-05-14T16:52:43.624276Z"
    }
   },
   "cell_type": "code",
   "source": "ranked_genes",
   "id": "da8c4e02e8b7f2a5",
   "outputs": [
    {
     "data": {
      "text/plain": [
       "gene_symbol\n",
       "RN7SL60P           5.686495\n",
       "LINC03126          4.588187\n",
       "ENSG00000281741    4.451634\n",
       "LINC00355          4.382978\n",
       "SEC14L5           -3.940068\n",
       "ENSG00000261003   -3.952822\n",
       "ENSG00000275898   -3.989781\n",
       "PTPRG             -4.005222\n",
       "FOSB              -4.030188\n",
       "COL11A2           -4.034842\n",
       "FAM186B           -4.064581\n",
       "RN7SL564P         -4.067679\n",
       "AP3B2             -4.086733\n",
       "MPL               -4.169189\n",
       "SAMD14            -4.177679\n",
       "HBA2              -4.199735\n",
       "GP1BA             -4.203020\n",
       "HSALR1            -4.247269\n",
       "RN7SL126P         -4.258760\n",
       "H2AC5P            -4.268572\n",
       "RN7SL210P         -4.314149\n",
       "LOC124908527      -4.339488\n",
       "VWCE              -4.468228\n",
       "ENSG00000262495   -4.564740\n",
       "EGR1              -4.631282\n",
       "RN7SL664P         -4.708417\n",
       "RNVU1-32          -4.848939\n",
       "ENSG00000278917   -5.027044\n",
       "NRGN              -5.108393\n",
       "RNU1-2            -5.286429\n",
       "RN7SL692P         -5.573591\n",
       "RN7SKP90          -5.686595\n",
       "KRT79             -6.372922\n",
       "XIST              -7.444316\n",
       "Name: stat, dtype: float64"
      ]
     },
     "execution_count": 52,
     "metadata": {},
     "output_type": "execute_result"
    }
   ],
   "execution_count": 52
  },
  {
   "metadata": {},
   "cell_type": "markdown",
   "source": "https://www.gsea-msigdb.org/gsea/msigdb/human/collections.jsp#H",
   "id": "260a4934ae631dc8"
  },
  {
   "metadata": {
    "ExecuteTime": {
     "end_time": "2025-05-14T17:13:40.388475Z",
     "start_time": "2025-05-14T17:13:40.380815Z"
    }
   },
   "cell_type": "code",
   "source": [
    "gmt_file_path = \"/Users/kpax/Documents/aep/study/MSC/lab/PPMI_Project_133_RNASeq/gsea/gmt\"\n",
    "c2_all = \"c2.all.v2024.1.Hs.symbols.gmt\"\n",
    "c3_all = \"c3.all.v2024.1.Hs.symbols.gmt\"\n",
    "c5_all = \"c5.all.v2024.1.Hs.symbols.gmt\"\n",
    "c7_all = \"c7.all.v2024.1.Hs.symbols.gmt\"\n",
    "hallmark_all = \"h.all.v2024.1.Hs.symbols.gmt\"\n"
   ],
   "id": "2f8c84becbac9777",
   "outputs": [],
   "execution_count": 59
  },
  {
   "metadata": {
    "ExecuteTime": {
     "end_time": "2025-05-14T17:19:11.403885Z",
     "start_time": "2025-05-14T17:19:11.395442Z"
    }
   },
   "cell_type": "code",
   "source": [
    "ranked_genes = ranked_genes.dropna()\n",
    "ranked_genes = ranked_genes.sort_values(ascending=False, key=abs)"
   ],
   "id": "7b0b7631ddf3f74c",
   "outputs": [],
   "execution_count": 67
  },
  {
   "metadata": {
    "ExecuteTime": {
     "end_time": "2025-05-14T17:27:28.981194Z",
     "start_time": "2025-05-14T17:27:28.970642Z"
    }
   },
   "cell_type": "code",
   "source": "ranked_genes",
   "id": "4647efbdb9072fe9",
   "outputs": [
    {
     "data": {
      "text/plain": [
       "gene_symbol\n",
       "XIST              -7.444316\n",
       "KRT79             -6.372922\n",
       "RN7SKP90          -5.686595\n",
       "RN7SL60P           5.686495\n",
       "RN7SL692P         -5.573591\n",
       "RNU1-2            -5.286429\n",
       "NRGN              -5.108393\n",
       "ENSG00000278917   -5.027044\n",
       "RNVU1-32          -4.848939\n",
       "RN7SL664P         -4.708417\n",
       "EGR1              -4.631282\n",
       "LINC03126          4.588187\n",
       "ENSG00000262495   -4.564740\n",
       "VWCE              -4.468228\n",
       "ENSG00000281741    4.451634\n",
       "LINC00355          4.382978\n",
       "LOC124908527      -4.339488\n",
       "RN7SL210P         -4.314149\n",
       "H2AC5P            -4.268572\n",
       "RN7SL126P         -4.258760\n",
       "HSALR1            -4.247269\n",
       "GP1BA             -4.203020\n",
       "HBA2              -4.199735\n",
       "SAMD14            -4.177679\n",
       "MPL               -4.169189\n",
       "AP3B2             -4.086733\n",
       "RN7SL564P         -4.067679\n",
       "FAM186B           -4.064581\n",
       "COL11A2           -4.034842\n",
       "FOSB              -4.030188\n",
       "PTPRG             -4.005222\n",
       "ENSG00000275898   -3.989781\n",
       "ENSG00000261003   -3.952822\n",
       "SEC14L5           -3.940068\n",
       "Name: stat, dtype: float64"
      ]
     },
     "execution_count": 83,
     "metadata": {},
     "output_type": "execute_result"
    }
   ],
   "execution_count": 83
  },
  {
   "metadata": {
    "ExecuteTime": {
     "end_time": "2025-05-14T17:27:55.046585Z",
     "start_time": "2025-05-14T17:27:38.563954Z"
    }
   },
   "cell_type": "code",
   "source": [
    "import gseapy as gp\n",
    "enr = gp.enrichr(gene_list=ranked_genes.index.tolist(),\n",
    "                 gene_sets=['MSigDB_Hallmark_2020',\n",
    "                            'KEGG_2021_Human',\n",
    "                            'WikiPathways_2024_Human',\n",
    "                            'Human_Phenotype_Ontology',\n",
    "                            'GO_Biological_Process_2023',\n",
    "                            'GO_Molecular_Function_2023',\n",
    "                            'GO_Cellular_Component_2023',\n",
    "                            'SynGO_2024',\n",
    "                            'OMIM_Disease'],\n",
    "                 organism='human')"
   ],
   "id": "a239dfc368bf8a6f",
   "outputs": [],
   "execution_count": 84
  },
  {
   "metadata": {
    "ExecuteTime": {
     "end_time": "2025-05-14T17:39:45.255116Z",
     "start_time": "2025-05-14T17:39:45.248512Z"
    }
   },
   "cell_type": "code",
   "source": "enr_results_sorted = enr.results.sort_values(by='Adjusted P-value', ascending=True)",
   "id": "be6a21de3321b102",
   "outputs": [],
   "execution_count": 88
  },
  {
   "metadata": {
    "ExecuteTime": {
     "end_time": "2025-05-14T17:39:48.746291Z",
     "start_time": "2025-05-14T17:39:48.678101Z"
    }
   },
   "cell_type": "code",
   "source": "enr_results_sorted",
   "id": "af24e8057df07644",
   "outputs": [
    {
     "data": {
      "text/plain": [
       "                       Gene_set  \\\n",
       "59     Human_Phenotype_Ontology   \n",
       "60     Human_Phenotype_Ontology   \n",
       "61     Human_Phenotype_Ontology   \n",
       "62     Human_Phenotype_Ontology   \n",
       "63     Human_Phenotype_Ontology   \n",
       "..                          ...   \n",
       "276  GO_Biological_Process_2023   \n",
       "277  GO_Biological_Process_2023   \n",
       "278  GO_Biological_Process_2023   \n",
       "314  GO_Cellular_Component_2023   \n",
       "315  GO_Cellular_Component_2023   \n",
       "\n",
       "                                                  Term Overlap   P-value  \\\n",
       "59                   Spontaneous abortion (HP:0005268)    2/11  0.000153   \n",
       "60                Bruising susceptibility (HP:0000978)    3/79  0.000325   \n",
       "61   Abnormality of the heme biosynthetic pathway (...    2/17  0.000375   \n",
       "62                      Gingival bleeding (HP:0000225)    2/20  0.000523   \n",
       "63                      Abnormal delivery (HP:0001787)    2/28  0.001031   \n",
       "..                                                 ...     ...       ...   \n",
       "276         Regulation Of Gene Expression (GO:0010468)  1/1127  0.861053   \n",
       "277  Regulation Of Transcription By RNA Polymerase ...  2/2028  0.872631   \n",
       "278  Positive Regulation Of DNA-templated Transcrip...  1/1243  0.887350   \n",
       "314  Intracellular Membrane-Bounded Organelle (GO:0...  3/5175  0.996936   \n",
       "315                               Nucleus (GO:0005634)  2/4487  0.998089   \n",
       "\n",
       "     Adjusted P-value  Old P-value  Old Adjusted P-value  Odds Ratio  \\\n",
       "59           0.015017            0                     0  138.590278   \n",
       "60           0.015017            0                     0   25.326825   \n",
       "61           0.015017            0                     0   83.129167   \n",
       "62           0.015685            0                     0   69.263889   \n",
       "63           0.024752            0                     0   47.932692   \n",
       "..                ...          ...                   ...         ...   \n",
       "276          0.878626            0                     0    0.507024   \n",
       "277          0.881445            0                     0    0.553430   \n",
       "278          0.887350            0                     0    0.456839   \n",
       "314          0.998089            0                     0    0.276813   \n",
       "315          0.998089            0                     0    0.215733   \n",
       "\n",
       "     Combined Score            Genes  \n",
       "59      1217.704538         MPL;XIST  \n",
       "60       203.420634   MPL;GP1BA;HBA2  \n",
       "61       655.675615         MPL;HBA2  \n",
       "62       523.375753        MPL;GP1BA  \n",
       "63       329.628496         MPL;XIST  \n",
       "..              ...              ...  \n",
       "276        0.075850             EGR1  \n",
       "277        0.075401        EGR1;FOSB  \n",
       "278        0.054600             EGR1  \n",
       "314        0.000850  EGR1;FOSB;AP3B2  \n",
       "315        0.000413        EGR1;FOSB  \n",
       "\n",
       "[324 rows x 10 columns]"
      ],
      "text/html": [
       "<div>\n",
       "<style scoped>\n",
       "    .dataframe tbody tr th:only-of-type {\n",
       "        vertical-align: middle;\n",
       "    }\n",
       "\n",
       "    .dataframe tbody tr th {\n",
       "        vertical-align: top;\n",
       "    }\n",
       "\n",
       "    .dataframe thead th {\n",
       "        text-align: right;\n",
       "    }\n",
       "</style>\n",
       "<table border=\"1\" class=\"dataframe\">\n",
       "  <thead>\n",
       "    <tr style=\"text-align: right;\">\n",
       "      <th></th>\n",
       "      <th>Gene_set</th>\n",
       "      <th>Term</th>\n",
       "      <th>Overlap</th>\n",
       "      <th>P-value</th>\n",
       "      <th>Adjusted P-value</th>\n",
       "      <th>Old P-value</th>\n",
       "      <th>Old Adjusted P-value</th>\n",
       "      <th>Odds Ratio</th>\n",
       "      <th>Combined Score</th>\n",
       "      <th>Genes</th>\n",
       "    </tr>\n",
       "  </thead>\n",
       "  <tbody>\n",
       "    <tr>\n",
       "      <th>59</th>\n",
       "      <td>Human_Phenotype_Ontology</td>\n",
       "      <td>Spontaneous abortion (HP:0005268)</td>\n",
       "      <td>2/11</td>\n",
       "      <td>0.000153</td>\n",
       "      <td>0.015017</td>\n",
       "      <td>0</td>\n",
       "      <td>0</td>\n",
       "      <td>138.590278</td>\n",
       "      <td>1217.704538</td>\n",
       "      <td>MPL;XIST</td>\n",
       "    </tr>\n",
       "    <tr>\n",
       "      <th>60</th>\n",
       "      <td>Human_Phenotype_Ontology</td>\n",
       "      <td>Bruising susceptibility (HP:0000978)</td>\n",
       "      <td>3/79</td>\n",
       "      <td>0.000325</td>\n",
       "      <td>0.015017</td>\n",
       "      <td>0</td>\n",
       "      <td>0</td>\n",
       "      <td>25.326825</td>\n",
       "      <td>203.420634</td>\n",
       "      <td>MPL;GP1BA;HBA2</td>\n",
       "    </tr>\n",
       "    <tr>\n",
       "      <th>61</th>\n",
       "      <td>Human_Phenotype_Ontology</td>\n",
       "      <td>Abnormality of the heme biosynthetic pathway (...</td>\n",
       "      <td>2/17</td>\n",
       "      <td>0.000375</td>\n",
       "      <td>0.015017</td>\n",
       "      <td>0</td>\n",
       "      <td>0</td>\n",
       "      <td>83.129167</td>\n",
       "      <td>655.675615</td>\n",
       "      <td>MPL;HBA2</td>\n",
       "    </tr>\n",
       "    <tr>\n",
       "      <th>62</th>\n",
       "      <td>Human_Phenotype_Ontology</td>\n",
       "      <td>Gingival bleeding (HP:0000225)</td>\n",
       "      <td>2/20</td>\n",
       "      <td>0.000523</td>\n",
       "      <td>0.015685</td>\n",
       "      <td>0</td>\n",
       "      <td>0</td>\n",
       "      <td>69.263889</td>\n",
       "      <td>523.375753</td>\n",
       "      <td>MPL;GP1BA</td>\n",
       "    </tr>\n",
       "    <tr>\n",
       "      <th>63</th>\n",
       "      <td>Human_Phenotype_Ontology</td>\n",
       "      <td>Abnormal delivery (HP:0001787)</td>\n",
       "      <td>2/28</td>\n",
       "      <td>0.001031</td>\n",
       "      <td>0.024752</td>\n",
       "      <td>0</td>\n",
       "      <td>0</td>\n",
       "      <td>47.932692</td>\n",
       "      <td>329.628496</td>\n",
       "      <td>MPL;XIST</td>\n",
       "    </tr>\n",
       "    <tr>\n",
       "      <th>...</th>\n",
       "      <td>...</td>\n",
       "      <td>...</td>\n",
       "      <td>...</td>\n",
       "      <td>...</td>\n",
       "      <td>...</td>\n",
       "      <td>...</td>\n",
       "      <td>...</td>\n",
       "      <td>...</td>\n",
       "      <td>...</td>\n",
       "      <td>...</td>\n",
       "    </tr>\n",
       "    <tr>\n",
       "      <th>276</th>\n",
       "      <td>GO_Biological_Process_2023</td>\n",
       "      <td>Regulation Of Gene Expression (GO:0010468)</td>\n",
       "      <td>1/1127</td>\n",
       "      <td>0.861053</td>\n",
       "      <td>0.878626</td>\n",
       "      <td>0</td>\n",
       "      <td>0</td>\n",
       "      <td>0.507024</td>\n",
       "      <td>0.075850</td>\n",
       "      <td>EGR1</td>\n",
       "    </tr>\n",
       "    <tr>\n",
       "      <th>277</th>\n",
       "      <td>GO_Biological_Process_2023</td>\n",
       "      <td>Regulation Of Transcription By RNA Polymerase ...</td>\n",
       "      <td>2/2028</td>\n",
       "      <td>0.872631</td>\n",
       "      <td>0.881445</td>\n",
       "      <td>0</td>\n",
       "      <td>0</td>\n",
       "      <td>0.553430</td>\n",
       "      <td>0.075401</td>\n",
       "      <td>EGR1;FOSB</td>\n",
       "    </tr>\n",
       "    <tr>\n",
       "      <th>278</th>\n",
       "      <td>GO_Biological_Process_2023</td>\n",
       "      <td>Positive Regulation Of DNA-templated Transcrip...</td>\n",
       "      <td>1/1243</td>\n",
       "      <td>0.887350</td>\n",
       "      <td>0.887350</td>\n",
       "      <td>0</td>\n",
       "      <td>0</td>\n",
       "      <td>0.456839</td>\n",
       "      <td>0.054600</td>\n",
       "      <td>EGR1</td>\n",
       "    </tr>\n",
       "    <tr>\n",
       "      <th>314</th>\n",
       "      <td>GO_Cellular_Component_2023</td>\n",
       "      <td>Intracellular Membrane-Bounded Organelle (GO:0...</td>\n",
       "      <td>3/5175</td>\n",
       "      <td>0.996936</td>\n",
       "      <td>0.998089</td>\n",
       "      <td>0</td>\n",
       "      <td>0</td>\n",
       "      <td>0.276813</td>\n",
       "      <td>0.000850</td>\n",
       "      <td>EGR1;FOSB;AP3B2</td>\n",
       "    </tr>\n",
       "    <tr>\n",
       "      <th>315</th>\n",
       "      <td>GO_Cellular_Component_2023</td>\n",
       "      <td>Nucleus (GO:0005634)</td>\n",
       "      <td>2/4487</td>\n",
       "      <td>0.998089</td>\n",
       "      <td>0.998089</td>\n",
       "      <td>0</td>\n",
       "      <td>0</td>\n",
       "      <td>0.215733</td>\n",
       "      <td>0.000413</td>\n",
       "      <td>EGR1;FOSB</td>\n",
       "    </tr>\n",
       "  </tbody>\n",
       "</table>\n",
       "<p>324 rows × 10 columns</p>\n",
       "</div>"
      ]
     },
     "execution_count": 89,
     "metadata": {},
     "output_type": "execute_result"
    }
   ],
   "execution_count": 89
  },
  {
   "metadata": {
    "ExecuteTime": {
     "end_time": "2025-05-14T17:42:10.978378Z",
     "start_time": "2025-05-14T17:42:10.953131Z"
    }
   },
   "cell_type": "code",
   "source": "symbol_ensembl_mapping[symbol_ensembl_mapping['gene_symbol'] == 'XIST'].index",
   "id": "180310904ddba01f",
   "outputs": [
    {
     "data": {
      "text/plain": [
       "Index(['ENSG00000229807.11'], dtype='object', name='ensembl_id')"
      ]
     },
     "execution_count": 90,
     "metadata": {},
     "output_type": "execute_result"
    }
   ],
   "execution_count": 90
  },
  {
   "metadata": {
    "ExecuteTime": {
     "end_time": "2025-05-14T17:57:19.099511Z",
     "start_time": "2025-05-14T17:57:16.137844Z"
    }
   },
   "cell_type": "code",
   "source": [
    "import seaborn as sns\n",
    "import matplotlib.pyplot as plt\n",
    "expression_data = ppmi_ad.to_df()\n",
    "expression_data['Diagnosis'] = ppmi_ad.obs['Diagnosis']\n",
    "sns.violinplot(x='Diagnosis', y='ENSG00000229807.11', data=expression_data)\n",
    "plt.axhline(y=0, color='r', linestyle='--')  # Expected male baseline\n",
    "plt.title(\"XIST Expression in Male PD vs Controls\")"
   ],
   "id": "2d875fc2b1a72c2a",
   "outputs": [
    {
     "data": {
      "text/plain": [
       "Text(0.5, 1.0, 'XIST Expression in Male PD vs Controls')"
      ]
     },
     "execution_count": 103,
     "metadata": {},
     "output_type": "execute_result"
    },
    {
     "data": {
      "text/plain": [
       "<Figure size 640x480 with 1 Axes>"
      ],
      "image/png": "[encoded data removed]"
     },
     "metadata": {},
     "output_type": "display_data"
    }
   ],
   "execution_count": 103
  },
  {
   "metadata": {
    "ExecuteTime": {
     "end_time": "2025-05-14T17:57:26.574907Z",
     "start_time": "2025-05-14T17:57:26.543053Z"
    }
   },
   "cell_type": "code",
   "source": [
    "print(\"XIST expression summary:\")\n",
    "print(expression_data.groupby('Diagnosis')['ENSG00000229807.11'].describe())\n"
   ],
   "id": "b5a253492dcfb14",
   "outputs": [
    {
     "name": "stdout",
     "output_type": "stream",
     "text": [
      "XIST expression summary:\n",
      "           count        mean          std  min  25%  50%    75%      max\n",
      "Diagnosis                                                               \n",
      "Control    360.0  143.905556  1211.502280  0.0  1.0  3.0  15.25  18665.0\n",
      "PD         727.0   50.977992   415.879151  0.0  1.0  4.0  21.00  10223.0\n"
     ]
    },
    {
     "name": "stderr",
     "output_type": "stream",
     "text": [
      "/var/folders/qb/t7qv2b9n33n2xzbjvg_dk_4c0000gn/T/ipykernel_52958/2655181177.py:2: FutureWarning: The default of observed=False is deprecated and will be changed to True in a future version of pandas. Pass observed=False to retain current behavior or observed=True to adopt the future default and silence this warning.\n",
      "  print(expression_data.groupby('Diagnosis')['ENSG00000229807.11'].describe())\n"
     ]
    }
   ],
   "execution_count": 104
  },
  {
   "metadata": {},
   "cell_type": "code",
   "outputs": [],
   "execution_count": null,
   "source": "",
   "id": "17c979644732ae8a"
  }
 ],
 "metadata": {
  "kernelspec": {
   "display_name": "Python 3",
   "language": "python",
   "name": "python3"
  },
  "language_info": {
   "codemirror_mode": {
    "name": "ipython",
    "version": 2
   },
   "file_extension": ".py",
   "mimetype": "text/x-python",
   "name": "python",
   "nbconvert_exporter": "python",
   "pygments_lexer": "ipython2",
   "version": "2.7.6"
  }
 },
 "nbformat": 4,
 "nbformat_minor": 5
}
